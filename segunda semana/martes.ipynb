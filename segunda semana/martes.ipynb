{
 "cells": [
  {
   "cell_type": "code",
   "execution_count": null,
   "id": "78355c32",
   "metadata": {},
   "outputs": [
    {
     "name": "stdout",
     "output_type": "stream",
     "text": [
      "2\n",
      "3\n",
      "5\n",
      "7\n",
      "11\n",
      "13\n",
      "17\n"
     ]
    }
   ],
   "source": [
    "prime_list = [2,3,5,7,11,13,17]\n",
    "\n",
    "for i in prime_list:\n",
    "    print(i)"
   ]
  },
  {
   "cell_type": "code",
   "execution_count": 3,
   "id": "47035b74",
   "metadata": {},
   "outputs": [
    {
     "name": "stdout",
     "output_type": "stream",
     "text": [
      "[2, 3, 5, 7, 11]\n"
     ]
    }
   ],
   "source": [
    "prime_list = [2,3,5,7]\n",
    "\n",
    "prime_list.append(11)\n",
    "print(prime_list)"
   ]
  },
  {
   "cell_type": "code",
   "execution_count": null,
   "id": "8cda607d",
   "metadata": {},
   "outputs": [
    {
     "name": "stdout",
     "output_type": "stream",
     "text": [
      "3 * 2 = 6\n",
      "3 * 3 = 9\n",
      "3 * 4 = 12\n",
      "3 * 5 = 15\n",
      "3 * 6 = 18\n",
      "5 * 2 = 10\n",
      "5 * 3 = 15\n",
      "5 * 4 = 20\n",
      "5 * 5 = 25\n",
      "5 * 6 = 30\n",
      "7 * 2 = 14\n",
      "7 * 3 = 21\n",
      "7 * 4 = 28\n",
      "7 * 5 = 35\n",
      "7 * 6 = 42\n"
     ]
    }
   ],
   "source": [
    "lista1,lista2 = [3,5,7], [2,3,4,5,6]\n",
    "\n",
    "for i in lista1:\n",
    "    for j in lista2:\n",
    "        print(i, \"*\", j, \"=\", i*j)"
   ]
  },
  {
   "cell_type": "code",
   "execution_count": null,
   "id": "7c4bd588",
   "metadata": {},
   "outputs": [
    {
     "name": "stdout",
     "output_type": "stream",
     "text": [
      "La cadena mas corta es: abc\n"
     ]
    }
   ],
   "source": [
    "string_list = [\"abc\",\"bcd\",\"bcdefg\",\"abba\",\"cddc\",\"opq\"]\n",
    "menor = string_list[0]\n",
    "\n",
    "for i in range(len(string_list)):\n",
    "    if i == 0:\n",
    "        menor = string_list[i]\n",
    "    elif len(string_list[i]) < len(menor):\n",
    "        menor = string_list[i]\n",
    "\n",
    "print(\"La cadena mas corta es:\", menor)"
   ]
  },
  {
   "cell_type": "code",
   "execution_count": 17,
   "id": "83d8feab",
   "metadata": {},
   "outputs": [
    {
     "name": "stdout",
     "output_type": "stream",
     "text": [
      "La cadena mas larga es: bcdefg\n"
     ]
    }
   ],
   "source": [
    "string_list = [\"abc\",\"bcd\",\"bcdefg\",\"abba\",\"cddc\",\"opq\"]\n",
    "menor = string_list[0]\n",
    "\n",
    "for i in range(len(string_list)):\n",
    "    if i == 0:\n",
    "        menor = string_list[i]\n",
    "    elif len(string_list[i]) > len(menor):\n",
    "        menor = string_list[i]\n",
    "\n",
    "print(\"La cadena mas larga es:\", menor)"
   ]
  },
  {
   "cell_type": "code",
   "execution_count": 22,
   "id": "6670b83d",
   "metadata": {},
   "outputs": [
    {
     "name": "stdout",
     "output_type": "stream",
     "text": [
      "[[1, 2, 3, 4]]\n",
      "[[1, 2, 3, 4], [5, 6, 7, 8]]\n",
      "[[1, 2, 3, 4], [5, 6, 7, 8], [9, 10, 11, 12]]\n",
      "[[1, 2, 3, 4], [5, 6, 7, 8], [9, 10, 11, 12], [13, 14, 15, 16]]\n"
     ]
    }
   ],
   "source": [
    "lista1 = []\n",
    "\n",
    "numero = 1\n",
    "for i in range(4):\n",
    "    lista2 = []\n",
    "    for j in range(4):\n",
    "        lista2.append(numero)\n",
    "        numero += 1\n",
    "    lista1.append(lista2)\n",
    "    print(lista1)\n",
    "\n",
    "\n",
    "\n",
    "        "
   ]
  },
  {
   "cell_type": "code",
   "execution_count": null,
   "id": "98e407fd",
   "metadata": {},
   "outputs": [
    {
     "name": "stdout",
     "output_type": "stream",
     "text": [
      "nombre : Alejandro\n",
      "edad : 20\n",
      "company : samsung\n"
     ]
    }
   ],
   "source": [
    "dic = {\"nombre\":\"Alejandro\", \"edad\":20, \"company\":\"samsung\"}\n",
    "for key in dic:\n",
    "    print(key,\":\" ,dic[key])\n",
    "\n"
   ]
  },
  {
   "cell_type": "code",
   "execution_count": null,
   "id": "a05d08a1",
   "metadata": {},
   "outputs": [
    {
     "name": "stdout",
     "output_type": "stream",
     "text": [
      "nombre : Alejandro\n",
      "edad : 20\n",
      "company : samsung\n"
     ]
    }
   ],
   "source": [
    "dic = {\"nombre\":\"Alejandro\", \"edad\":20, \"company\":\"samsung\"}\n",
    "\n",
    "for key in dic:\n",
    "    print(key,\":\" ,dic[key])\n",
    "    \n",
    "valor = input(\"enter a name of the item: \")\n",
    "\n",
    "print(dic[valor])\n"
   ]
  },
  {
   "cell_type": "code",
   "execution_count": null,
   "id": "894cced0",
   "metadata": {},
   "outputs": [
    {
     "name": "stdout",
     "output_type": "stream",
     "text": [
      "coffe : 7\n",
      "pen : 3\n",
      "paper cup : 2\n",
      "milk : 1\n",
      "coke : 4\n",
      "book : 5\n",
      "1)stock 2)warehousing 3)release 4)exit\n"
     ]
    }
   ],
   "source": [
    "#ejercio 5\n",
    "\n",
    "tienda = {\"coffe\":7, \"pen\":3, \"paper cup\":2, \"milk\":1,\"coke\":4,\"book\":5}\n",
    "for key in tienda:\n",
    "    print(key,\":\" ,tienda[key])\n",
    "bucle =0\n",
    "\n",
    "while bucle != 4:\n",
    "    print(\"1)stock 2)warehousing 3)release 4)exit\")\n",
    "    comprar = int(input(\"que desea hacer: \"))\n",
    "    if comprar == 1:\n",
    "        print(\"hola\")\n",
    "        \"\"\"valor = input(\"que producto desea: \")\n",
    "        print(\"El precio es: \", tienda[valor])\n",
    "        \"\"\"\n",
    "    bucle+=1\n",
    "\n",
    "print(\"gracias por su compra\")\n"
   ]
  }
 ],
 "metadata": {
  "kernelspec": {
   "display_name": "Python 3",
   "language": "python",
   "name": "python3"
  },
  "language_info": {
   "codemirror_mode": {
    "name": "ipython",
    "version": 3
   },
   "file_extension": ".py",
   "mimetype": "text/x-python",
   "name": "python",
   "nbconvert_exporter": "python",
   "pygments_lexer": "ipython3",
   "version": "3.13.7"
  }
 },
 "nbformat": 4,
 "nbformat_minor": 5
}
