{
 "cells": [
  {
   "cell_type": "code",
   "execution_count": null,
   "id": "98e407fd",
   "metadata": {},
   "outputs": [
    {
     "name": "stdout",
     "output_type": "stream",
     "text": [
      "nombre : Alejandro\n",
      "edad : 20\n",
      "company : samsung\n"
     ]
    }
   ],
   "source": [
    "#ejerci1cio 4\n",
    "dic = {\"nombre\":\"Alejandro\", \"edad\":20, \"company\":\"samsung\"}\n",
    "for key in dic:\n",
    "    print(key,\":\" ,dic[key])\n",
    "\n"
   ]
  },
  {
   "cell_type": "code",
   "execution_count": null,
   "id": "a05d08a1",
   "metadata": {},
   "outputs": [
    {
     "name": "stdout",
     "output_type": "stream",
     "text": [
      "nombre : Alejandro\n",
      "edad : 20\n",
      "company : samsung\n"
     ]
    }
   ],
   "source": [
    "dic = {\"nombre\":\"Alejandro\", \"edad\":20, \"company\":\"samsung\"}\n",
    "\n",
    "for key in dic:\n",
    "    print(key,\":\" ,dic[key])\n",
    "    \n",
    "valor = input(\"enter a name of the item: \")\n",
    "\n",
    "print(dic[valor])\n"
   ]
  },
  {
   "cell_type": "code",
   "execution_count": null,
   "id": "a1e3183d",
   "metadata": {},
   "outputs": [],
   "source": [
    "#procesamiento de texto \n",
    "#split metodo que divide un string en una lista\n",
    "frase = \"hola como estas\"\n",
    "lista = frase.split(\" \")\n",
    "print(lista)"
   ]
  },
  {
   "cell_type": "code",
   "execution_count": null,
   "id": "ed9fc8c1",
   "metadata": {},
   "outputs": [],
   "source": [
    "#join metodo que une los elementos de una lista y los convierte en un string\n",
    "lista = [\"hola\", \"como\", \"estas\"]\n",
    "frase = \" \".join(lista)\n",
    "print(frase)"
   ]
  },
  {
   "cell_type": "code",
   "execution_count": null,
   "id": "cfae6abb",
   "metadata": {},
   "outputs": [],
   "source": [
    "#join metodo que une los elementos de una lista y los convierte en un string\n",
    "ista = [\"hola\", \"como\", \"estas\"]\n",
    "frase = \" \".join(lista)\n",
    "print(frase)"
   ]
  },
  {
   "cell_type": "code",
   "execution_count": null,
   "id": "8662bc5c",
   "metadata": {},
   "outputs": [],
   "source": [
    "#s.lower() metodo que convierte un string a minusculas\n",
    "s = \"Hola Como Estas\"\n",
    "print(s.lower())"
   ]
  },
  {
   "cell_type": "code",
   "execution_count": null,
   "id": "38049c34",
   "metadata": {},
   "outputs": [],
   "source": [
    "#s.upper() metodo que convierte un string a mayusculas\n",
    "s = \"Hola Como Estas\"\n",
    "print(s.upper())"
   ]
  },
  {
   "cell_type": "code",
   "execution_count": null,
   "id": "f341857f",
   "metadata": {},
   "outputs": [],
   "source": [
    "#s.capitalize() metodo que convierte la primera letra de un string a mayuscula\n",
    "s = \"hola como estas\"\n",
    "print(s.capitalize())"
   ]
  },
  {
   "cell_type": "code",
   "execution_count": null,
   "id": "4ac88d65",
   "metadata": {},
   "outputs": [],
   "source": [
    "#s.title() metodo que convierte la primera letra de cada palabra de un string a mayuscula\n",
    "s = \"hola como estas\"\n",
    "print(s.title())"
   ]
  },
  {
   "cell_type": "code",
   "execution_count": null,
   "id": "eb8461f1",
   "metadata": {},
   "outputs": [],
   "source": [
    "#s.strip() metodo que elimina los espacios en blanco al inicio y al final de un string\n",
    "s = \"   hola como estas   \"\n",
    "print(s.strip())"
   ]
  },
  {
   "cell_type": "code",
   "execution_count": null,
   "id": "894cced0",
   "metadata": {},
   "outputs": [
    {
     "name": "stdout",
     "output_type": "stream",
     "text": [
      "coffe : 7\n",
      "pen : 3\n",
      "paper cup : 2\n",
      "milk : 1\n",
      "coke : 4\n",
      "book : 5\n",
      "1)stock 2)warehousing 3)release 4)exit\n"
     ]
    }
   ],
   "source": [
    "#ejercio 5\n",
    "\n",
    "tienda = {\"coffe\":7, \"pen\":3, \"paper cup\":2, \"milk\":1,\"coke\":4,\"book\":5}\n",
    "for key in tienda:\n",
    "    print(key,\":\" ,tienda[key])\n",
    "bucle =0\n",
    "\n",
    "while bucle != 4:\n",
    "    print(\"1)stock 2)warehousing 3)release 4)exit\")\n",
    "    comprar = int(input(\"que desea hacer: \"))\n",
    "    if comprar == 1:\n",
    "        print(\"hola\")\n",
    "        \"\"\"valor = input(\"que producto desea: \")\n",
    "        print(\"El precio es: \", tienda[valor])\n",
    "        \"\"\"\n",
    "    bucle+=1\n",
    "\n",
    "print(\"gracias por su compra\")\n"
   ]
  }
 ],
 "metadata": {
  "kernelspec": {
   "display_name": "Python 3",
   "language": "python",
   "name": "python3"
  },
  "language_info": {
   "codemirror_mode": {
    "name": "ipython",
    "version": 3
   },
   "file_extension": ".py",
   "mimetype": "text/x-python",
   "name": "python",
   "nbconvert_exporter": "python",
   "pygments_lexer": "ipython3",
   "version": "3.13.7"
  }
 },
 "nbformat": 4,
 "nbformat_minor": 5
}
