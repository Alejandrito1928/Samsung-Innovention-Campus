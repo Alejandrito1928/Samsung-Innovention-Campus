{
 "cells": [
  {
   "cell_type": "code",
   "execution_count": 1,
   "id": "6ea13410",
   "metadata": {},
   "outputs": [
    {
     "name": "stdout",
     "output_type": "stream",
     "text": [
      "¡Instalación exitosa!\n",
      "Versión de Pandas: 2.3.3\n",
      "Versión de Matplotlib: 3.10.6\n",
      "Versión de Seaborn: 0.13.2\n"
     ]
    }
   ],
   "source": [
    "import pandas as pd\n",
    "import matplotlib\n",
    "import seaborn\n",
    "\n",
    "print(f\"¡Instalación exitosa!\")\n",
    "print(f\"Versión de Pandas: {pd.__version__}\")\n",
    "print(f\"Versión de Matplotlib: {matplotlib.__version__}\")\n",
    "print(f\"Versión de Seaborn: {seaborn.__version__}\")"
   ]
  },
  {
   "cell_type": "code",
   "execution_count": 1,
   "id": "6b0409ec",
   "metadata": {},
   "outputs": [
    {
     "name": "stdout",
     "output_type": "stream",
     "text": [
      "¡VERIFICACIÓN COMPLETA!\n",
      "Todas las librerías obligatorias y opcionales están instaladas.\n",
      "Versión de Pandas instalada: 2.3.3\n"
     ]
    }
   ],
   "source": [
    "# Paquetes de la primera instalación\n",
    "import pandas as pd\n",
    "import matplotlib\n",
    "import seaborn\n",
    "\n",
    "# --- Paquetes de \"For computation\" ---\n",
    "import scipy\n",
    "import numba\n",
    "\n",
    "# --- Paquetes de \"Excel operation\" ---\n",
    "import xlrd\n",
    "import xlwt\n",
    "import xlsxwriter\n",
    "import openpyxl\n",
    "import pyxlsb\n",
    "\n",
    "# --- Paquetes de \"HTML operation\" ---\n",
    "import bs4  # Este es el import para beautifulsoup4\n",
    "import html5lib\n",
    "\n",
    "# --- Paquetes de \"XML operation\" ---\n",
    "import lxml\n",
    "\n",
    "# --- Paquetes de \"SQL database\" ---\n",
    "import sqlalchemy\n",
    "import psycopg2\n",
    "import pymysql\n",
    "\n",
    "\n",
    "# --- Mensaje de éxito ---\n",
    "print(\"¡VERIFICACIÓN COMPLETA!\")\n",
    "print(\"Todas las librerías obligatorias y opcionales están instaladas.\")\n",
    "print(f\"Versión de Pandas instalada: {pd.__version__}\")"
   ]
  },
  {
   "cell_type": "code",
   "execution_count": 4,
   "id": "3dd2713a",
   "metadata": {},
   "outputs": [
    {
     "name": "stdout",
     "output_type": "stream",
     "text": [
      "Pandas funciona correctamente. Serie de ejemplo creada:\n",
      "0    1\n",
      "1    2\n",
      "2    3\n",
      "dtype: int64\n"
     ]
    }
   ],
   "source": [
    "#Este código es un script en Python que verifica la instalación de varias \n",
    "# librerías populares utilizadas para el análisis de datos y la manipulación \n",
    "#de archivos. A continuación, te explico cada parte del código:\n",
    "#!/usr/bin/env python3\n",
    "# Esta línea es un \"shebang\" que indica al sistema operativo que use\n",
    "# Python 3 para ejecutar este script.\n",
    "import pandas as pd\n",
    "import matplotlib.pyplot as plt\n",
    "\n",
    "# Crear una serie de pandas como ejemplo\n",
    "s = pd.Series([1, 2, 3])\n",
    "print(\"Pandas funciona correctamente. Serie de ejemplo creada:\")\n",
    "print(s)\n",
    "\n",
    "\n"
   ]
  },
  {
   "cell_type": "code",
   "execution_count": 8,
   "id": "c5efe949",
   "metadata": {},
   "outputs": [
    {
     "name": "stdout",
     "output_type": "stream",
     "text": [
      "Pandas funciona correctamente. Serie de ejemplo creada:\n",
      "a    1\n",
      "b    2\n",
      "c    3\n",
      "dtype: int64\n"
     ]
    }
   ],
   "source": [
    "import pandas as pd\n",
    "\n",
    "\n",
    "s = pd.Series([1, 2, 3], index=[\"a\",\"b\",\"c\"])\n",
    "print(\"Pandas funciona correctamente. Serie de ejemplo creada:\")\n",
    "print(s)"
   ]
  },
  {
   "cell_type": "code",
   "execution_count": 7,
   "id": "d494d863",
   "metadata": {},
   "outputs": [
    {
     "name": "stdout",
     "output_type": "stream",
     "text": [
      "Ana      30\n",
      "Luis     25\n",
      "Marta    42\n",
      "dtype: int64\n"
     ]
    }
   ],
   "source": [
    "import pandas as pd\n",
    "\n",
    "# Tus datos (las edades)\n",
    "datos = [30, 25, 42]\n",
    "\n",
    "# Tus etiquetas (los nombres)\n",
    "nombres = [\"Ana\", \"Luis\", \"Marta\"]\n",
    "\n",
    "# Creas la Series usando el parámetro 'index'\n",
    "s = pd.Series(datos, index=nombres)\n",
    "\n",
    "print(s)"
   ]
  },
  {
   "cell_type": "code",
   "execution_count": 9,
   "id": "9ee2348d",
   "metadata": {},
   "outputs": [
    {
     "name": "stdout",
     "output_type": "stream",
     "text": [
      "0      iron ma\n",
      "1         thor\n",
      "2    spiderman\n",
      "dtype: object\n"
     ]
    }
   ],
   "source": [
    "import pandas as pd\n",
    "\n",
    "marvel = [\"iron ma\",\"thor\",\"spiderman\"]\n",
    "\n",
    "s = pd.Series(marvel)\n",
    "print(s)"
   ]
  },
  {
   "cell_type": "code",
   "execution_count": 10,
   "id": "ef3ce97f",
   "metadata": {},
   "outputs": [
    {
     "name": "stdout",
     "output_type": "stream",
     "text": [
      "Iron Man     2010\n",
      "thor         2011\n",
      "spiderman    2012\n",
      "dtype: int64\n"
     ]
    }
   ],
   "source": [
    "import pandas as pd\n",
    "#con diccionario\n",
    "\n",
    "marvel_dict = {\"Iron Man\": 2010,\"thor\": 2011,\"spiderman\": 2012}\n",
    "\n",
    "s = pd.Series(marvel_dict)\n",
    "print(s)"
   ]
  },
  {
   "cell_type": "code",
   "execution_count": 12,
   "id": "c62095ac",
   "metadata": {},
   "outputs": [
    {
     "name": "stdout",
     "output_type": "stream",
     "text": [
      "0    10\n",
      "1    11\n",
      "2    12\n",
      "3    13\n",
      "4    14\n",
      "5    15\n",
      "dtype: int64\n"
     ]
    }
   ],
   "source": [
    "import pandas as pd\n",
    "import numpy as np\n",
    "\n",
    "# Crear un array de numpy con números del 10 al 15\n",
    "n = np.arange(10, 16)\n",
    "\n",
    "s = pd.Series(n)\n",
    "\n",
    "print(s)"
   ]
  },
  {
   "cell_type": "code",
   "execution_count": null,
   "id": "ff1ba20b",
   "metadata": {},
   "outputs": [
    {
     "name": "stdout",
     "output_type": "stream",
     "text": [
      "0    20\n",
      "1    22\n",
      "2    24\n",
      "3    26\n",
      "4    28\n",
      "5    30\n",
      "dtype: int64\n"
     ]
    }
   ],
   "source": [
    "s = pd.Series(np.arange(10, 16))\n",
    "print(s * 2)"
   ]
  },
  {
   "cell_type": "code",
   "execution_count": 14,
   "id": "80c614e5",
   "metadata": {},
   "outputs": [
    {
     "name": "stdout",
     "output_type": "stream",
     "text": [
      "0     0\n",
      "1     1\n",
      "2     4\n",
      "3     9\n",
      "4    16\n",
      "dtype: int64\n"
     ]
    }
   ],
   "source": [
    "s = pd.Series(np.arange(0, 5))\n",
    "print(s * s) "
   ]
  },
  {
   "cell_type": "code",
   "execution_count": null,
   "id": "f7eec3ab",
   "metadata": {},
   "outputs": [
    {
     "name": "stdout",
     "output_type": "stream",
     "text": [
      "DatetimeIndex(['2023-01-01', '2023-01-02', '2023-01-03', '2023-01-04',\n",
      "               '2023-01-05', '2023-01-06', '2023-01-07'],\n",
      "              dtype='datetime64[ns]', freq='D')\n"
     ]
    }
   ],
   "source": [
    "import pandas as pd\n",
    "\n",
    "# Crea un rango de fechas desde el 1 de enero de 2023 hasta el 7 de enero de 2023\n",
    "dates = pd.date_range('2023-01-01', '2023-01-07')\n",
    "\n",
    "# Imprime el resultado\n",
    "print(dates)"
   ]
  },
  {
   "cell_type": "code",
   "execution_count": null,
   "id": "6b285bae",
   "metadata": {},
   "outputs": [],
   "source": [
    "import pandas as pd\n",
    "\n",
    "# Crea un rango de fechas desde el 1 de enero de 2023 hasta el 7 de enero de 2023\n",
    "dates = pd.date_range('2023-01-01', '2023-01-07')\n",
    "\n",
    "#La regla fundamental de una Series es que debe haber exactamente una etiqueta \n",
    "#de índice por cada dato. Al no coincidir \n",
    "#las longitudes (3 vs 7), Pandas no sabe cómo emparejarlos y genera un error.\n",
    "\n",
    "marvel = [\"iron man\",\"thor\",\"spiderman\"]\n",
    "s = pd.Series(marvel, index=dates)\n"
   ]
  },
  {
   "cell_type": "code",
   "execution_count": 17,
   "id": "77399ad6",
   "metadata": {},
   "outputs": [
    {
     "name": "stdout",
     "output_type": "stream",
     "text": [
      "2023-01-01           iron man\n",
      "2023-01-02               thor\n",
      "2023-01-03          spiderman\n",
      "2023-01-04               hulk\n",
      "2023-01-05        black widow\n",
      "2023-01-06    captain america\n",
      "2023-01-07            hawkeye\n",
      "Freq: D, dtype: object\n"
     ]
    }
   ],
   "source": [
    "import pandas as pd\n",
    "\n",
    "# Crea un rango de fechas desde el 1 de enero de 2023 hasta el 7 de enero de 2023\n",
    "dates = pd.date_range('2023-01-01', '2023-01-07')#7 años\n",
    "\n",
    "# 7 datos para 7 fechas\n",
    "marvel = [\"iron man\", \"thor\", \"spiderman\", \"hulk\", \"black widow\", \"captain america\", \"hawkeye\"]\n",
    "s = pd.Series(marvel, index=dates)\n",
    "print(s)"
   ]
  },
  {
   "cell_type": "code",
   "execution_count": 18,
   "id": "23d80a6f",
   "metadata": {},
   "outputs": [
    {
     "name": "stdout",
     "output_type": "stream",
     "text": [
      "--- La Series completa (s): ---\n",
      "0           Iron Man\n",
      "1    Captain America\n",
      "2               Thor\n",
      "3     Winter Soldier\n",
      "4             Ultron\n",
      "5            Ant-Man\n",
      "6         Spider-Man\n",
      "dtype: object\n",
      "\n",
      "==============================\n",
      "\n",
      "--- El Índice (s.index): ---\n",
      "RangeIndex(start=0, stop=7, step=1)\n",
      "\n",
      "==============================\n",
      "\n",
      "--- Los Valores (s.values): ---\n",
      "['Iron Man' 'Captain America' 'Thor' 'Winter Soldier' 'Ultron' 'Ant-Man'\n",
      " 'Spider-Man']\n"
     ]
    }
   ],
   "source": [
    "import pandas as pd\n",
    "\n",
    "marvel_data = ['Iron Man', 'Captain America', 'Thor', 'Winter Soldier', 'Ultron', 'Ant-Man', 'Spider-Man']\n",
    "s = pd.Series(marvel_data)\n",
    "\n",
    "print(\"--- La Series completa (s): ---\")\n",
    "print(s)\n",
    "print(\"\\n\" + \"=\"*30 + \"\\n\")\n",
    "\n",
    "# 2. Código de la diapositiva: Ver solo el ÍNDICE\n",
    "print(\"--- El Índice (s.index): ---\")\n",
    "print(s.index)\n",
    "print(\"\\n\" + \"=\"*30 + \"\\n\")\n",
    "\n",
    "# 3. Código de la diapositiva: Ver solo los VALORES\n",
    "print(\"--- Los Valores (s.values): ---\")\n",
    "print(s.values)"
   ]
  },
  {
   "cell_type": "code",
   "execution_count": 21,
   "id": "2b2fa3aa",
   "metadata": {},
   "outputs": [
    {
     "name": "stdout",
     "output_type": "stream",
     "text": [
      "Iron Man\n",
      "Captain America\n",
      "Thor\n",
      "Winter Soldier\n",
      "Ultron\n",
      "Ant-Man\n",
      "Spider-Man\n",
      "0\n",
      "1\n",
      "2\n",
      "3\n",
      "4\n",
      "5\n",
      "6\n"
     ]
    }
   ],
   "source": [
    "import pandas as pd\n",
    "\n",
    "marvel_data = ['Iron Man', 'Captain America', 'Thor', 'Winter Soldier', 'Ultron', 'Ant-Man', 'Spider-Man']\n",
    "s = pd.Series(marvel_data)\n",
    "\n",
    "for i in range (len(s)):\n",
    "    print(s[i])\n",
    "#imprimir sus indices\n",
    "for i in range (len(s)):\n",
    "    print(s.index[i])"
   ]
  },
  {
   "cell_type": "code",
   "execution_count": 24,
   "id": "40907ce0",
   "metadata": {},
   "outputs": [
    {
     "name": "stdout",
     "output_type": "stream",
     "text": [
      "Iron Man\n",
      "Spider-Man\n"
     ]
    }
   ],
   "source": [
    "import pandas as pd\n",
    "\n",
    "marvel_data = ['Iron Man', 'Captain America', 'Thor', 'Winter Soldier', 'Ultron', 'Ant-Man', 'Spider-Man']\n",
    "s = pd.Series(marvel_data)\n",
    "\n",
    "print(s[0])\n",
    "print(s[6])\n"
   ]
  },
  {
   "cell_type": "code",
   "execution_count": 27,
   "id": "bdbc88d4",
   "metadata": {},
   "outputs": [
    {
     "name": "stdout",
     "output_type": "stream",
     "text": [
      "Para seleccionar el primer elemento por indice (posición 0) puede dar error si el índice no es numérico\n",
      "Iron Man\n",
      "Para seleccionar s.iloc el ÚLTIMO elemento por índice (posición -1)\n",
      "Spider-Man\n"
     ]
    }
   ],
   "source": [
    "import pandas as pd\n",
    "\n",
    "marvel_data = ['Iron Man', 'Captain America', 'Thor', 'Winter Soldier', 'Ultron', 'Ant-Man', 'Spider-Man']\n",
    "s = pd.Series(marvel_data)\n",
    "\n",
    "print(\"Para seleccionar el primer elemento por indice (posición 0) puede dar error si el índice no es numérico\")\n",
    "print(s.iloc[0])\n",
    "\n",
    "print(\"Para seleccionar s.iloc el ÚLTIMO elemento por índice (posición -1)\")\n",
    "print(s.iloc[-1])"
   ]
  },
  {
   "cell_type": "code",
   "execution_count": 28,
   "id": "ea3461f5",
   "metadata": {},
   "outputs": [
    {
     "name": "stdout",
     "output_type": "stream",
     "text": [
      "--- Series Original (s): ---\n",
      "0           Iron Man\n",
      "1    Captain America\n",
      "2               Thor\n",
      "3     Winter Soldier\n",
      "4             Ultron\n",
      "5            Ant-Man\n",
      "6         Spider-Man\n",
      "dtype: object\n",
      "\n",
      "========================================\n",
      "\n",
      "--- 1. Acceso con s[...] (Busca por ETIQUETA) ---\n",
      "s[0]:\n",
      "Iron Man\n",
      "<class 'str'>\n",
      "\n",
      "s[-1]:\n",
      "ERROR: -1 -> No existe la ETIQUETA -1\n",
      "\n",
      "========================================\n",
      "\n",
      "--- 2. Acceso con s.iloc[...] (Busca por POSICIÓN) ---\n",
      "s.iloc[0]:\n",
      "Iron Man\n",
      "<class 'str'>\n",
      "\n",
      "s.iloc[-1]:\n",
      "Spider-Man\n",
      "<class 'str'>\n",
      "\n",
      "========================================\n",
      "\n",
      "--- 3. Acceso con s.iloc[[...]] (Selecciona POSICIONES y devuelve una NUEVA SERIES) ---\n",
      "s.iloc[[0]]:\n",
      "0    Iron Man\n",
      "dtype: object\n",
      "<class 'pandas.core.series.Series'>\n",
      "\n",
      "s.iloc[[0, 2, -1]]:\n",
      "0      Iron Man\n",
      "2          Thor\n",
      "6    Spider-Man\n",
      "dtype: object\n",
      "<class 'pandas.core.series.Series'>\n"
     ]
    }
   ],
   "source": [
    "import pandas as pd\n",
    "\n",
    "\n",
    "marvel_data = ['Iron Man', 'Captain America', 'Thor', 'Winter Soldier', 'Ultron', 'Ant-Man', 'Spider-Man']\n",
    "s = pd.Series(marvel_data)\n",
    "\n",
    "print(\"--- Series Original (s): ---\")\n",
    "print(s)\n",
    "print(\"\\n\" + \"=\"*40 + \"\\n\")\n",
    "\n",
    "print(\"--- 1. Acceso con s[...] (Busca por ETIQUETA) ---\")\n",
    "\n",
    "# Funciona porque la etiqueta '0' existe en el índice por defecto\n",
    "print(\"s[0]:\")\n",
    "print(s[0])\n",
    "print(type(s[0])) \n",
    "\n",
    "print(\"\\ns[-1]:\")\n",
    "\n",
    "try:\n",
    "    # Esto dará un KeyError porque NO existe una etiqueta llamada -1\n",
    "    print(s[-1])\n",
    "except KeyError as e:\n",
    "    print(f\"ERROR: {e} -> No existe la ETIQUETA -1\")\n",
    "\n",
    "print(\"\\n\" + \"=\"*40 + \"\\n\")\n",
    "\n",
    "print(\"--- 2. Acceso con s.iloc[...] (Busca por POSICIÓN) ---\")\n",
    "\n",
    "# Funciona porque busca la POSICIÓN 0 (el primer elemento)\n",
    "print(\"s.iloc[0]:\")\n",
    "print(s.iloc[0])\n",
    "print(type(s.iloc[0])) # Devuelve el valor directamente (un string)\n",
    "\n",
    "# Funciona porque busca la POSICIÓN -1 (el último elemento)\n",
    "print(\"\\ns.iloc[-1]:\")\n",
    "print(s.iloc[-1])\n",
    "print(type(s.iloc[-1])) # Devuelve el valor directamente (un string)\n",
    "\n",
    "print(\"\\n\" + \"=\"*40 + \"\\n\")\n",
    "\n",
    "print(\"--- 3. Acceso con s.iloc[[...]] (Selecciona POSICIONES y devuelve una NUEVA SERIES) ---\")\n",
    "\n",
    "# Pide la POSICIÓN 0, pero devuelve una Series\n",
    "print(\"s.iloc[[0]]:\")\n",
    "print(s.iloc[[0]])\n",
    "print(type(s.iloc[[0]])) # Devuelve un objeto Series\n",
    "\n",
    "# Pide las POSICIONES 0, 2 y -1, devuelve una Series\n",
    "print(\"\\ns.iloc[[0, 2, -1]]:\")\n",
    "print(s.iloc[[0, 2, -1]])\n",
    "print(type(s.iloc[[0, 2, -1]])) # Devuelve un objeto Series"
   ]
  },
  {
   "cell_type": "code",
   "execution_count": 29,
   "id": "7dd1c391",
   "metadata": {},
   "outputs": [
    {
     "name": "stdout",
     "output_type": "stream",
     "text": [
      "0     33.0\n",
      "1    365.0\n",
      "2    153.0\n",
      "3      NaN\n",
      "4      NaN\n",
      "dtype: float64\n"
     ]
    }
   ],
   "source": [
    "import pandas as pd\n",
    "\n",
    "s = [10,20,30,40,50]\n",
    "t = [23,345,123]\n",
    "\n",
    "sr1 = pd.Series(s)\n",
    "sr2 = pd.Series(t)\n",
    "\n",
    "# Suma las Series alineando sus índices\n",
    "sr3 = sr1 + sr2\n",
    "\n",
    "print(sr3)"
   ]
  },
  {
   "cell_type": "code",
   "execution_count": 4,
   "id": "d1889ba6",
   "metadata": {},
   "outputs": [
    {
     "data": {
      "text/plain": [
       "<Axes: >"
      ]
     },
     "execution_count": 4,
     "metadata": {},
     "output_type": "execute_result"
    },
    {
     "data": {
      "image/png": "[encoded data removed]",
      "text/plain": [
       "<Figure size 640x480 with 1 Axes>"
      ]
     },
     "metadata": {},
     "output_type": "display_data"
    }
   ],
   "source": [
    "import matplotlib.pyplot as plt\n",
    "import pandas as pd\n",
    "s = pd.Series([1, 3, 2, 4, 3, 5])\n",
    "s.plot()\n"
   ]
  },
  {
   "cell_type": "code",
   "execution_count": 6,
   "id": "993f9552",
   "metadata": {},
   "outputs": [
    {
     "data": {
      "image/png": "[encoded data removed]",
      "text/plain": [
       "<Figure size 640x480 with 1 Axes>"
      ]
     },
     "metadata": {},
     "output_type": "display_data"
    }
   ],
   "source": [
    "import matplotlib.pyplot as plt\n",
    "x = range(100)\n",
    "y = [value**2 for value in x]\n",
    "plt.plot(x, y, linewidth=2.0, color='red', linestyle='--')\n",
    "\n",
    "plt.title(\"Gráfico de y = x^2\")\n",
    "plt.xlabel(\"Valores de x\")\n",
    "plt.ylabel(\"Valores de y\")\n",
    "plt.show()\n"
   ]
  },
  {
   "cell_type": "code",
   "execution_count": 7,
   "id": "2b09ed00",
   "metadata": {},
   "outputs": [
    {
     "data": {
      "image/png": "[encoded data removed]",
      "text/plain": [
       "<Figure size 640x480 with 1 Axes>"
      ]
     },
     "metadata": {},
     "output_type": "display_data"
    }
   ],
   "source": [
    "from matplotlib import pyplot as plt\n",
    "days_in_year = [88, 225, 365, 687, 4333, 10756, 30687, 60190, 90553]\n",
    "plt.bar(range(len(days_in_year)), days_in_year)\n",
    "plt.show()"
   ]
  },
  {
   "cell_type": "code",
   "execution_count": 10,
   "id": "05a974cb",
   "metadata": {},
   "outputs": [
    {
     "data": {
      "image/png": "[encoded data removed]",
      "text/plain": [
       "<Figure size 1300x600 with 1 Axes>"
      ]
     },
     "metadata": {},
     "output_type": "display_data"
    }
   ],
   "source": [
    "import pandas as pd\n",
    "import matplotlib.pyplot as plt\n",
    "\n",
    "# Diccionarios de ejemplo con datos (puedes cambiarlos por tus datos reales)\n",
    "s_2020 = pd.Series({\n",
    "    \"Tokyo\": 37400068,\n",
    "    \"Delhi\": 28514000,\n",
    "    \"Shanghai\": 25582000,\n",
    "    \"São Paulo\": 21650000\n",
    "})\n",
    "s_2021 = pd.Series({\n",
    "    \"Tokyo\": 37500000,\n",
    "    \"Delhi\": 28700000,\n",
    "    \"Shanghai\": 25700000,\n",
    "    \"São Paulo\": 21750000\n",
    "})\n",
    "\n",
    "# Calcular el crecimiento/resta entre los valores de 2021 y 2020\n",
    "growth = s_2021 - s_2020\n",
    "\n",
    "# Variables para graficar\n",
    "x = growth.index           # nombres (ciudades)\n",
    "y = growth.values          # crecimiento\n",
    "\n",
    "plt.figure(figsize=(13, 6))\n",
    "plt.xticks(rotation=\"vertical\", size=10)\n",
    "plt.barh(x, y)\n",
    "plt.title(\"Crecimiento poblacional 2020-2021\")\n",
    "plt.xlabel(\"Crecimiento\")\n",
    "plt.ylabel(\"Ciudad\")\n",
    "plt.show()\n"
   ]
  }
 ],
 "metadata": {
  "kernelspec": {
   "display_name": "data_science",
   "language": "python",
   "name": "python3"
  },
  "language_info": {
   "codemirror_mode": {
    "name": "ipython",
    "version": 3
   },
   "file_extension": ".py",
   "mimetype": "text/x-python",
   "name": "python",
   "nbconvert_exporter": "python",
   "pygments_lexer": "ipython3",
   "version": "3.10.18"
  }
 },
 "nbformat": 4,
 "nbformat_minor": 5
}
