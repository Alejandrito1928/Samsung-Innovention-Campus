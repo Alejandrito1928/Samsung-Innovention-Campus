{
 "cells": [
  {
   "cell_type": "code",
   "execution_count": 4,
   "id": "f8d6047e",
   "metadata": {},
   "outputs": [
    {
     "name": "stdout",
     "output_type": "stream",
     "text": [
      "0.8414709848078965\n"
     ]
    }
   ],
   "source": [
    "# Importa un solo módulo\n",
    "import math\n",
    "import random\n",
    "\n",
    "# Importa múltiples módulos\n",
    "import os, time\n",
    "\n",
    "math.sin(1)  # Llama a la función sin() del módulo math [cite: 122]\n",
    "random.randint(1, 6) # Llama a la función randint() del módulo random\n",
    "print(math.sin(1))  # Imprime el resultado de sin(1)"
   ]
  }
 ],
 "metadata": {
  "kernelspec": {
   "display_name": "data_science",
   "language": "python",
   "name": "python3"
  },
  "language_info": {
   "codemirror_mode": {
    "name": "ipython",
    "version": 3
   },
   "file_extension": ".py",
   "mimetype": "text/x-python",
   "name": "python",
   "nbconvert_exporter": "python",
   "pygments_lexer": "ipython3",
   "version": "3.10.18"
  }
 },
 "nbformat": 4,
 "nbformat_minor": 5
}
