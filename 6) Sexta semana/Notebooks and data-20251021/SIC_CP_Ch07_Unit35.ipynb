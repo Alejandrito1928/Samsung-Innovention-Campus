{
 "cells": [
  {
   "cell_type": "markdown",
   "id": "cd8380a0",
   "metadata": {},
   "source": [
    "## Mission"
   ]
  },
  {
   "cell_type": "markdown",
   "id": "29ec1925",
   "metadata": {},
   "source": [
    "### What is population density?"
   ]
  },
  {
   "cell_type": "code",
   "execution_count": 1,
   "id": "49043760",
   "metadata": {},
   "outputs": [],
   "source": [
    "# population_2020 is dictionary data object that stores total population in 2020.\n",
    "population_2020 = {'Tokyo': 37339804,\n",
    "                   'Delhi': 31181376,\n",
    "                   'Shanghai': 27795702,\n",
    "                   'Sao Paulo': 22237472,\n",
    "                   'Mexico City': 21918936,\n",
    "                   'Dhaka': 21741090,\n",
    "                   'Cairo': 21322750,\n",
    "                   'Karachi': 16459472,\n",
    "                   'Istanbul': 15415197,\n",
    "                   'Buenos Aires': 15257673,\n",
    "                   'Kinshasa': 14970460,\n",
    "                   'Lagos': 14862111,\n",
    "                   'Manila': 14158573,\n",
    "                   'Rio de Janeiro': 13544462,\n",
    "                   'Moscow': 12593252,\n",
    "                   'Bogota': 11167392,\n",
    "                   'Paris': 11078546,\n",
    "                   'Jakarta': 10915364,\n",
    "                   'Lima': 10882757}"
   ]
  },
  {
   "cell_type": "code",
   "execution_count": 2,
   "id": "e50d1d38",
   "metadata": {},
   "outputs": [],
   "source": [
    "# population 2021 is dictionary data object that stores total population in 2021.\n",
    "population_2021 = {'Tokyo': 37393128,\n",
    "                   'Delhi': 30290936,\n",
    "                   'Shanghai': 27058480,\n",
    "                   'Sao Paulo': 22043028,\n",
    "                   'Mexico City': 21782378,\n",
    "                   'Dhaka': 21005860,\n",
    "                   'Cairo': 20900604,\n",
    "                   'Karachi': 16093786,\n",
    "                   'Istanbul': 15190336,\n",
    "                   'Buenos Aires': 15153729,\n",
    "                   'Kinshasa': 14342439,\n",
    "                   'Lagos': 14368332,\n",
    "                   'Manila': 13923452,\n",
    "                   'Rio de Janeiro': 13458075,\n",
    "                   'Moscow': 12537954,\n",
    "                   'Bogota': 10978360,\n",
    "                   'Paris': 11017230,\n",
    "                   'Jakarta': 10770487,\n",
    "                   'Lima': 10719188}"
   ]
  },
  {
   "cell_type": "code",
   "execution_count": 3,
   "id": "4a58ce48",
   "metadata": {},
   "outputs": [],
   "source": [
    "# area is the area data of each city, and the unit is km^2.\n",
    "city_area = {'Tokyo': 2194,\n",
    "             'Delhi': 1484,\n",
    "             'Shanghai': 6340,\n",
    "             'Sao Paulo': 1521,\n",
    "             'Mexico City': 1485,\n",
    "             'Dhaka': 306.4,\n",
    "             'Cairo': 3085,\n",
    "             'Karachi': 3780,\n",
    "             'Istanbul': 5343,\n",
    "             'Buenos Aires': 203,\n",
    "             'Kinshasa': 9965,\n",
    "             'Lagos': 1171,\n",
    "             'Manila': 42.88,\n",
    "             'Rio de Janeiro': 1255,\n",
    "             'Moscow': 2511,\n",
    "             'Bogota': 1775,\n",
    "             'Paris': 105.4,\n",
    "             'Jakarta': 661.5,\n",
    "             'Lima': 2672}"
   ]
  },
  {
   "cell_type": "markdown",
   "id": "94c967a2",
   "metadata": {},
   "source": [
    "## Key concept"
   ]
  },
  {
   "cell_type": "markdown",
   "id": "ba40058b",
   "metadata": {},
   "source": [
    "### 4. Install Pandas Library"
   ]
  },
  {
   "cell_type": "code",
   "execution_count": 4,
   "id": "3ef09022",
   "metadata": {},
   "outputs": [
    {
     "data": {
      "text/plain": [
       "'2.0.2'"
      ]
     },
     "execution_count": 4,
     "metadata": {},
     "output_type": "execute_result"
    }
   ],
   "source": [
    "import pandas as pd\n",
    "pd.__version__"
   ]
  },
  {
   "cell_type": "code",
   "execution_count": 5,
   "id": "500c55c4",
   "metadata": {},
   "outputs": [
    {
     "data": {
      "text/plain": [
       "['/Users/cchyun/Workspace/emcast_ws/01_C&P 과정/02_C_P 과정 강의자료 수정본/05_ipynb 파일/Ch07',\n",
       " '/Users/cchyun/miniconda3/envs/emcast/lib/python310.zip',\n",
       " '/Users/cchyun/miniconda3/envs/emcast/lib/python3.10',\n",
       " '/Users/cchyun/miniconda3/envs/emcast/lib/python3.10/lib-dynload',\n",
       " '',\n",
       " '/Users/cchyun/miniconda3/envs/emcast/lib/python3.10/site-packages']"
      ]
     },
     "execution_count": 5,
     "metadata": {},
     "output_type": "execute_result"
    }
   ],
   "source": [
    "import sys\n",
    "sys.path"
   ]
  },
  {
   "cell_type": "markdown",
   "id": "d976531c",
   "metadata": {},
   "source": [
    "### 6. Series"
   ]
  },
  {
   "cell_type": "code",
   "execution_count": 6,
   "id": "edaa32d5",
   "metadata": {},
   "outputs": [
    {
     "name": "stdout",
     "output_type": "stream",
     "text": [
      "0    1\n",
      "1    2\n",
      "2    3\n",
      "3    4\n",
      "4    5\n",
      "dtype: int64\n"
     ]
    }
   ],
   "source": [
    "import pandas as pd\n",
    "s = pd.Series([1, 2, 3, 4, 5])\n",
    "\n",
    "print(s)"
   ]
  },
  {
   "cell_type": "code",
   "execution_count": 7,
   "id": "11c194d0",
   "metadata": {},
   "outputs": [
    {
     "name": "stdout",
     "output_type": "stream",
     "text": [
      "a      1\n",
      "1      2\n",
      "cat    3\n",
      "d      4\n",
      "dog    5\n",
      "dtype: int64\n"
     ]
    }
   ],
   "source": [
    "import pandas as pd\n",
    "s = pd.Series([1,2,3,4,5], index = ['a', 1, 'cat', 'd', 'dog'])\n",
    "\n",
    "print(s)"
   ]
  },
  {
   "cell_type": "markdown",
   "id": "be8e3122",
   "metadata": {},
   "source": [
    "### 7. Creating Series"
   ]
  },
  {
   "cell_type": "code",
   "execution_count": 8,
   "id": "7feb4d27",
   "metadata": {},
   "outputs": [
    {
     "name": "stdout",
     "output_type": "stream",
     "text": [
      "0           Iron Man\n",
      "1    Captain America\n",
      "2               Thor\n",
      "3     Winter Soldier\n",
      "4             Ultron\n",
      "5            Ant-Man\n",
      "6         Spider-Man\n",
      "dtype: object\n"
     ]
    }
   ],
   "source": [
    "import pandas as pd\n",
    "\n",
    "marvel = ['Iron Man', 'Captain America', 'Thor', 'Winter Soldier', 'Ultron', 'Ant-Man', 'Spider-Man']\n",
    "\n",
    "s = pd. Series (marvel)\n",
    "\n",
    "print (s)"
   ]
  },
  {
   "cell_type": "code",
   "execution_count": 10,
   "id": "a274f46c",
   "metadata": {},
   "outputs": [
    {
     "name": "stdout",
     "output_type": "stream",
     "text": [
      "Iron Man           2010\n",
      "Captain America    2011\n",
      "Thor               2013\n",
      "Winter Soldier     2014\n",
      "Ultron             2015\n",
      "dtype: int64\n"
     ]
    },
    {
     "data": {
      "text/plain": [
       "Index(['Iron Man', 'Captain America', 'Thor', 'Winter Soldier', 'Ultron'], dtype='object')"
      ]
     },
     "execution_count": 10,
     "metadata": {},
     "output_type": "execute_result"
    }
   ],
   "source": [
    "import pandas as pd\n",
    "\n",
    "marvel_year = {'Iron Man': 2010, 'Captain America': 2011, 'Thor': 2013, 'Winter Soldier': 2014, 'Ultron': 2015}\n",
    "\n",
    "s = pd.Series(marvel_year)\n",
    "\n",
    "print(s)\n",
    "s.index"
   ]
  },
  {
   "cell_type": "code",
   "execution_count": 11,
   "id": "60bb9dbc",
   "metadata": {},
   "outputs": [
    {
     "name": "stdout",
     "output_type": "stream",
     "text": [
      "0    10\n",
      "1    11\n",
      "2    12\n",
      "3    13\n",
      "4    14\n",
      "5    15\n",
      "dtype: int64\n"
     ]
    }
   ],
   "source": [
    "import pandas as pd\n",
    "import numpy as np\n",
    "\n",
    "n = np. arange(10, 16)\n",
    "\n",
    "s = pd.Series(n)\n",
    "\n",
    "print(s)"
   ]
  },
  {
   "cell_type": "code",
   "execution_count": 13,
   "id": "ddeb67db",
   "metadata": {},
   "outputs": [
    {
     "name": "stdout",
     "output_type": "stream",
     "text": [
      "0    0.548814\n",
      "1    0.715189\n",
      "2    0.602763\n",
      "3    0.544883\n",
      "4    0.423655\n",
      "5    0.645894\n",
      "dtype: float64\n"
     ]
    }
   ],
   "source": [
    "import pandas as pd\n",
    "import numpy as np\n",
    "\n",
    "np.random.seed(0)\n",
    "\n",
    "r = np.random.random(size = 6)\n",
    "\n",
    "s = pd.Series(r)\n",
    "\n",
    "print(s)"
   ]
  },
  {
   "cell_type": "code",
   "execution_count": 14,
   "id": "ef0107dd",
   "metadata": {},
   "outputs": [
    {
     "name": "stdout",
     "output_type": "stream",
     "text": [
      "0    4\n",
      "dtype: int64\n"
     ]
    }
   ],
   "source": [
    "import pandas as pd\n",
    "import numpy as np\n",
    "\n",
    "s = pd.Series(4)\n",
    "\n",
    "print(s)"
   ]
  },
  {
   "cell_type": "code",
   "execution_count": 17,
   "id": "eb48ae4c",
   "metadata": {},
   "outputs": [
    {
     "data": {
      "text/plain": [
       "0    0\n",
       "1    2\n",
       "2    4\n",
       "3    6\n",
       "dtype: int64"
      ]
     },
     "execution_count": 17,
     "metadata": {},
     "output_type": "execute_result"
    }
   ],
   "source": [
    "s = pd.Series([0, 1, 2, 3])\n",
    "\n",
    "s * 2"
   ]
  },
  {
   "cell_type": "code",
   "execution_count": 18,
   "id": "6f816694",
   "metadata": {},
   "outputs": [
    {
     "name": "stdout",
     "output_type": "stream",
     "text": [
      "0    0\n",
      "1    1\n",
      "2    2\n",
      "3    3\n",
      "4    4\n",
      "dtype: int64\n"
     ]
    }
   ],
   "source": [
    "arr = np.arange(0, 5)\n",
    "\n",
    "ss = pd.Series(arr)\n",
    "\n",
    "print (ss)"
   ]
  },
  {
   "cell_type": "code",
   "execution_count": 19,
   "id": "7132b947",
   "metadata": {},
   "outputs": [
    {
     "data": {
      "text/plain": [
       "0    0.0\n",
       "1    1.0\n",
       "2    4.0\n",
       "3    9.0\n",
       "4    NaN\n",
       "dtype: float64"
      ]
     },
     "execution_count": 19,
     "metadata": {},
     "output_type": "execute_result"
    }
   ],
   "source": [
    "s * ss"
   ]
  },
  {
   "cell_type": "code",
   "execution_count": 20,
   "id": "360bc8ba",
   "metadata": {},
   "outputs": [
    {
     "name": "stdout",
     "output_type": "stream",
     "text": [
      "0           Iron Man\n",
      "1    Captain America\n",
      "2               Thor\n",
      "3     Winter Soldier\n",
      "4             Ultron\n",
      "5            Ant-Man\n",
      "6         Spider-Man\n",
      "dtype: object\n"
     ]
    }
   ],
   "source": [
    "import pandas as pd\n",
    "\n",
    "marvel = ['Iron Man', 'Captain America', 'Thor', 'Winter Soldier', 'Ultron', 'Ant-Man', 'Spider-Man']\n",
    "\n",
    "s = pd.Series(marvel)\n",
    "\n",
    "print(s)"
   ]
  },
  {
   "cell_type": "code",
   "execution_count": 22,
   "id": "13fe97de",
   "metadata": {},
   "outputs": [
    {
     "name": "stdout",
     "output_type": "stream",
     "text": [
      "DatetimeIndex(['2023-01-01', '2023-01-02', '2023-01-03', '2023-01-04',\n",
      "               '2023-01-05', '2023-01-06', '2023-01-07'],\n",
      "              dtype='datetime64[ns]', freq='D')\n"
     ]
    }
   ],
   "source": [
    "dates = pd.date_range('2023-01-01', '2023-01-07')\n",
    "\n",
    "print(dates)"
   ]
  },
  {
   "cell_type": "code",
   "execution_count": 23,
   "id": "64ec1e94",
   "metadata": {},
   "outputs": [
    {
     "name": "stdout",
     "output_type": "stream",
     "text": [
      "2023-01-01           Iron Man\n",
      "2023-01-02    Captain America\n",
      "2023-01-03               Thor\n",
      "2023-01-04     Winter Soldier\n",
      "2023-01-05             Ultron\n",
      "2023-01-06            Ant-Man\n",
      "2023-01-07         Spider-Man\n",
      "Freq: D, dtype: object\n"
     ]
    }
   ],
   "source": [
    "new_s = pd.Series (marvel, index=dates)\n",
    "\n",
    "print(new_s)"
   ]
  },
  {
   "cell_type": "markdown",
   "id": "6fc0436b",
   "metadata": {},
   "source": [
    "### 8. Selecting a Specific Element (Data) from Series"
   ]
  },
  {
   "cell_type": "code",
   "execution_count": 24,
   "id": "64edbd84",
   "metadata": {},
   "outputs": [
    {
     "data": {
      "text/plain": [
       "0    element1\n",
       "1    element2\n",
       "2    element3\n",
       "3    element4\n",
       "4    elements\n",
       "5    element6\n",
       "6    element7\n",
       "7    element8\n",
       "dtype: object"
      ]
     },
     "execution_count": 24,
     "metadata": {},
     "output_type": "execute_result"
    }
   ],
   "source": [
    "import pandas as pd\n",
    "\n",
    "s = ['element1', 'element2', 'element3', 'element4', 'elements', 'element6', 'element7', 'element8']\n",
    "pd.Series(s) #creates series object consists of general integer type indices"
   ]
  },
  {
   "cell_type": "code",
   "execution_count": 25,
   "id": "7a12cb44",
   "metadata": {},
   "outputs": [
    {
     "data": {
      "text/plain": [
       "a    element1\n",
       "b    element2\n",
       "c    element3\n",
       "d    element4\n",
       "e    elements\n",
       "f    element6\n",
       "g    element7\n",
       "h    element8\n",
       "dtype: object"
      ]
     },
     "execution_count": 25,
     "metadata": {},
     "output_type": "execute_result"
    }
   ],
   "source": [
    "import pandas as pd\n",
    "\n",
    "s = ['element1', 'element2', 'element3', 'element4', 'elements', 'element6', 'element7', 'element8']\n",
    "pd.Series(s, index = ('a','b','c','d','e','f','g','h')) # creates series obiect consists of index labels\n",
    "                                                        # with designated names"
   ]
  },
  {
   "cell_type": "code",
   "execution_count": 26,
   "id": "a0cb71ad",
   "metadata": {},
   "outputs": [],
   "source": [
    "import pandas as pd\n",
    "\n",
    "marvel = ['Iron Man', 'Captain America', 'Thor', 'Winter Soldier', 'Ultron', 'Ant-Man', 'Spider-Man']\n",
    "\n",
    "s = pd.Series(marvel)"
   ]
  },
  {
   "cell_type": "code",
   "execution_count": 27,
   "id": "1a475fef",
   "metadata": {},
   "outputs": [
    {
     "data": {
      "text/plain": [
       "RangeIndex(start=0, stop=7, step=1)"
      ]
     },
     "execution_count": 27,
     "metadata": {},
     "output_type": "execute_result"
    }
   ],
   "source": [
    "s.index"
   ]
  },
  {
   "cell_type": "code",
   "execution_count": 28,
   "id": "0b7de8b0",
   "metadata": {},
   "outputs": [
    {
     "data": {
      "text/plain": [
       "array(['Iron Man', 'Captain America', 'Thor', 'Winter Soldier', 'Ultron',\n",
       "       'Ant-Man', 'Spider-Man'], dtype=object)"
      ]
     },
     "execution_count": 28,
     "metadata": {},
     "output_type": "execute_result"
    }
   ],
   "source": [
    "s.values"
   ]
  },
  {
   "cell_type": "code",
   "execution_count": 36,
   "id": "72514ed5",
   "metadata": {},
   "outputs": [
    {
     "name": "stdout",
     "output_type": "stream",
     "text": [
      "element3\n",
      "4    elements\n",
      "5    element6\n",
      "dtype: object\n"
     ]
    }
   ],
   "source": [
    "import pandas as pd\n",
    "\n",
    "s = ['element1', 'element2', 'element3', 'element4', 'elements', 'element6', 'element7', 'element8']\n",
    "sr = pd.Series(s)\n",
    "\n",
    "print(sr[2])\n",
    "print(sr[[4, 5]])"
   ]
  },
  {
   "cell_type": "code",
   "execution_count": 37,
   "id": "7488b663",
   "metadata": {},
   "outputs": [
    {
     "name": "stdout",
     "output_type": "stream",
     "text": [
      "element3\n",
      "e    elements\n",
      "f    element6\n",
      "dtype: object\n"
     ]
    }
   ],
   "source": [
    "import pandas as pd\n",
    "\n",
    "s = ['element1', 'element2', 'element3', 'element4', 'elements', 'element6', 'element7', 'element8']\n",
    "sr = pd.Series(s, index = ('a','b','c','d','e','f','g','h'))\n",
    "\n",
    "print(sr['c'])\n",
    "print(sr[['e', 'f']])"
   ]
  },
  {
   "cell_type": "markdown",
   "id": "b75bbfbc",
   "metadata": {},
   "source": [
    "### 9. Basic Arithmetic Operation for Series Object (+, -, /, *, ...)"
   ]
  },
  {
   "cell_type": "code",
   "execution_count": 38,
   "id": "d09df8f2",
   "metadata": {},
   "outputs": [
    {
     "name": "stdout",
     "output_type": "stream",
     "text": [
      "0    10\n",
      "1    20\n",
      "2    30\n",
      "3    40\n",
      "4    50\n",
      "dtype: int64\n",
      "0     100\n",
      "1     400\n",
      "2     900\n",
      "3    1600\n",
      "4    2500\n",
      "dtype: int64\n"
     ]
    }
   ],
   "source": [
    "import pandas as pd\n",
    "\n",
    "s = [10, 20,30,40,50]\n",
    "sr = pd.Series(s)\n",
    "\n",
    "print(sr)\n",
    "print(sr ** 2)"
   ]
  },
  {
   "cell_type": "code",
   "execution_count": 39,
   "id": "320c66c5",
   "metadata": {},
   "outputs": [
    {
     "name": "stdout",
     "output_type": "stream",
     "text": [
      "0     33.0\n",
      "1    365.0\n",
      "2    153.0\n",
      "3      NaN\n",
      "4      NaN\n",
      "dtype: float64\n"
     ]
    }
   ],
   "source": [
    "import pandas as pd\n",
    "\n",
    "s = [10,20,30,40,50]\n",
    "t = [23,345,123]\n",
    "\n",
    "sr1 = pd.Series(s)\n",
    "sr2 = pd.Series(t)\n",
    "\n",
    "sr3 = sr1 + sr2\n",
    "\n",
    "print(sr3)"
   ]
  },
  {
   "cell_type": "markdown",
   "id": "009feb88",
   "metadata": {},
   "source": [
    "### 10. Pandas Provides Many Accessible Descriptive Statistics"
   ]
  },
  {
   "cell_type": "code",
   "execution_count": 43,
   "id": "5d50be86",
   "metadata": {},
   "outputs": [
    {
     "name": "stdout",
     "output_type": "stream",
     "text": [
      "0     33.0\n",
      "1    365.0\n",
      "2    153.0\n",
      "3      NaN\n",
      "4      NaN\n",
      "dtype: float64\n",
      "3\n",
      "551.0\n"
     ]
    }
   ],
   "source": [
    "import pandas as pd\n",
    "\n",
    "s = [10, 20,30,40,50]\n",
    "t = [23,345,123]\n",
    "sr1 = pd.Series(s)\n",
    "sr2 = pd.Series(t)\n",
    "\n",
    "sr3 = sr1 + sr2\n",
    "\n",
    "print(sr3)\n",
    "\n",
    "print(sr3.count())\n",
    "print(sr3.sum())"
   ]
  },
  {
   "cell_type": "markdown",
   "id": "89332103",
   "metadata": {},
   "source": [
    "### 11. Basic of Data Visualization Tool Matploylib"
   ]
  },
  {
   "cell_type": "code",
   "execution_count": 44,
   "id": "a29c6d43",
   "metadata": {},
   "outputs": [
    {
     "data": {
      "image/png": "[encoded data removed]",
      "text/plain": [
       "<Figure size 640x480 with 1 Axes>"
      ]
     },
     "metadata": {},
     "output_type": "display_data"
    }
   ],
   "source": [
    "import matplotlib.pyplot as plt\n",
    "plt.plot([1, 2, 3, 4])\n",
    "\n",
    "plt.show()"
   ]
  },
  {
   "cell_type": "code",
   "execution_count": 45,
   "id": "18cd4c1f",
   "metadata": {},
   "outputs": [
    {
     "data": {
      "image/png": "[encoded data removed]",
      "text/plain": [
       "<Figure size 640x480 with 1 Axes>"
      ]
     },
     "metadata": {},
     "output_type": "display_data"
    }
   ],
   "source": [
    "import matplotlib.pyplot as plt\n",
    "plt.plot([1, 2, 3, 4], [1, 4, 9, 16])\n",
    "\n",
    "plt.show()"
   ]
  },
  {
   "cell_type": "code",
   "execution_count": 47,
   "id": "a09a6622",
   "metadata": {},
   "outputs": [
    {
     "data": {
      "image/png": "[encoded data removed]",
      "text/plain": [
       "<Figure size 640x480 with 1 Axes>"
      ]
     },
     "metadata": {},
     "output_type": "display_data"
    }
   ],
   "source": [
    "import matplotlib.pyplot as plt\n",
    "\n",
    "x = range(100)\n",
    "y = [value **2 for value in x]\n",
    "\n",
    "plt.plot(x,y, linewidth=5.0, color='red')\n",
    "\n",
    "plt.title('hello world of chart')\n",
    "plt.ylabel('y-some numbers')\n",
    "plt.xlabel('x-some numbers')\n",
    "\n",
    "\n",
    "plt.show()"
   ]
  },
  {
   "cell_type": "code",
   "execution_count": 50,
   "id": "29153e33",
   "metadata": {},
   "outputs": [
    {
     "data": {
      "image/png": "[encoded data removed]",
      "text/plain": [
       "<Figure size 640x480 with 1 Axes>"
      ]
     },
     "metadata": {},
     "output_type": "display_data"
    }
   ],
   "source": [
    "from matplotlib import pyplot as plt\n",
    "days_in_year = [88, 225, 365, 687, 4333, 10756, 30687, 60190, 90553]\n",
    "plt.bar(range(len(days_in_year)), days_in_year)\n",
    "plt.show()"
   ]
  },
  {
   "cell_type": "markdown",
   "id": "7fb33c0b",
   "metadata": {},
   "source": [
    "## Let’s code"
   ]
  },
  {
   "cell_type": "code",
   "execution_count": 51,
   "id": "b68bd642",
   "metadata": {},
   "outputs": [],
   "source": [
    "import numpy as np\n",
    "import pandas as pd\n",
    "import matplotlib.pyplot as plt"
   ]
  },
  {
   "cell_type": "code",
   "execution_count": 53,
   "id": "72312e82",
   "metadata": {},
   "outputs": [],
   "source": [
    "s_2020 = pd.Series(population_2020)\n",
    "s_2021 = pd.Series(population_2021)\n",
    "s_area = pd.Series(city_area)"
   ]
  },
  {
   "cell_type": "code",
   "execution_count": 54,
   "id": "ae485079",
   "metadata": {},
   "outputs": [
    {
     "name": "stdout",
     "output_type": "stream",
     "text": [
      "Tokyo             -53324\n",
      "Delhi             890440\n",
      "Shanghai          737222\n",
      "Sao Paulo         194444\n",
      "Mexico City       136558\n",
      "Dhaka             735230\n",
      "Cairo             422146\n",
      "Karachi           365686\n",
      "Istanbul          224861\n",
      "Buenos Aires      103944\n",
      "Kinshasa          628021\n",
      "Lagos             493779\n",
      "Manila            235121\n",
      "Rio de Janeiro     86387\n",
      "Moscow             55298\n",
      "Bogota            189032\n",
      "Paris              61316\n",
      "Jakarta           144877\n",
      "Lima              163569\n",
      "dtype: int64\n"
     ]
    }
   ],
   "source": [
    "growth = s_2020- s_2021\n",
    "print(growth)"
   ]
  },
  {
   "cell_type": "code",
   "execution_count": 55,
   "id": "2cb65006",
   "metadata": {},
   "outputs": [],
   "source": [
    "x=growth.index\n",
    "y=growth.values"
   ]
  },
  {
   "cell_type": "code",
   "execution_count": 56,
   "id": "5fb91add",
   "metadata": {},
   "outputs": [
    {
     "data": {
      "image/png": "[encoded data removed]",
      "text/plain": [
       "<Figure size 1300x600 with 1 Axes>"
      ]
     },
     "metadata": {},
     "output_type": "display_data"
    }
   ],
   "source": [
    "plt.figure(figsize = (13, 6))\n",
    "\n",
    "plt.xticks(rotation='vertical', size = 10)\n",
    "\n",
    "plt.barh(x, y)\n",
    "\n",
    "plt.show()"
   ]
  },
  {
   "cell_type": "code",
   "execution_count": 57,
   "id": "608aba60",
   "metadata": {},
   "outputs": [
    {
     "data": {
      "text/plain": [
       "Tokyo              17019.053783\n",
       "Delhi              21011.708895\n",
       "Shanghai            4384.180126\n",
       "Sao Paulo          14620.297173\n",
       "Mexico City        14760.226263\n",
       "Dhaka              70956.560052\n",
       "Cairo               6911.750405\n",
       "Karachi             4354.357672\n",
       "Istanbul            2885.120157\n",
       "Buenos Aires       75160.950739\n",
       "Kinshasa            1502.304064\n",
       "Lagos              12691.811272\n",
       "Manila            330190.601679\n",
       "Rio de Janeiro     10792.400000\n",
       "Moscow              5015.233771\n",
       "Bogota              6291.488451\n",
       "Paris             105109.544592\n",
       "Jakarta            16500.928193\n",
       "Lima                4072.888099\n",
       "dtype: float64"
      ]
     },
     "execution_count": 57,
     "metadata": {},
     "output_type": "execute_result"
    }
   ],
   "source": [
    "population_density = s_2020 / s_area\n",
    "population_density"
   ]
  },
  {
   "cell_type": "code",
   "execution_count": 58,
   "id": "e92f683f",
   "metadata": {},
   "outputs": [],
   "source": [
    "x=population_density.index\n",
    "y=population_density.values"
   ]
  },
  {
   "cell_type": "code",
   "execution_count": 59,
   "id": "9827f1fc",
   "metadata": {},
   "outputs": [
    {
     "data": {
      "image/png": "[encoded data removed]",
      "text/plain": [
       "<Figure size 1300x600 with 1 Axes>"
      ]
     },
     "metadata": {},
     "output_type": "display_data"
    }
   ],
   "source": [
    "plt.figure(figsize = (13,6))\n",
    "\n",
    "plt.xticks(rotation=45, size = 10)\n",
    "\n",
    "plt.barh(x, y, color='red')\n",
    "\n",
    "plt.title('population density', size = 15)\n",
    "plt.ylabel('city', size = 15)\n",
    "plt.xlabel('population', size = 15)\n",
    "\n",
    "plt.show()"
   ]
  },
  {
   "cell_type": "code",
   "execution_count": 60,
   "id": "b92bb47f",
   "metadata": {},
   "outputs": [
    {
     "data": {
      "text/plain": [
       "38117.44238880675"
      ]
     },
     "execution_count": 60,
     "metadata": {},
     "output_type": "execute_result"
    }
   ],
   "source": [
    "population_density.mean()"
   ]
  },
  {
   "cell_type": "code",
   "execution_count": 61,
   "id": "abbf501b",
   "metadata": {},
   "outputs": [
    {
     "data": {
      "text/plain": [
       "330190.60167910444"
      ]
     },
     "execution_count": 61,
     "metadata": {},
     "output_type": "execute_result"
    }
   ],
   "source": [
    "population_density.max()"
   ]
  },
  {
   "cell_type": "code",
   "execution_count": null,
   "id": "2ac86c3b",
   "metadata": {},
   "outputs": [],
   "source": []
  }
 ],
 "metadata": {
  "kernelspec": {
   "display_name": "Python 3 (ipykernel)",
   "language": "python",
   "name": "python3"
  },
  "language_info": {
   "codemirror_mode": {
    "name": "ipython",
    "version": 3
   },
   "file_extension": ".py",
   "mimetype": "text/x-python",
   "name": "python",
   "nbconvert_exporter": "python",
   "pygments_lexer": "ipython3",
   "version": "3.9.23"
  }
 },
 "nbformat": 4,
 "nbformat_minor": 5
}
