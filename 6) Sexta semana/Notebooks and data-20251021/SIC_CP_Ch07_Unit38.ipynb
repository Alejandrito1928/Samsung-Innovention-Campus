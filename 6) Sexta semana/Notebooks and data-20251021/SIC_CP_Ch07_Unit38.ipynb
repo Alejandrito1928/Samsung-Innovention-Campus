{
 "cells": [
  {
   "cell_type": "markdown",
   "id": "345414c9",
   "metadata": {},
   "source": [
    "## Key concept"
   ]
  },
  {
   "cell_type": "markdown",
   "id": "8ad5bce6",
   "metadata": {},
   "source": [
    "### 5. Creating an Interval of Date, Time, Frequency and Time"
   ]
  },
  {
   "cell_type": "code",
   "execution_count": 3,
   "id": "922005e5",
   "metadata": {},
   "outputs": [
    {
     "data": {
      "text/plain": [
       "datetime.datetime(2023, 7, 7, 0, 0)"
      ]
     },
     "execution_count": 3,
     "metadata": {},
     "output_type": "execute_result"
    }
   ],
   "source": [
    "import pandas as pd\n",
    "import numpy as np\n",
    "import datetime\n",
    "\n",
    "from datetime import date, datetime, time, timezone\n",
    "\n",
    "datetime (2023, 7, 7)"
   ]
  },
  {
   "cell_type": "code",
   "execution_count": 4,
   "id": "3441c774",
   "metadata": {},
   "outputs": [
    {
     "data": {
      "text/plain": [
       "datetime.datetime(2021, 7, 7, 15, 50)"
      ]
     },
     "execution_count": 4,
     "metadata": {},
     "output_type": "execute_result"
    }
   ],
   "source": [
    "datetime(2021, 7, 7, 15,50)"
   ]
  },
  {
   "cell_type": "code",
   "execution_count": 6,
   "id": "7886f92a",
   "metadata": {},
   "outputs": [
    {
     "data": {
      "text/plain": [
       "datetime.datetime(2021, 7, 7, 13, 26, 10)"
      ]
     },
     "execution_count": 6,
     "metadata": {},
     "output_type": "execute_result"
    }
   ],
   "source": [
    "d = date(2021,7,7)\n",
    "t = time(13,26,10)\n",
    "datetime.combine(d, t)\n"
   ]
  },
  {
   "cell_type": "code",
   "execution_count": 7,
   "id": "93b4e02f",
   "metadata": {},
   "outputs": [
    {
     "data": {
      "text/plain": [
       "datetime.datetime(2023, 8, 20, 18, 52, 44, 800163)"
      ]
     },
     "execution_count": 7,
     "metadata": {},
     "output_type": "execute_result"
    }
   ],
   "source": [
    "datetime.now()"
   ]
  },
  {
   "cell_type": "code",
   "execution_count": 8,
   "id": "f51dd0f6",
   "metadata": {},
   "outputs": [
    {
     "data": {
      "text/plain": [
       "datetime.datetime(2023, 8, 20, 9, 52, 57, 981152, tzinfo=datetime.timezone.utc)"
      ]
     },
     "execution_count": 8,
     "metadata": {},
     "output_type": "execute_result"
    }
   ],
   "source": [
    "datetime.now(timezone.utc)"
   ]
  },
  {
   "cell_type": "code",
   "execution_count": 9,
   "id": "e41391d9",
   "metadata": {},
   "outputs": [
    {
     "data": {
      "text/plain": [
       "datetime.date(2023, 8, 20)"
      ]
     },
     "execution_count": 9,
     "metadata": {},
     "output_type": "execute_result"
    }
   ],
   "source": [
    "datetime.now().date()"
   ]
  },
  {
   "cell_type": "code",
   "execution_count": 10,
   "id": "228b51b0",
   "metadata": {},
   "outputs": [
    {
     "data": {
      "text/plain": [
       "datetime.time(18, 53, 44, 386969)"
      ]
     },
     "execution_count": 10,
     "metadata": {},
     "output_type": "execute_result"
    }
   ],
   "source": [
    "datetime.now().time()"
   ]
  },
  {
   "cell_type": "code",
   "execution_count": 11,
   "id": "bf2d4711",
   "metadata": {},
   "outputs": [
    {
     "data": {
      "text/plain": [
       "Timestamp('2017-01-15 00:00:00')"
      ]
     },
     "execution_count": 11,
     "metadata": {},
     "output_type": "execute_result"
    }
   ],
   "source": [
    "pd.Timestamp('2017, 1, 15')"
   ]
  },
  {
   "cell_type": "code",
   "execution_count": 14,
   "id": "34dc562b",
   "metadata": {},
   "outputs": [
    {
     "data": {
      "text/plain": [
       "Timestamp('2017-05-03 12:00:00')"
      ]
     },
     "execution_count": 14,
     "metadata": {},
     "output_type": "execute_result"
    }
   ],
   "source": [
    "pd.Timestamp('2017, 5, 3, 12:00')"
   ]
  },
  {
   "cell_type": "code",
   "execution_count": 15,
   "id": "0dc059cf",
   "metadata": {},
   "outputs": [
    {
     "data": {
      "text/plain": [
       "Timestamp('2023-08-20 12:00:00')"
      ]
     },
     "execution_count": 15,
     "metadata": {},
     "output_type": "execute_result"
    }
   ],
   "source": [
    "pd.Timestamp('12:00')"
   ]
  },
  {
   "cell_type": "code",
   "execution_count": 17,
   "id": "7ae9e5a5",
   "metadata": {},
   "outputs": [
    {
     "name": "stdout",
     "output_type": "stream",
     "text": [
      "18307 days, 18:57:47.726682\n"
     ]
    }
   ],
   "source": [
    "import pandas as pd\n",
    "import datetime\n",
    "from datetime import datetime\n",
    "\n",
    "my_birth = datetime(1973, 7, 7)\n",
    "today = datetime.today()\n",
    "tommorrow = today + pd.Timedelta(days = 1)\n",
    "\n",
    "print(tommorrow - my_birth)"
   ]
  },
  {
   "cell_type": "code",
   "execution_count": 20,
   "id": "61f8ddcd",
   "metadata": {},
   "outputs": [
    {
     "data": {
      "text/plain": [
       "datetime.timedelta(days=-18307, seconds=18132, microseconds=273318)"
      ]
     },
     "execution_count": 20,
     "metadata": {},
     "output_type": "execute_result"
    }
   ],
   "source": [
    "my_birth-today"
   ]
  },
  {
   "cell_type": "code",
   "execution_count": 21,
   "id": "0c0881fc",
   "metadata": {},
   "outputs": [
    {
     "name": "stdout",
     "output_type": "stream",
     "text": [
      "2023-08-20 18:59:18.551611\n",
      "2023-08-21 04:59:18.551611\n"
     ]
    }
   ],
   "source": [
    "today= datetime.today()\n",
    "data = today + pd.Timedelta(hours = 10)\n",
    "\n",
    "print(today)\n",
    "print (data)"
   ]
  },
  {
   "cell_type": "code",
   "execution_count": 22,
   "id": "e5ceecd3",
   "metadata": {},
   "outputs": [
    {
     "data": {
      "text/plain": [
       "Period('1973-07', 'M')"
      ]
     },
     "execution_count": 22,
     "metadata": {},
     "output_type": "execute_result"
    }
   ],
   "source": [
    "import pandas as pd\n",
    "\n",
    "special_day = pd.Period('1973-7', freq='M')\n",
    "special_day"
   ]
  },
  {
   "cell_type": "code",
   "execution_count": 23,
   "id": "c53a2359",
   "metadata": {},
   "outputs": [
    {
     "data": {
      "text/plain": [
       "Timestamp('1973-07-01 00:00:00')"
      ]
     },
     "execution_count": 23,
     "metadata": {},
     "output_type": "execute_result"
    }
   ],
   "source": [
    "special_day.start_time"
   ]
  },
  {
   "cell_type": "code",
   "execution_count": 24,
   "id": "774d0db2",
   "metadata": {},
   "outputs": [
    {
     "data": {
      "text/plain": [
       "Timestamp('1973-07-31 23:59:59.999999999')"
      ]
     },
     "execution_count": 24,
     "metadata": {},
     "output_type": "execute_result"
    }
   ],
   "source": [
    "special_day.end_time"
   ]
  },
  {
   "cell_type": "code",
   "execution_count": 25,
   "id": "63c49ee8",
   "metadata": {},
   "outputs": [
    {
     "name": "stdout",
     "output_type": "stream",
     "text": [
      "1973-07\n",
      "1973-09\n"
     ]
    }
   ],
   "source": [
    "n= special_day + 2\n",
    "\n",
    "\n",
    "print(special_day)\n",
    "print(n)"
   ]
  },
  {
   "cell_type": "code",
   "execution_count": 26,
   "id": "a32972de",
   "metadata": {},
   "outputs": [
    {
     "data": {
      "text/plain": [
       "Period('1973-09', 'M')"
      ]
     },
     "execution_count": 26,
     "metadata": {},
     "output_type": "execute_result"
    }
   ],
   "source": [
    "n"
   ]
  },
  {
   "cell_type": "code",
   "execution_count": 27,
   "id": "6318120d",
   "metadata": {},
   "outputs": [
    {
     "data": {
      "text/plain": [
       "(Timestamp('1973-09-01 00:00:00'), Timestamp('1973-09-30 23:59:59.999999999'))"
      ]
     },
     "execution_count": 27,
     "metadata": {},
     "output_type": "execute_result"
    }
   ],
   "source": [
    "n.start_time, n.end_time"
   ]
  },
  {
   "cell_type": "markdown",
   "id": "05798862",
   "metadata": {},
   "source": [
    "### 6. Time Series Data Indexing and Basic Use"
   ]
  },
  {
   "cell_type": "code",
   "execution_count": 33,
   "id": "2584f165",
   "metadata": {},
   "outputs": [
    {
     "data": {
      "text/html": [
       "<div>\n",
       "<style scoped>\n",
       "    .dataframe tbody tr th:only-of-type {\n",
       "        vertical-align: middle;\n",
       "    }\n",
       "\n",
       "    .dataframe tbody tr th {\n",
       "        vertical-align: top;\n",
       "    }\n",
       "\n",
       "    .dataframe thead th {\n",
       "        text-align: right;\n",
       "    }\n",
       "</style>\n",
       "<table border=\"1\" class=\"dataframe\">\n",
       "  <thead>\n",
       "    <tr style=\"text-align: right;\">\n",
       "      <th></th>\n",
       "      <th>DATE</th>\n",
       "      <th>DCOILWTICO</th>\n",
       "    </tr>\n",
       "  </thead>\n",
       "  <tbody>\n",
       "    <tr>\n",
       "      <th>0</th>\n",
       "      <td>2016-11-01</td>\n",
       "      <td>46.66</td>\n",
       "    </tr>\n",
       "    <tr>\n",
       "      <th>1</th>\n",
       "      <td>2016-11-02</td>\n",
       "      <td>45.32</td>\n",
       "    </tr>\n",
       "    <tr>\n",
       "      <th>2</th>\n",
       "      <td>2016-11-03</td>\n",
       "      <td>44.66</td>\n",
       "    </tr>\n",
       "    <tr>\n",
       "      <th>3</th>\n",
       "      <td>2016-11-04</td>\n",
       "      <td>44.07</td>\n",
       "    </tr>\n",
       "    <tr>\n",
       "      <th>4</th>\n",
       "      <td>2016-11-07</td>\n",
       "      <td>44.88</td>\n",
       "    </tr>\n",
       "  </tbody>\n",
       "</table>\n",
       "</div>"
      ],
      "text/plain": [
       "         DATE DCOILWTICO\n",
       "0  2016-11-01      46.66\n",
       "1  2016-11-02      45.32\n",
       "2  2016-11-03      44.66\n",
       "3  2016-11-04      44.07\n",
       "4  2016-11-07      44.88"
      ]
     },
     "execution_count": 33,
     "metadata": {},
     "output_type": "execute_result"
    }
   ],
   "source": [
    "import pandas as pd\n",
    "wti = pd.read_csv(\"./data/wti/DCOILWTICO.csv\")\n",
    "wti.head()"
   ]
  },
  {
   "cell_type": "code",
   "execution_count": 34,
   "id": "64267668",
   "metadata": {},
   "outputs": [
    {
     "name": "stdout",
     "output_type": "stream",
     "text": [
      "<class 'pandas.core.frame.DataFrame'>\n",
      "RangeIndex: 1770 entries, 0 to 1769\n",
      "Data columns (total 2 columns):\n",
      " #   Column      Non-Null Count  Dtype \n",
      "---  ------      --------------  ----- \n",
      " 0   DATE        1770 non-null   object\n",
      " 1   DCOILWTICO  1770 non-null   object\n",
      "dtypes: object(2)\n",
      "memory usage: 27.8+ KB\n"
     ]
    }
   ],
   "source": [
    "wti.info()"
   ]
  },
  {
   "cell_type": "code",
   "execution_count": 35,
   "id": "db4b9816",
   "metadata": {},
   "outputs": [
    {
     "data": {
      "text/plain": [
       "0      2016-11-01\n",
       "1      2016-11-02\n",
       "2      2016-11-03\n",
       "3      2016-11-04\n",
       "4      2016-11-07\n",
       "          ...    \n",
       "1765   2023-08-08\n",
       "1766   2023-08-09\n",
       "1767   2023-08-10\n",
       "1768   2023-08-11\n",
       "1769   2023-08-14\n",
       "Name: N_DATE, Length: 1770, dtype: datetime64[ns]"
      ]
     },
     "execution_count": 35,
     "metadata": {},
     "output_type": "execute_result"
    }
   ],
   "source": [
    "wti['N_DATE'] = pd.to_datetime(wti['DATE'])\n",
    "wti['N_DATE']"
   ]
  },
  {
   "cell_type": "code",
   "execution_count": 36,
   "id": "5542fb56",
   "metadata": {},
   "outputs": [
    {
     "data": {
      "text/html": [
       "<div>\n",
       "<style scoped>\n",
       "    .dataframe tbody tr th:only-of-type {\n",
       "        vertical-align: middle;\n",
       "    }\n",
       "\n",
       "    .dataframe tbody tr th {\n",
       "        vertical-align: top;\n",
       "    }\n",
       "\n",
       "    .dataframe thead th {\n",
       "        text-align: right;\n",
       "    }\n",
       "</style>\n",
       "<table border=\"1\" class=\"dataframe\">\n",
       "  <thead>\n",
       "    <tr style=\"text-align: right;\">\n",
       "      <th></th>\n",
       "      <th>DATE</th>\n",
       "      <th>DCOILWTICO</th>\n",
       "      <th>N_DATE</th>\n",
       "    </tr>\n",
       "  </thead>\n",
       "  <tbody>\n",
       "    <tr>\n",
       "      <th>0</th>\n",
       "      <td>2016-11-01</td>\n",
       "      <td>46.66</td>\n",
       "      <td>2016-11-01</td>\n",
       "    </tr>\n",
       "    <tr>\n",
       "      <th>1</th>\n",
       "      <td>2016-11-02</td>\n",
       "      <td>45.32</td>\n",
       "      <td>2016-11-02</td>\n",
       "    </tr>\n",
       "    <tr>\n",
       "      <th>2</th>\n",
       "      <td>2016-11-03</td>\n",
       "      <td>44.66</td>\n",
       "      <td>2016-11-03</td>\n",
       "    </tr>\n",
       "    <tr>\n",
       "      <th>3</th>\n",
       "      <td>2016-11-04</td>\n",
       "      <td>44.07</td>\n",
       "      <td>2016-11-04</td>\n",
       "    </tr>\n",
       "    <tr>\n",
       "      <th>4</th>\n",
       "      <td>2016-11-07</td>\n",
       "      <td>44.88</td>\n",
       "      <td>2016-11-07</td>\n",
       "    </tr>\n",
       "  </tbody>\n",
       "</table>\n",
       "</div>"
      ],
      "text/plain": [
       "         DATE DCOILWTICO     N_DATE\n",
       "0  2016-11-01      46.66 2016-11-01\n",
       "1  2016-11-02      45.32 2016-11-02\n",
       "2  2016-11-03      44.66 2016-11-03\n",
       "3  2016-11-04      44.07 2016-11-04\n",
       "4  2016-11-07      44.88 2016-11-07"
      ]
     },
     "execution_count": 36,
     "metadata": {},
     "output_type": "execute_result"
    }
   ],
   "source": [
    "wti.head()"
   ]
  },
  {
   "cell_type": "code",
   "execution_count": 37,
   "id": "2edb9a03",
   "metadata": {},
   "outputs": [
    {
     "data": {
      "text/html": [
       "<div>\n",
       "<style scoped>\n",
       "    .dataframe tbody tr th:only-of-type {\n",
       "        vertical-align: middle;\n",
       "    }\n",
       "\n",
       "    .dataframe tbody tr th {\n",
       "        vertical-align: top;\n",
       "    }\n",
       "\n",
       "    .dataframe thead th {\n",
       "        text-align: right;\n",
       "    }\n",
       "</style>\n",
       "<table border=\"1\" class=\"dataframe\">\n",
       "  <thead>\n",
       "    <tr style=\"text-align: right;\">\n",
       "      <th></th>\n",
       "      <th>DCOILWTICO</th>\n",
       "      <th>N_DATE</th>\n",
       "    </tr>\n",
       "  </thead>\n",
       "  <tbody>\n",
       "    <tr>\n",
       "      <th>0</th>\n",
       "      <td>46.66</td>\n",
       "      <td>2016-11-01</td>\n",
       "    </tr>\n",
       "    <tr>\n",
       "      <th>1</th>\n",
       "      <td>45.32</td>\n",
       "      <td>2016-11-02</td>\n",
       "    </tr>\n",
       "    <tr>\n",
       "      <th>2</th>\n",
       "      <td>44.66</td>\n",
       "      <td>2016-11-03</td>\n",
       "    </tr>\n",
       "    <tr>\n",
       "      <th>3</th>\n",
       "      <td>44.07</td>\n",
       "      <td>2016-11-04</td>\n",
       "    </tr>\n",
       "    <tr>\n",
       "      <th>4</th>\n",
       "      <td>44.88</td>\n",
       "      <td>2016-11-07</td>\n",
       "    </tr>\n",
       "  </tbody>\n",
       "</table>\n",
       "</div>"
      ],
      "text/plain": [
       "  DCOILWTICO     N_DATE\n",
       "0      46.66 2016-11-01\n",
       "1      45.32 2016-11-02\n",
       "2      44.66 2016-11-03\n",
       "3      44.07 2016-11-04\n",
       "4      44.88 2016-11-07"
      ]
     },
     "execution_count": 37,
     "metadata": {},
     "output_type": "execute_result"
    }
   ],
   "source": [
    "df = wti.drop(['DATE'], axis=1)\n",
    "df.head()"
   ]
  },
  {
   "cell_type": "code",
   "execution_count": 38,
   "id": "c8b42eae",
   "metadata": {},
   "outputs": [
    {
     "data": {
      "text/html": [
       "<div>\n",
       "<style scoped>\n",
       "    .dataframe tbody tr th:only-of-type {\n",
       "        vertical-align: middle;\n",
       "    }\n",
       "\n",
       "    .dataframe tbody tr th {\n",
       "        vertical-align: top;\n",
       "    }\n",
       "\n",
       "    .dataframe thead th {\n",
       "        text-align: right;\n",
       "    }\n",
       "</style>\n",
       "<table border=\"1\" class=\"dataframe\">\n",
       "  <thead>\n",
       "    <tr style=\"text-align: right;\">\n",
       "      <th></th>\n",
       "      <th>DCOILWTICO</th>\n",
       "    </tr>\n",
       "    <tr>\n",
       "      <th>N_DATE</th>\n",
       "      <th></th>\n",
       "    </tr>\n",
       "  </thead>\n",
       "  <tbody>\n",
       "    <tr>\n",
       "      <th>2016-11-01</th>\n",
       "      <td>46.66</td>\n",
       "    </tr>\n",
       "    <tr>\n",
       "      <th>2016-11-02</th>\n",
       "      <td>45.32</td>\n",
       "    </tr>\n",
       "    <tr>\n",
       "      <th>2016-11-03</th>\n",
       "      <td>44.66</td>\n",
       "    </tr>\n",
       "    <tr>\n",
       "      <th>2016-11-04</th>\n",
       "      <td>44.07</td>\n",
       "    </tr>\n",
       "    <tr>\n",
       "      <th>2016-11-07</th>\n",
       "      <td>44.88</td>\n",
       "    </tr>\n",
       "  </tbody>\n",
       "</table>\n",
       "</div>"
      ],
      "text/plain": [
       "           DCOILWTICO\n",
       "N_DATE               \n",
       "2016-11-01      46.66\n",
       "2016-11-02      45.32\n",
       "2016-11-03      44.66\n",
       "2016-11-04      44.07\n",
       "2016-11-07      44.88"
      ]
     },
     "execution_count": 38,
     "metadata": {},
     "output_type": "execute_result"
    }
   ],
   "source": [
    "df.set_index('N_DATE', inplace = True)\n",
    "df.head()"
   ]
  },
  {
   "cell_type": "code",
   "execution_count": 39,
   "id": "59db91e5",
   "metadata": {},
   "outputs": [
    {
     "name": "stdout",
     "output_type": "stream",
     "text": [
      "<class 'pandas.core.frame.DataFrame'>\n",
      "DatetimeIndex: 1770 entries, 2016-11-01 to 2023-08-14\n",
      "Data columns (total 1 columns):\n",
      " #   Column      Non-Null Count  Dtype \n",
      "---  ------      --------------  ----- \n",
      " 0   DCOILWTICO  1770 non-null   object\n",
      "dtypes: object(1)\n",
      "memory usage: 27.7+ KB\n"
     ]
    }
   ],
   "source": [
    "df.info()"
   ]
  },
  {
   "cell_type": "code",
   "execution_count": 40,
   "id": "f1a098a9",
   "metadata": {},
   "outputs": [
    {
     "data": {
      "text/html": [
       "<div>\n",
       "<style scoped>\n",
       "    .dataframe tbody tr th:only-of-type {\n",
       "        vertical-align: middle;\n",
       "    }\n",
       "\n",
       "    .dataframe tbody tr th {\n",
       "        vertical-align: top;\n",
       "    }\n",
       "\n",
       "    .dataframe thead th {\n",
       "        text-align: right;\n",
       "    }\n",
       "</style>\n",
       "<table border=\"1\" class=\"dataframe\">\n",
       "  <thead>\n",
       "    <tr style=\"text-align: right;\">\n",
       "      <th></th>\n",
       "      <th>DCOILWTICO</th>\n",
       "    </tr>\n",
       "    <tr>\n",
       "      <th>N_DATE</th>\n",
       "      <th></th>\n",
       "    </tr>\n",
       "  </thead>\n",
       "  <tbody>\n",
       "    <tr>\n",
       "      <th>2016-11-04</th>\n",
       "      <td>44.07</td>\n",
       "    </tr>\n",
       "    <tr>\n",
       "      <th>2016-11-07</th>\n",
       "      <td>44.88</td>\n",
       "    </tr>\n",
       "    <tr>\n",
       "      <th>2016-11-08</th>\n",
       "      <td>44.96</td>\n",
       "    </tr>\n",
       "    <tr>\n",
       "      <th>2016-11-09</th>\n",
       "      <td>45.20</td>\n",
       "    </tr>\n",
       "    <tr>\n",
       "      <th>2016-11-10</th>\n",
       "      <td>44.62</td>\n",
       "    </tr>\n",
       "  </tbody>\n",
       "</table>\n",
       "</div>"
      ],
      "text/plain": [
       "           DCOILWTICO\n",
       "N_DATE               \n",
       "2016-11-04      44.07\n",
       "2016-11-07      44.88\n",
       "2016-11-08      44.96\n",
       "2016-11-09      45.20\n",
       "2016-11-10      44.62"
      ]
     },
     "execution_count": 40,
     "metadata": {},
     "output_type": "execute_result"
    }
   ],
   "source": [
    "df['2016-11-04': '2016-11-10']"
   ]
  },
  {
   "cell_type": "markdown",
   "id": "2503cecb",
   "metadata": {},
   "source": [
    "### 7. Creating Time Series Data"
   ]
  },
  {
   "cell_type": "code",
   "execution_count": 45,
   "id": "25ec5e65",
   "metadata": {},
   "outputs": [
    {
     "data": {
      "text/plain": [
       "DatetimeIndex(['2021-01-01', '2021-01-02', '2021-01-03', '2021-01-04',\n",
       "               '2021-01-05'],\n",
       "              dtype='datetime64[ns]', freq='D')"
      ]
     },
     "execution_count": 45,
     "metadata": {},
     "output_type": "execute_result"
    }
   ],
   "source": [
    "import pandas as pd\n",
    "pd.date_range(start='2021-01-01', end=None, periods=5, freq='D', tz=None)"
   ]
  },
  {
   "cell_type": "code",
   "execution_count": 46,
   "id": "a2a9445c",
   "metadata": {},
   "outputs": [
    {
     "data": {
      "text/plain": [
       "DatetimeIndex(['2021-01-01 00:00:00+09:00', '2021-04-02 00:00:00+09:00',\n",
       "               '2021-07-02 00:00:00+09:00', '2021-10-01 00:00:00+09:00',\n",
       "               '2021-12-31 00:00:00+09:00'],\n",
       "              dtype='datetime64[ns, Asia/Seoul]', freq=None)"
      ]
     },
     "execution_count": 46,
     "metadata": {},
     "output_type": "execute_result"
    }
   ],
   "source": [
    "import pandas as pd\n",
    "pd.date_range(start='2021-01-01', end='2021-12-31', periods=5, freq=None, tz='Asia/Seoul')"
   ]
  },
  {
   "cell_type": "code",
   "execution_count": 47,
   "id": "3bd9999f",
   "metadata": {},
   "outputs": [
    {
     "data": {
      "text/plain": [
       "DatetimeIndex(['2021-01-31', '2021-02-28', '2021-03-31', '2021-04-30',\n",
       "               '2021-05-31'],\n",
       "              dtype='datetime64[ns]', freq='M')"
      ]
     },
     "execution_count": 47,
     "metadata": {},
     "output_type": "execute_result"
    }
   ],
   "source": [
    "import pandas as pd\n",
    "pd.date_range(start='2021-01-01', end=None, periods=5, freq='M', tz=None)"
   ]
  },
  {
   "cell_type": "code",
   "execution_count": 54,
   "id": "77b75e12",
   "metadata": {},
   "outputs": [
    {
     "data": {
      "text/plain": [
       "DatetimeIndex(['2021-01-01', '2021-02-01', '2021-03-01', '2021-04-01',\n",
       "               '2021-05-01'],\n",
       "              dtype='datetime64[ns]', freq='MS')"
      ]
     },
     "execution_count": 54,
     "metadata": {},
     "output_type": "execute_result"
    }
   ],
   "source": [
    "import pandas as pd\n",
    "pd.date_range(start='2021-01-01', end=None, periods=5, freq='MS', tz=None)"
   ]
  },
  {
   "cell_type": "code",
   "execution_count": 55,
   "id": "82556680",
   "metadata": {},
   "outputs": [
    {
     "data": {
      "text/plain": [
       "PeriodIndex(['2020-01', '2020-02', '2020-03', '2020-04', '2020-05', '2020-06',\n",
       "             '2020-07', '2020-08', '2020-09', '2020-10', '2020-11', '2020-12'],\n",
       "            dtype='period[M]')"
      ]
     },
     "execution_count": 55,
     "metadata": {},
     "output_type": "execute_result"
    }
   ],
   "source": [
    "import pandas as pd\n",
    "\n",
    "p_data= pd.period_range(start='2020-1-1',\n",
    "                        end= '2020-12-31',\n",
    "                        periods = None,\n",
    "                        freq='M')\n",
    "\n",
    "p_data"
   ]
  },
  {
   "cell_type": "code",
   "execution_count": 56,
   "id": "867dc7dc",
   "metadata": {},
   "outputs": [
    {
     "name": "stdout",
     "output_type": "stream",
     "text": [
      "2020-01-01 00:00:00 2020-01-31 23:59:59.999999999\n",
      "2020-02-01 00:00:00 2020-02-29 23:59:59.999999999\n",
      "2020-03-01 00:00:00 2020-03-31 23:59:59.999999999\n",
      "2020-04-01 00:00:00 2020-04-30 23:59:59.999999999\n",
      "2020-05-01 00:00:00 2020-05-31 23:59:59.999999999\n",
      "2020-06-01 00:00:00 2020-06-30 23:59:59.999999999\n",
      "2020-07-01 00:00:00 2020-07-31 23:59:59.999999999\n",
      "2020-08-01 00:00:00 2020-08-31 23:59:59.999999999\n",
      "2020-09-01 00:00:00 2020-09-30 23:59:59.999999999\n",
      "2020-10-01 00:00:00 2020-10-31 23:59:59.999999999\n",
      "2020-11-01 00:00:00 2020-11-30 23:59:59.999999999\n",
      "2020-12-01 00:00:00 2020-12-31 23:59:59.999999999\n"
     ]
    }
   ],
   "source": [
    "for i in p_data:\n",
    "    print(\"{0} {1}\".format(i.start_time, i.end_time))"
   ]
  },
  {
   "cell_type": "markdown",
   "id": "ab5ac802",
   "metadata": {},
   "source": [
    "### 8. Moving Statistics Function (Rolling Window Calculations)"
   ]
  },
  {
   "cell_type": "code",
   "execution_count": 3,
   "id": "dcd04899",
   "metadata": {},
   "outputs": [
    {
     "name": "stdout",
     "output_type": "stream",
     "text": [
      "[*********************100%%**********************]  1 of 1 completed\n"
     ]
    },
    {
     "data": {
      "text/html": [
       "<div>\n",
       "<style scoped>\n",
       "    .dataframe tbody tr th:only-of-type {\n",
       "        vertical-align: middle;\n",
       "    }\n",
       "\n",
       "    .dataframe tbody tr th {\n",
       "        vertical-align: top;\n",
       "    }\n",
       "\n",
       "    .dataframe thead th {\n",
       "        text-align: right;\n",
       "    }\n",
       "</style>\n",
       "<table border=\"1\" class=\"dataframe\">\n",
       "  <thead>\n",
       "    <tr style=\"text-align: right;\">\n",
       "      <th></th>\n",
       "      <th>Open</th>\n",
       "      <th>High</th>\n",
       "      <th>Low</th>\n",
       "      <th>Close</th>\n",
       "      <th>Adj Close</th>\n",
       "      <th>Volume</th>\n",
       "    </tr>\n",
       "    <tr>\n",
       "      <th>Date</th>\n",
       "      <th></th>\n",
       "      <th></th>\n",
       "      <th></th>\n",
       "      <th></th>\n",
       "      <th></th>\n",
       "      <th></th>\n",
       "    </tr>\n",
       "  </thead>\n",
       "  <tbody>\n",
       "    <tr>\n",
       "      <th>2020-01-02</th>\n",
       "      <td>55500.0</td>\n",
       "      <td>56000.0</td>\n",
       "      <td>55000.0</td>\n",
       "      <td>55200.0</td>\n",
       "      <td>50037.406250</td>\n",
       "      <td>12993228</td>\n",
       "    </tr>\n",
       "    <tr>\n",
       "      <th>2020-01-03</th>\n",
       "      <td>56000.0</td>\n",
       "      <td>56600.0</td>\n",
       "      <td>54900.0</td>\n",
       "      <td>55500.0</td>\n",
       "      <td>50309.347656</td>\n",
       "      <td>15422255</td>\n",
       "    </tr>\n",
       "    <tr>\n",
       "      <th>2020-01-06</th>\n",
       "      <td>54900.0</td>\n",
       "      <td>55600.0</td>\n",
       "      <td>54600.0</td>\n",
       "      <td>55500.0</td>\n",
       "      <td>50309.347656</td>\n",
       "      <td>10278951</td>\n",
       "    </tr>\n",
       "    <tr>\n",
       "      <th>2020-01-07</th>\n",
       "      <td>55700.0</td>\n",
       "      <td>56400.0</td>\n",
       "      <td>55600.0</td>\n",
       "      <td>55800.0</td>\n",
       "      <td>50581.289062</td>\n",
       "      <td>10009778</td>\n",
       "    </tr>\n",
       "    <tr>\n",
       "      <th>2020-01-08</th>\n",
       "      <td>56200.0</td>\n",
       "      <td>57400.0</td>\n",
       "      <td>55900.0</td>\n",
       "      <td>56800.0</td>\n",
       "      <td>51487.765625</td>\n",
       "      <td>23501171</td>\n",
       "    </tr>\n",
       "  </tbody>\n",
       "</table>\n",
       "</div>"
      ],
      "text/plain": [
       "               Open     High      Low    Close     Adj Close    Volume\n",
       "Date                                                                  \n",
       "2020-01-02  55500.0  56000.0  55000.0  55200.0  50037.406250  12993228\n",
       "2020-01-03  56000.0  56600.0  54900.0  55500.0  50309.347656  15422255\n",
       "2020-01-06  54900.0  55600.0  54600.0  55500.0  50309.347656  10278951\n",
       "2020-01-07  55700.0  56400.0  55600.0  55800.0  50581.289062  10009778\n",
       "2020-01-08  56200.0  57400.0  55900.0  56800.0  51487.765625  23501171"
      ]
     },
     "execution_count": 3,
     "metadata": {},
     "output_type": "execute_result"
    }
   ],
   "source": [
    "import pandas as pd\n",
    "import datetime\n",
    "from datetime import date, datetime, time\n",
    "import matplotlib.pyplot as plt\n",
    "\n",
    "import yfinance as yf\n",
    "start = datetime(2020, 1, 1)\n",
    "end = datetime(2020, 12,31)\n",
    "\n",
    "sec = yf.download(tickers=['005930.KS'],\n",
    "                  start=start,\n",
    "                  end=end)\n",
    "sec.head()"
   ]
  },
  {
   "cell_type": "code",
   "execution_count": 4,
   "id": "c8fd3803",
   "metadata": {},
   "outputs": [
    {
     "name": "stdout",
     "output_type": "stream",
     "text": [
      "<class 'pandas.core.frame.DataFrame'>\n",
      "DatetimeIndex: 248 entries, 2020-01-02 to 2020-12-30\n",
      "Data columns (total 6 columns):\n",
      " #   Column     Non-Null Count  Dtype  \n",
      "---  ------     --------------  -----  \n",
      " 0   Open       248 non-null    float64\n",
      " 1   High       248 non-null    float64\n",
      " 2   Low        248 non-null    float64\n",
      " 3   Close      248 non-null    float64\n",
      " 4   Adj Close  248 non-null    float64\n",
      " 5   Volume     248 non-null    int64  \n",
      "dtypes: float64(5), int64(1)\n",
      "memory usage: 13.6 KB\n"
     ]
    }
   ],
   "source": [
    "sec.info()"
   ]
  },
  {
   "cell_type": "code",
   "execution_count": 6,
   "id": "4646e250",
   "metadata": {},
   "outputs": [
    {
     "data": {
      "text/plain": [
       "Date\n",
       "2020-01-02             NaN\n",
       "2020-01-03             NaN\n",
       "2020-01-06             NaN\n",
       "2020-01-07             NaN\n",
       "2020-01-08    50545.031250\n",
       "2020-01-09    51161.435156\n",
       "2020-01-10    51886.614844\n",
       "2020-01-13    52702.443750\n",
       "2020-01-14    53463.884375\n",
       "2020-01-15    53862.733594\n",
       "Name: Adj Close, dtype: float64"
      ]
     },
     "execution_count": 6,
     "metadata": {},
     "output_type": "execute_result"
    }
   ],
   "source": [
    "ma5 = sec['Adj Close'].rolling(window=5).mean()\n",
    "ma5.head(10)"
   ]
  },
  {
   "cell_type": "code",
   "execution_count": 10,
   "id": "042f1458",
   "metadata": {},
   "outputs": [
    {
     "data": {
      "text/plain": [
       "Text(0, 0.5, 'close price')"
      ]
     },
     "execution_count": 10,
     "metadata": {},
     "output_type": "execute_result"
    },
    {
     "data": {
      "image/png": "[encoded data removed]",
      "text/plain": [
       "<Figure size 1500x1000 with 1 Axes>"
      ]
     },
     "metadata": {},
     "output_type": "display_data"
    }
   ],
   "source": [
    "close = sec['Adj Close']\n",
    "\n",
    "ma5 = sec['Adj Close'].rolling(window=5).mean()\n",
    "ma10 = sec['Adj Close'].rolling(window=10).mean()\n",
    "ma60 = sec['Adj Close'].rolling(window=60).mean()\n",
    "ma120 = sec['Adj Close'].rolling(window=120).mean()\n",
    "\n",
    "plt.figure(figsize = (15,10))\n",
    "\n",
    "plt.plot(close, label='close', linewidth=4)\n",
    "plt.plot(ma5, label='5 window')\n",
    "plt.plot(ma10, label='10 window')\n",
    "plt.plot(ma60, label='60 window')\n",
    "plt.plot(ma120, label='120 window')\n",
    "\n",
    "plt.legend ()\n",
    "plt.title('Rolling window calculations')\n",
    "plt.xlabel('Date')\n",
    "plt.ylabel('close price')"
   ]
  },
  {
   "cell_type": "markdown",
   "id": "a0408f56",
   "metadata": {},
   "source": [
    "## Let’s code"
   ]
  },
  {
   "cell_type": "code",
   "execution_count": 11,
   "id": "3d6ada9b",
   "metadata": {},
   "outputs": [
    {
     "data": {
      "text/html": [
       "<div>\n",
       "<style scoped>\n",
       "    .dataframe tbody tr th:only-of-type {\n",
       "        vertical-align: middle;\n",
       "    }\n",
       "\n",
       "    .dataframe tbody tr th {\n",
       "        vertical-align: top;\n",
       "    }\n",
       "\n",
       "    .dataframe thead th {\n",
       "        text-align: right;\n",
       "    }\n",
       "</style>\n",
       "<table border=\"1\" class=\"dataframe\">\n",
       "  <thead>\n",
       "    <tr style=\"text-align: right;\">\n",
       "      <th></th>\n",
       "      <th>Entity</th>\n",
       "      <th>Code</th>\n",
       "      <th>Year</th>\n",
       "      <th>Aquaculture production (metric tons)</th>\n",
       "      <th>Capture fisheries production (metric tons)</th>\n",
       "    </tr>\n",
       "  </thead>\n",
       "  <tbody>\n",
       "    <tr>\n",
       "      <th>0</th>\n",
       "      <td>Afghanistan</td>\n",
       "      <td>AFG</td>\n",
       "      <td>1969</td>\n",
       "      <td>60.0</td>\n",
       "      <td>400.0</td>\n",
       "    </tr>\n",
       "    <tr>\n",
       "      <th>1</th>\n",
       "      <td>Afghanistan</td>\n",
       "      <td>AFG</td>\n",
       "      <td>1970</td>\n",
       "      <td>60.0</td>\n",
       "      <td>400.0</td>\n",
       "    </tr>\n",
       "    <tr>\n",
       "      <th>2</th>\n",
       "      <td>Afghanistan</td>\n",
       "      <td>AFG</td>\n",
       "      <td>1971</td>\n",
       "      <td>60.0</td>\n",
       "      <td>500.0</td>\n",
       "    </tr>\n",
       "    <tr>\n",
       "      <th>3</th>\n",
       "      <td>Afghanistan</td>\n",
       "      <td>AFG</td>\n",
       "      <td>1972</td>\n",
       "      <td>60.0</td>\n",
       "      <td>500.0</td>\n",
       "    </tr>\n",
       "    <tr>\n",
       "      <th>4</th>\n",
       "      <td>Afghanistan</td>\n",
       "      <td>AFG</td>\n",
       "      <td>1973</td>\n",
       "      <td>60.0</td>\n",
       "      <td>500.0</td>\n",
       "    </tr>\n",
       "  </tbody>\n",
       "</table>\n",
       "</div>"
      ],
      "text/plain": [
       "        Entity Code  Year  Aquaculture production (metric tons)  \\\n",
       "0  Afghanistan  AFG  1969                                  60.0   \n",
       "1  Afghanistan  AFG  1970                                  60.0   \n",
       "2  Afghanistan  AFG  1971                                  60.0   \n",
       "3  Afghanistan  AFG  1972                                  60.0   \n",
       "4  Afghanistan  AFG  1973                                  60.0   \n",
       "\n",
       "   Capture fisheries production (metric tons)  \n",
       "0                                       400.0  \n",
       "1                                       400.0  \n",
       "2                                       500.0  \n",
       "3                                       500.0  \n",
       "4                                       500.0  "
      ]
     },
     "execution_count": 11,
     "metadata": {},
     "output_type": "execute_result"
    }
   ],
   "source": [
    "import pandas as pd\n",
    "import numpy as np\n",
    "import datetime\n",
    "import matplotlib.pyplot as plt\n",
    "\n",
    "from datetime import date, datetime, time, timezone\n",
    "\n",
    "df = pd.read_csv(\"./data/fish/capture-fisheries-vs-aquaculture.csv\")\n",
    "df.head()"
   ]
  },
  {
   "cell_type": "code",
   "execution_count": 12,
   "id": "6895ff80",
   "metadata": {},
   "outputs": [
    {
     "name": "stdout",
     "output_type": "stream",
     "text": [
      "<class 'pandas.core.frame.DataFrame'>\n",
      "RangeIndex: 12727 entries, 0 to 12726\n",
      "Data columns (total 5 columns):\n",
      " #   Column                                      Non-Null Count  Dtype  \n",
      "---  ------                                      --------------  -----  \n",
      " 0   Entity                                      12727 non-null  object \n",
      " 1   Code                                        11842 non-null  object \n",
      " 2   Year                                        12727 non-null  int64  \n",
      " 3   Aquaculture production (metric tons)        9710 non-null   float64\n",
      " 4   Capture fisheries production (metric tons)  12569 non-null  float64\n",
      "dtypes: float64(2), int64(1), object(2)\n",
      "memory usage: 497.3+ KB\n"
     ]
    }
   ],
   "source": [
    "df.info()"
   ]
  },
  {
   "cell_type": "code",
   "execution_count": 13,
   "id": "3244a488",
   "metadata": {},
   "outputs": [
    {
     "data": {
      "text/html": [
       "<div>\n",
       "<style scoped>\n",
       "    .dataframe tbody tr th:only-of-type {\n",
       "        vertical-align: middle;\n",
       "    }\n",
       "\n",
       "    .dataframe tbody tr th {\n",
       "        vertical-align: top;\n",
       "    }\n",
       "\n",
       "    .dataframe thead th {\n",
       "        text-align: right;\n",
       "    }\n",
       "</style>\n",
       "<table border=\"1\" class=\"dataframe\">\n",
       "  <thead>\n",
       "    <tr style=\"text-align: right;\">\n",
       "      <th></th>\n",
       "      <th>Entity</th>\n",
       "      <th>Year</th>\n",
       "      <th>Aquaculture production (metric tons)</th>\n",
       "      <th>Capture fisheries production (metric tons)</th>\n",
       "    </tr>\n",
       "  </thead>\n",
       "  <tbody>\n",
       "    <tr>\n",
       "      <th>0</th>\n",
       "      <td>Afghanistan</td>\n",
       "      <td>1969</td>\n",
       "      <td>60.0</td>\n",
       "      <td>400.0</td>\n",
       "    </tr>\n",
       "    <tr>\n",
       "      <th>1</th>\n",
       "      <td>Afghanistan</td>\n",
       "      <td>1970</td>\n",
       "      <td>60.0</td>\n",
       "      <td>400.0</td>\n",
       "    </tr>\n",
       "    <tr>\n",
       "      <th>2</th>\n",
       "      <td>Afghanistan</td>\n",
       "      <td>1971</td>\n",
       "      <td>60.0</td>\n",
       "      <td>500.0</td>\n",
       "    </tr>\n",
       "    <tr>\n",
       "      <th>3</th>\n",
       "      <td>Afghanistan</td>\n",
       "      <td>1972</td>\n",
       "      <td>60.0</td>\n",
       "      <td>500.0</td>\n",
       "    </tr>\n",
       "    <tr>\n",
       "      <th>4</th>\n",
       "      <td>Afghanistan</td>\n",
       "      <td>1973</td>\n",
       "      <td>60.0</td>\n",
       "      <td>500.0</td>\n",
       "    </tr>\n",
       "  </tbody>\n",
       "</table>\n",
       "</div>"
      ],
      "text/plain": [
       "        Entity  Year  Aquaculture production (metric tons)  \\\n",
       "0  Afghanistan  1969                                  60.0   \n",
       "1  Afghanistan  1970                                  60.0   \n",
       "2  Afghanistan  1971                                  60.0   \n",
       "3  Afghanistan  1972                                  60.0   \n",
       "4  Afghanistan  1973                                  60.0   \n",
       "\n",
       "   Capture fisheries production (metric tons)  \n",
       "0                                       400.0  \n",
       "1                                       400.0  \n",
       "2                                       500.0  \n",
       "3                                       500.0  \n",
       "4                                       500.0  "
      ]
     },
     "execution_count": 13,
     "metadata": {},
     "output_type": "execute_result"
    }
   ],
   "source": [
    "df.drop(['Code'], axis=1, inplace=True)\n",
    "df.head()"
   ]
  },
  {
   "cell_type": "code",
   "execution_count": 14,
   "id": "e638dd32",
   "metadata": {},
   "outputs": [
    {
     "data": {
      "text/plain": [
       "Entity                                           0\n",
       "Year                                             0\n",
       "Aquaculture production (metric tons)          3017\n",
       "Capture fisheries production (metric tons)     158\n",
       "dtype: int64"
      ]
     },
     "execution_count": 14,
     "metadata": {},
     "output_type": "execute_result"
    }
   ],
   "source": [
    "# Search NaN data. You can check the number of missing data for each column.\n",
    "df.isnull().sum()"
   ]
  },
  {
   "cell_type": "code",
   "execution_count": 15,
   "id": "9e1e7f4b",
   "metadata": {},
   "outputs": [
    {
     "data": {
      "text/plain": [
       "Entity                                        0\n",
       "Year                                          0\n",
       "Aquaculture production (metric tons)          0\n",
       "Capture fisheries production (metric tons)    0\n",
       "dtype: int64"
      ]
     },
     "execution_count": 15,
     "metadata": {},
     "output_type": "execute_result"
    }
   ],
   "source": [
    "change_value=0\n",
    "df.fillna(change_value, inplace= True)\n",
    "df.isnull().sum()"
   ]
  },
  {
   "cell_type": "code",
   "execution_count": 16,
   "id": "4b336b6d",
   "metadata": {},
   "outputs": [
    {
     "data": {
      "text/html": [
       "<div>\n",
       "<style scoped>\n",
       "    .dataframe tbody tr th:only-of-type {\n",
       "        vertical-align: middle;\n",
       "    }\n",
       "\n",
       "    .dataframe tbody tr th {\n",
       "        vertical-align: top;\n",
       "    }\n",
       "\n",
       "    .dataframe thead th {\n",
       "        text-align: right;\n",
       "    }\n",
       "</style>\n",
       "<table border=\"1\" class=\"dataframe\">\n",
       "  <thead>\n",
       "    <tr style=\"text-align: right;\">\n",
       "      <th></th>\n",
       "      <th>Entity</th>\n",
       "      <th>Aquaculture production (metric tons)</th>\n",
       "      <th>Capture fisheries production (metric tons)</th>\n",
       "    </tr>\n",
       "    <tr>\n",
       "      <th>new_Year</th>\n",
       "      <th></th>\n",
       "      <th></th>\n",
       "      <th></th>\n",
       "    </tr>\n",
       "  </thead>\n",
       "  <tbody>\n",
       "    <tr>\n",
       "      <th>1969-01-01</th>\n",
       "      <td>Afghanistan</td>\n",
       "      <td>60.0</td>\n",
       "      <td>400.0</td>\n",
       "    </tr>\n",
       "    <tr>\n",
       "      <th>1970-01-01</th>\n",
       "      <td>Afghanistan</td>\n",
       "      <td>60.0</td>\n",
       "      <td>400.0</td>\n",
       "    </tr>\n",
       "    <tr>\n",
       "      <th>1971-01-01</th>\n",
       "      <td>Afghanistan</td>\n",
       "      <td>60.0</td>\n",
       "      <td>500.0</td>\n",
       "    </tr>\n",
       "    <tr>\n",
       "      <th>1972-01-01</th>\n",
       "      <td>Afghanistan</td>\n",
       "      <td>60.0</td>\n",
       "      <td>500.0</td>\n",
       "    </tr>\n",
       "    <tr>\n",
       "      <th>1973-01-01</th>\n",
       "      <td>Afghanistan</td>\n",
       "      <td>60.0</td>\n",
       "      <td>500.0</td>\n",
       "    </tr>\n",
       "  </tbody>\n",
       "</table>\n",
       "</div>"
      ],
      "text/plain": [
       "                 Entity  Aquaculture production (metric tons)  \\\n",
       "new_Year                                                        \n",
       "1969-01-01  Afghanistan                                  60.0   \n",
       "1970-01-01  Afghanistan                                  60.0   \n",
       "1971-01-01  Afghanistan                                  60.0   \n",
       "1972-01-01  Afghanistan                                  60.0   \n",
       "1973-01-01  Afghanistan                                  60.0   \n",
       "\n",
       "            Capture fisheries production (metric tons)  \n",
       "new_Year                                                \n",
       "1969-01-01                                       400.0  \n",
       "1970-01-01                                       400.0  \n",
       "1971-01-01                                       500.0  \n",
       "1972-01-01                                       500.0  \n",
       "1973-01-01                                       500.0  "
      ]
     },
     "execution_count": 16,
     "metadata": {},
     "output_type": "execute_result"
    }
   ],
   "source": [
    "df['new_Year'] = pd.to_datetime(df['Year'].astype(str), format='%Y')\n",
    "df.set_index('new_Year', inplace= True)\n",
    "df.drop(['Year'], axis=1, inplace=True)\n",
    "\n",
    "df.head()"
   ]
  },
  {
   "cell_type": "code",
   "execution_count": 17,
   "id": "4b0cc765",
   "metadata": {},
   "outputs": [
    {
     "name": "stdout",
     "output_type": "stream",
     "text": [
      "<class 'pandas.core.frame.DataFrame'>\n",
      "DatetimeIndex: 12727 entries, 1969-01-01 to 1969-01-01\n",
      "Data columns (total 3 columns):\n",
      " #   Column                                      Non-Null Count  Dtype  \n",
      "---  ------                                      --------------  -----  \n",
      " 0   Entity                                      12727 non-null  object \n",
      " 1   Aquaculture production (metric tons)        12727 non-null  float64\n",
      " 2   Capture fisheries production (metric tons)  12727 non-null  float64\n",
      "dtypes: float64(2), object(1)\n",
      "memory usage: 397.7+ KB\n"
     ]
    }
   ],
   "source": [
    "df.info()"
   ]
  },
  {
   "cell_type": "code",
   "execution_count": 18,
   "id": "a95a2c27",
   "metadata": {},
   "outputs": [
    {
     "data": {
      "text/html": [
       "<div>\n",
       "<style scoped>\n",
       "    .dataframe tbody tr th:only-of-type {\n",
       "        vertical-align: middle;\n",
       "    }\n",
       "\n",
       "    .dataframe tbody tr th {\n",
       "        vertical-align: top;\n",
       "    }\n",
       "\n",
       "    .dataframe thead th {\n",
       "        text-align: right;\n",
       "    }\n",
       "</style>\n",
       "<table border=\"1\" class=\"dataframe\">\n",
       "  <thead>\n",
       "    <tr style=\"text-align: right;\">\n",
       "      <th></th>\n",
       "      <th>Entity</th>\n",
       "      <th>Aquaculture production (metric tons)</th>\n",
       "      <th>Capture fisheries production (metric tons)</th>\n",
       "    </tr>\n",
       "    <tr>\n",
       "      <th>new_Year</th>\n",
       "      <th></th>\n",
       "      <th></th>\n",
       "      <th></th>\n",
       "    </tr>\n",
       "  </thead>\n",
       "  <tbody>\n",
       "    <tr>\n",
       "      <th>1960-01-01</th>\n",
       "      <td>Cayman Islands</td>\n",
       "      <td>0.0</td>\n",
       "      <td>0.0</td>\n",
       "    </tr>\n",
       "    <tr>\n",
       "      <th>1960-01-01</th>\n",
       "      <td>Bahrain</td>\n",
       "      <td>0.0</td>\n",
       "      <td>1500.0</td>\n",
       "    </tr>\n",
       "    <tr>\n",
       "      <th>1960-01-01</th>\n",
       "      <td>North Korea</td>\n",
       "      <td>5236.0</td>\n",
       "      <td>299190.0</td>\n",
       "    </tr>\n",
       "    <tr>\n",
       "      <th>1960-01-01</th>\n",
       "      <td>Northern Mariana Islands</td>\n",
       "      <td>0.0</td>\n",
       "      <td>100.0</td>\n",
       "    </tr>\n",
       "    <tr>\n",
       "      <th>1960-01-01</th>\n",
       "      <td>Norway</td>\n",
       "      <td>1900.0</td>\n",
       "      <td>1609362.0</td>\n",
       "    </tr>\n",
       "  </tbody>\n",
       "</table>\n",
       "</div>"
      ],
      "text/plain": [
       "                              Entity  Aquaculture production (metric tons)  \\\n",
       "new_Year                                                                     \n",
       "1960-01-01            Cayman Islands                                   0.0   \n",
       "1960-01-01                   Bahrain                                   0.0   \n",
       "1960-01-01               North Korea                                5236.0   \n",
       "1960-01-01  Northern Mariana Islands                                   0.0   \n",
       "1960-01-01                    Norway                                1900.0   \n",
       "\n",
       "            Capture fisheries production (metric tons)  \n",
       "new_Year                                                \n",
       "1960-01-01                                         0.0  \n",
       "1960-01-01                                      1500.0  \n",
       "1960-01-01                                    299190.0  \n",
       "1960-01-01                                       100.0  \n",
       "1960-01-01                                   1609362.0  "
      ]
     },
     "execution_count": 18,
     "metadata": {},
     "output_type": "execute_result"
    }
   ],
   "source": [
    "new_df=df.sort_index()\n",
    "new_df.head()"
   ]
  },
  {
   "cell_type": "code",
   "execution_count": 20,
   "id": "ee1131c8",
   "metadata": {},
   "outputs": [
    {
     "name": "stdout",
     "output_type": "stream",
     "text": [
      "<class 'pandas.core.frame.DataFrame'>\n",
      "DatetimeIndex: 12727 entries, 1960-01-01 to 2018-01-01\n",
      "Data columns (total 3 columns):\n",
      " #   Column                                      Non-Null Count  Dtype   \n",
      "---  ------                                      --------------  -----   \n",
      " 0   Entity                                      12727 non-null  category\n",
      " 1   Aquaculture production (metric tons)        12727 non-null  float64 \n",
      " 2   Capture fisheries production (metric tons)  12727 non-null  float64 \n",
      "dtypes: category(1), float64(2)\n",
      "memory usage: 333.1 KB\n"
     ]
    }
   ],
   "source": [
    "new_df['Entity']=new_df['Entity'].astype('category')\n",
    "new_df.info()"
   ]
  },
  {
   "cell_type": "code",
   "execution_count": 21,
   "id": "94be538a",
   "metadata": {},
   "outputs": [
    {
     "data": {
      "text/plain": [
       "Entity\n",
       "Afghanistan                   59\n",
       "Portugal                      59\n",
       "Mozambique                    59\n",
       "Myanmar                       59\n",
       "Namibia                       59\n",
       "                              ..\n",
       "Montenegro                    13\n",
       "Saint Martin (French part)    12\n",
       "Curacao                        8\n",
       "Sint Maarten (Dutch part)      8\n",
       "South Sudan                    7\n",
       "Name: count, Length: 231, dtype: int64"
      ]
     },
     "execution_count": 21,
     "metadata": {},
     "output_type": "execute_result"
    }
   ],
   "source": [
    "new_df['Entity'].value_counts()"
   ]
  },
  {
   "cell_type": "code",
   "execution_count": 22,
   "id": "0fb463c4",
   "metadata": {},
   "outputs": [],
   "source": [
    "g = new_df.groupby(['new_Year'])"
   ]
  },
  {
   "cell_type": "code",
   "execution_count": 23,
   "id": "5175bef6",
   "metadata": {},
   "outputs": [
    {
     "data": {
      "text/html": [
       "<div>\n",
       "<style scoped>\n",
       "    .dataframe tbody tr th:only-of-type {\n",
       "        vertical-align: middle;\n",
       "    }\n",
       "\n",
       "    .dataframe tbody tr th {\n",
       "        vertical-align: top;\n",
       "    }\n",
       "\n",
       "    .dataframe thead th {\n",
       "        text-align: right;\n",
       "    }\n",
       "</style>\n",
       "<table border=\"1\" class=\"dataframe\">\n",
       "  <thead>\n",
       "    <tr style=\"text-align: right;\">\n",
       "      <th></th>\n",
       "      <th>Entity</th>\n",
       "      <th>Aquaculture production (metric tons)</th>\n",
       "      <th>Capture fisheries production (metric tons)</th>\n",
       "    </tr>\n",
       "    <tr>\n",
       "      <th>new_Year</th>\n",
       "      <th></th>\n",
       "      <th></th>\n",
       "      <th></th>\n",
       "    </tr>\n",
       "  </thead>\n",
       "  <tbody>\n",
       "    <tr>\n",
       "      <th>1960-01-01</th>\n",
       "      <td>Cayman Islands</td>\n",
       "      <td>0.00</td>\n",
       "      <td>0.0</td>\n",
       "    </tr>\n",
       "    <tr>\n",
       "      <th>1960-01-01</th>\n",
       "      <td>Bahrain</td>\n",
       "      <td>0.00</td>\n",
       "      <td>1500.0</td>\n",
       "    </tr>\n",
       "    <tr>\n",
       "      <th>1960-01-01</th>\n",
       "      <td>North Korea</td>\n",
       "      <td>5236.00</td>\n",
       "      <td>299190.0</td>\n",
       "    </tr>\n",
       "    <tr>\n",
       "      <th>1960-01-01</th>\n",
       "      <td>Northern Mariana Islands</td>\n",
       "      <td>0.00</td>\n",
       "      <td>100.0</td>\n",
       "    </tr>\n",
       "    <tr>\n",
       "      <th>1960-01-01</th>\n",
       "      <td>Norway</td>\n",
       "      <td>1900.00</td>\n",
       "      <td>1609362.0</td>\n",
       "    </tr>\n",
       "    <tr>\n",
       "      <th>...</th>\n",
       "      <td>...</td>\n",
       "      <td>...</td>\n",
       "      <td>...</td>\n",
       "    </tr>\n",
       "    <tr>\n",
       "      <th>2018-01-01</th>\n",
       "      <td>Slovakia</td>\n",
       "      <td>2224.41</td>\n",
       "      <td>1937.0</td>\n",
       "    </tr>\n",
       "    <tr>\n",
       "      <th>2018-01-01</th>\n",
       "      <td>Cayman Islands</td>\n",
       "      <td>0.00</td>\n",
       "      <td>125.0</td>\n",
       "    </tr>\n",
       "    <tr>\n",
       "      <th>2018-01-01</th>\n",
       "      <td>Qatar</td>\n",
       "      <td>10.00</td>\n",
       "      <td>14669.0</td>\n",
       "    </tr>\n",
       "    <tr>\n",
       "      <th>2018-01-01</th>\n",
       "      <td>Romania</td>\n",
       "      <td>12298.45</td>\n",
       "      <td>11179.0</td>\n",
       "    </tr>\n",
       "    <tr>\n",
       "      <th>2018-01-01</th>\n",
       "      <td>Liberia</td>\n",
       "      <td>240.00</td>\n",
       "      <td>14115.0</td>\n",
       "    </tr>\n",
       "  </tbody>\n",
       "</table>\n",
       "<p>295 rows × 3 columns</p>\n",
       "</div>"
      ],
      "text/plain": [
       "                              Entity  Aquaculture production (metric tons)  \\\n",
       "new_Year                                                                     \n",
       "1960-01-01            Cayman Islands                                  0.00   \n",
       "1960-01-01                   Bahrain                                  0.00   \n",
       "1960-01-01               North Korea                               5236.00   \n",
       "1960-01-01  Northern Mariana Islands                                  0.00   \n",
       "1960-01-01                    Norway                               1900.00   \n",
       "...                              ...                                   ...   \n",
       "2018-01-01                  Slovakia                               2224.41   \n",
       "2018-01-01            Cayman Islands                                  0.00   \n",
       "2018-01-01                     Qatar                                 10.00   \n",
       "2018-01-01                   Romania                              12298.45   \n",
       "2018-01-01                   Liberia                                240.00   \n",
       "\n",
       "            Capture fisheries production (metric tons)  \n",
       "new_Year                                                \n",
       "1960-01-01                                         0.0  \n",
       "1960-01-01                                      1500.0  \n",
       "1960-01-01                                    299190.0  \n",
       "1960-01-01                                       100.0  \n",
       "1960-01-01                                   1609362.0  \n",
       "...                                                ...  \n",
       "2018-01-01                                      1937.0  \n",
       "2018-01-01                                       125.0  \n",
       "2018-01-01                                     14669.0  \n",
       "2018-01-01                                     11179.0  \n",
       "2018-01-01                                     14115.0  \n",
       "\n",
       "[295 rows x 3 columns]"
      ]
     },
     "execution_count": 23,
     "metadata": {},
     "output_type": "execute_result"
    }
   ],
   "source": [
    "g.head()"
   ]
  },
  {
   "cell_type": "code",
   "execution_count": 24,
   "id": "f87143d6",
   "metadata": {},
   "outputs": [
    {
     "name": "stdout",
     "output_type": "stream",
     "text": [
      "+key: (Timestamp('1960-01-01 00:00:00'),)\n",
      "+number: 199\n",
      "                              Entity  Aquaculture production (metric tons)  \\\n",
      "new_Year                                                                     \n",
      "1960-01-01            Cayman Islands                                   0.0   \n",
      "1960-01-01                   Bahrain                                   0.0   \n",
      "1960-01-01               North Korea                                5236.0   \n",
      "1960-01-01  Northern Mariana Islands                                   0.0   \n",
      "1960-01-01                    Norway                                1900.0   \n",
      "\n",
      "            Capture fisheries production (metric tons)  \n",
      "new_Year                                                \n",
      "1960-01-01                                         0.0  \n",
      "1960-01-01                                      1500.0  \n",
      "1960-01-01                                    299190.0  \n",
      "1960-01-01                                       100.0  \n",
      "1960-01-01                                   1609362.0  \n",
      "\n",
      "\n",
      "+key: (Timestamp('1961-01-01 00:00:00'),)\n",
      "+number: 200\n",
      "                        Entity  Aquaculture production (metric tons)  \\\n",
      "new_Year                                                               \n",
      "1961-01-01             Ecuador                                   0.0   \n",
      "1961-01-01  Sub-Saharan Africa                                2583.0   \n",
      "1961-01-01               Palau                                   0.0   \n",
      "1961-01-01             Lebanon                                   0.0   \n",
      "1961-01-01               Libya                                   0.0   \n",
      "\n",
      "            Capture fisheries production (metric tons)  \n",
      "new_Year                                                \n",
      "1961-01-01                                     38600.0  \n",
      "1961-01-01                                   2146006.0  \n",
      "1961-01-01                                       500.0  \n",
      "1961-01-01                                      1900.0  \n",
      "1961-01-01                                      1700.0  \n",
      "\n",
      "\n",
      "+key: (Timestamp('1962-01-01 00:00:00'),)\n",
      "+number: 200\n",
      "                 Entity  Aquaculture production (metric tons)  \\\n",
      "new_Year                                                        \n",
      "1962-01-01       Guinea                                   0.0   \n",
      "1962-01-01        Macao                                   0.0   \n",
      "1962-01-01       Gambia                                   0.0   \n",
      "1962-01-01  Isle of Man                                   0.0   \n",
      "1962-01-01         Laos                                   0.0   \n",
      "\n",
      "            Capture fisheries production (metric tons)  \n",
      "new_Year                                                \n",
      "1962-01-01                                      4000.0  \n",
      "1962-01-01                                      5800.0  \n",
      "1962-01-01                                      5300.0  \n",
      "1962-01-01                                      4500.0  \n",
      "1962-01-01                                     15000.0  \n",
      "\n",
      "\n",
      "+key: (Timestamp('1963-01-01 00:00:00'),)\n",
      "+number: 200\n",
      "                           Entity  Aquaculture production (metric tons)  \\\n",
      "new_Year                                                                  \n",
      "1963-01-01                  Macao                                   0.0   \n",
      "1963-01-01          Cote d'Ivoire                                   0.0   \n",
      "1963-01-01                   Oman                                   0.0   \n",
      "1963-01-01                Namibia                                   0.0   \n",
      "1963-01-01  Low and middle income                             1263094.0   \n",
      "\n",
      "            Capture fisheries production (metric tons)  \n",
      "new_Year                                                \n",
      "1963-01-01                                      5500.0  \n",
      "1963-01-01                                     45600.0  \n",
      "1963-01-01                                     60000.0  \n",
      "1963-01-01                                         0.0  \n",
      "1963-01-01                                  18192430.0  \n",
      "\n",
      "\n",
      "+key: (Timestamp('1964-01-01 00:00:00'),)\n",
      "+number: 200\n",
      "               Entity  Aquaculture production (metric tons)  \\\n",
      "new_Year                                                      \n",
      "1964-01-01      Nepal                                   0.0   \n",
      "1964-01-01  Hong Kong                                1390.0   \n",
      "1964-01-01   Maldives                                   0.0   \n",
      "1964-01-01    Belgium                                   0.0   \n",
      "1964-01-01    Hungary                               16100.0   \n",
      "\n",
      "            Capture fisheries production (metric tons)  \n",
      "new_Year                                                \n",
      "1964-01-01                                      1600.0  \n",
      "1964-01-01                                     62430.0  \n",
      "1964-01-01                                     12000.0  \n",
      "1964-01-01                                     59500.0  \n",
      "1964-01-01                                      6600.0  \n",
      "\n",
      "\n",
      "+key: (Timestamp('1965-01-01 00:00:00'),)\n",
      "+number: 200\n",
      "                Entity  Aquaculture production (metric tons)  \\\n",
      "new_Year                                                       \n",
      "1965-01-01       Japan                              412523.0   \n",
      "1965-01-01     Lebanon                                   0.0   \n",
      "1965-01-01      Belize                                   0.0   \n",
      "1965-01-01       Italy                               11813.0   \n",
      "1965-01-01  Low income                               14143.0   \n",
      "\n",
      "            Capture fisheries production (metric tons)  \n",
      "new_Year                                                \n",
      "1965-01-01                                   6566241.0  \n",
      "1965-01-01                                      2300.0  \n",
      "1965-01-01                                       800.0  \n",
      "1965-01-01                                    344541.0  \n",
      "1965-01-01                                    937800.0  \n",
      "\n",
      "\n",
      "+key: (Timestamp('1966-01-01 00:00:00'),)\n",
      "+number: 200\n",
      "                           Entity  Aquaculture production (metric tons)  \\\n",
      "new_Year                                                                  \n",
      "1966-01-01             East Timor                                   0.0   \n",
      "1966-01-01  East Asia and Pacific                             2244844.0   \n",
      "1966-01-01               Zimbabwe                                   0.0   \n",
      "1966-01-01     Dominican Republic                                   0.0   \n",
      "1966-01-01                 Cyprus                                   0.0   \n",
      "\n",
      "            Capture fisheries production (metric tons)  \n",
      "new_Year                                                \n",
      "1966-01-01                                         0.0  \n",
      "1966-01-01                                  14736372.0  \n",
      "1966-01-01                                      2000.0  \n",
      "1966-01-01                                      3500.0  \n",
      "1966-01-01                                      1009.0  \n",
      "\n",
      "\n",
      "+key: (Timestamp('1967-01-01 00:00:00'),)\n",
      "+number: 200\n",
      "              Entity  Aquaculture production (metric tons)  \\\n",
      "new_Year                                                     \n",
      "1967-01-01  Djibouti                                   0.0   \n",
      "1967-01-01   Algeria                                   0.0   \n",
      "1967-01-01      Togo                                   0.0   \n",
      "1967-01-01    Poland                                9927.0   \n",
      "1967-01-01    Brunei                                   0.0   \n",
      "\n",
      "            Capture fisheries production (metric tons)  \n",
      "new_Year                                                \n",
      "1967-01-01                                       300.0  \n",
      "1967-01-01                                     21150.0  \n",
      "1967-01-01                                      7500.0  \n",
      "1967-01-01                                    328215.0  \n",
      "1967-01-01                                      1200.0  \n",
      "\n",
      "\n",
      "+key: (Timestamp('1968-01-01 00:00:00'),)\n",
      "+number: 201\n",
      "                         Entity  Aquaculture production (metric tons)  \\\n",
      "new_Year                                                                \n",
      "1968-01-01  Antigua and Barbuda                                   0.0   \n",
      "1968-01-01            Sri Lanka                                   0.0   \n",
      "1968-01-01               Zambia                                   0.0   \n",
      "1968-01-01                Libya                                   0.0   \n",
      "1968-01-01            Indonesia                              104175.0   \n",
      "\n",
      "            Capture fisheries production (metric tons)  \n",
      "new_Year                                                \n",
      "1968-01-01                                       800.0  \n",
      "1968-01-01                                     98302.0  \n",
      "1968-01-01                                     41300.0  \n",
      "1968-01-01                                      5560.0  \n",
      "1968-01-01                                   1075825.0  \n",
      "\n",
      "\n",
      "+key: (Timestamp('1969-01-01 00:00:00'),)\n",
      "+number: 201\n",
      "                              Entity  Aquaculture production (metric tons)  \\\n",
      "new_Year                                                                     \n",
      "1969-01-01            Cayman Islands                                   0.0   \n",
      "1969-01-01                     China                             1513849.0   \n",
      "1969-01-01                      Cuba                                 220.0   \n",
      "1969-01-01                Costa Rica                                   0.0   \n",
      "1969-01-01  Central African Republic                                   0.0   \n",
      "\n",
      "            Capture fisheries production (metric tons)  \n",
      "new_Year                                                \n",
      "1969-01-01                                         0.0  \n",
      "1969-01-01                                   2553251.0  \n",
      "1969-01-01                                     78699.0  \n",
      "1969-01-01                                      4100.0  \n",
      "1969-01-01                                      6000.0  \n",
      "\n",
      "\n",
      "+key: (Timestamp('1970-01-01 00:00:00'),)\n",
      "+number: 207\n",
      "              Entity  Aquaculture production (metric tons)  \\\n",
      "new_Year                                                     \n",
      "1970-01-01    Gambia                                   0.0   \n",
      "1970-01-01   Liberia                                   0.0   \n",
      "1970-01-01    Russia                                   0.0   \n",
      "1970-01-01   Jamaica                                   0.0   \n",
      "1970-01-01  Colombia                                   0.0   \n",
      "\n",
      "            Capture fisheries production (metric tons)  \n",
      "new_Year                                                \n",
      "1970-01-01                                      7447.0  \n",
      "1970-01-01                                      8000.0  \n",
      "1970-01-01                                         0.0  \n",
      "1970-01-01                                      8500.0  \n",
      "1970-01-01                                     54500.0  \n",
      "\n",
      "\n",
      "+key: (Timestamp('1971-01-01 00:00:00'),)\n",
      "+number: 207\n",
      "                                      Entity  \\\n",
      "new_Year                                       \n",
      "1971-01-01                             Sudan   \n",
      "1971-01-01                              Oman   \n",
      "1971-01-01  Saint Vincent and the Grenadines   \n",
      "1971-01-01                       El Salvador   \n",
      "1971-01-01                           Morocco   \n",
      "\n",
      "            Aquaculture production (metric tons)  \\\n",
      "new_Year                                           \n",
      "1971-01-01                                   0.0   \n",
      "1971-01-01                                   0.0   \n",
      "1971-01-01                                   0.0   \n",
      "1971-01-01                                   0.0   \n",
      "1971-01-01                                  35.0   \n",
      "\n",
      "            Capture fisheries production (metric tons)  \n",
      "new_Year                                                \n",
      "1971-01-01                                     22200.0  \n",
      "1971-01-01                                    114000.0  \n",
      "1971-01-01                                       300.0  \n",
      "1971-01-01                                     10700.0  \n",
      "1971-01-01                                    234784.0  \n",
      "\n",
      "\n",
      "+key: (Timestamp('1972-01-01 00:00:00'),)\n",
      "+number: 207\n",
      "                                  Entity  \\\n",
      "new_Year                                   \n",
      "1972-01-01                       Bahrain   \n",
      "1972-01-01                     Australia   \n",
      "1972-01-01      Northern Mariana Islands   \n",
      "1972-01-01                    Costa Rica   \n",
      "1972-01-01  Democratic Republic of Congo   \n",
      "\n",
      "            Aquaculture production (metric tons)  \\\n",
      "new_Year                                           \n",
      "1972-01-01                                   0.0   \n",
      "1972-01-01                               10400.0   \n",
      "1972-01-01                                   0.0   \n",
      "1972-01-01                                   0.0   \n",
      "1972-01-01                                   0.0   \n",
      "\n",
      "            Capture fisheries production (metric tons)  \n",
      "new_Year                                                \n",
      "1972-01-01                                      3700.0  \n",
      "1972-01-01                                    117250.0  \n",
      "1972-01-01                                       150.0  \n",
      "1972-01-01                                     12550.0  \n",
      "1972-01-01                                    124200.0  \n",
      "\n",
      "\n",
      "+key: (Timestamp('1973-01-01 00:00:00'),)\n",
      "+number: 207\n",
      "                        Entity  Aquaculture production (metric tons)  \\\n",
      "new_Year                                                               \n",
      "1973-01-01  Dominican Republic                                   0.0   \n",
      "1973-01-01             Romania                               27850.0   \n",
      "1973-01-01               Malta                                   0.0   \n",
      "1973-01-01             Austria                                1300.0   \n",
      "1973-01-01         Afghanistan                                  60.0   \n",
      "\n",
      "            Capture fisheries production (metric tons)  \n",
      "new_Year                                                \n",
      "1973-01-01                                      9200.0  \n",
      "1973-01-01                                     74218.0  \n",
      "1973-01-01                                      1644.0  \n",
      "1973-01-01                                       900.0  \n",
      "1973-01-01                                       500.0  \n",
      "\n",
      "\n",
      "+key: (Timestamp('1974-01-01 00:00:00'),)\n",
      "+number: 207\n",
      "                 Entity  Aquaculture production (metric tons)  \\\n",
      "new_Year                                                        \n",
      "1974-01-01      Bahamas                                   0.0   \n",
      "1974-01-01      Ecuador                                1030.0   \n",
      "1974-01-01  North Korea                              143138.0   \n",
      "1974-01-01         Oman                                   0.0   \n",
      "1974-01-01      Hungary                               21791.0   \n",
      "\n",
      "            Capture fisheries production (metric tons)  \n",
      "new_Year                                                \n",
      "1974-01-01                                      4663.0  \n",
      "1974-01-01                                    175470.0  \n",
      "1974-01-01                                    550000.0  \n",
      "1974-01-01                                    180000.0  \n",
      "1974-01-01                                      8368.0  \n",
      "\n",
      "\n",
      "+key: (Timestamp('1975-01-01 00:00:00'),)\n",
      "+number: 207\n",
      "                    Entity  Aquaculture production (metric tons)  \\\n",
      "new_Year                                                           \n",
      "1975-01-01      Seychelles                                   0.0   \n",
      "1975-01-01  European Union                              635559.0   \n",
      "1975-01-01         Finland                                1800.0   \n",
      "1975-01-01      South Asia                              291352.0   \n",
      "1975-01-01    Sierra Leone                                   0.0   \n",
      "\n",
      "            Capture fisheries production (metric tons)  \n",
      "new_Year                                                \n",
      "1975-01-01                                      3950.0  \n",
      "1975-01-01                                   7316792.0  \n",
      "1975-01-01                                    109997.0  \n",
      "1975-01-01                                   2960669.0  \n",
      "1975-01-01                                     68873.0  \n",
      "\n",
      "\n",
      "+key: (Timestamp('1976-01-01 00:00:00'),)\n",
      "+number: 207\n",
      "               Entity  Aquaculture production (metric tons)  \\\n",
      "new_Year                                                      \n",
      "1976-01-01    Morocco                                  65.0   \n",
      "1976-01-01  Gibraltar                                   0.0   \n",
      "1976-01-01    Algeria                                   0.0   \n",
      "1976-01-01     Malawi                                   7.0   \n",
      "1976-01-01      Macao                                   0.0   \n",
      "\n",
      "            Capture fisheries production (metric tons)  \n",
      "new_Year                                                \n",
      "1976-01-01                                    288930.0  \n",
      "1976-01-01                                         1.0  \n",
      "1976-01-01                                     35122.0  \n",
      "1976-01-01                                     74893.0  \n",
      "1976-01-01                                      7400.0  \n",
      "\n",
      "\n",
      "+key: (Timestamp('1977-01-01 00:00:00'),)\n",
      "+number: 207\n",
      "                  Entity  Aquaculture production (metric tons)  \\\n",
      "new_Year                                                         \n",
      "1977-01-01        Brunei                                   0.0   \n",
      "1977-01-01  Saudi Arabia                                   0.0   \n",
      "1977-01-01       Austria                                1600.0   \n",
      "1977-01-01       Denmark                               13633.0   \n",
      "1977-01-01      Botswana                                   0.0   \n",
      "\n",
      "            Capture fisheries production (metric tons)  \n",
      "new_Year                                                \n",
      "1977-01-01                                      2193.0  \n",
      "1977-01-01                                     22800.0  \n",
      "1977-01-01                                       870.0  \n",
      "1977-01-01                                   1792979.0  \n",
      "1977-01-01                                      1500.0  \n",
      "\n",
      "\n",
      "+key: (Timestamp('1978-01-01 00:00:00'),)\n",
      "+number: 207\n",
      "                   Entity  Aquaculture production (metric tons)  \\\n",
      "new_Year                                                          \n",
      "1978-01-01        Somalia                                   0.0   \n",
      "1978-01-01         Rwanda                                  18.0   \n",
      "1978-01-01  New Caledonia                                   0.0   \n",
      "1978-01-01         Russia                                   0.0   \n",
      "1978-01-01  Liechtenstein                                   0.0   \n",
      "\n",
      "            Capture fisheries production (metric tons)  \n",
      "new_Year                                                \n",
      "1978-01-01                                      8384.0  \n",
      "1978-01-01                                       715.0  \n",
      "1978-01-01                                      2963.0  \n",
      "1978-01-01                                         0.0  \n",
      "1978-01-01                                         0.0  \n",
      "\n",
      "\n",
      "+key: (Timestamp('1979-01-01 00:00:00'),)\n",
      "+number: 207\n",
      "                 Entity  Aquaculture production (metric tons)  \\\n",
      "new_Year                                                        \n",
      "1979-01-01       Zambia                                  15.0   \n",
      "1979-01-01  Puerto Rico                                   0.0   \n",
      "1979-01-01        Samoa                                   0.0   \n",
      "1979-01-01     Honduras                                  55.0   \n",
      "1979-01-01      Denmark                               17118.0   \n",
      "\n",
      "            Capture fisheries production (metric tons)  \n",
      "new_Year                                                \n",
      "1979-01-01                                     49511.0  \n",
      "1979-01-01                                      3597.0  \n",
      "1979-01-01                                      1890.0  \n",
      "1979-01-01                                      8803.0  \n",
      "1979-01-01                                   1724138.0  \n",
      "\n",
      "\n",
      "+key: (Timestamp('1980-01-01 00:00:00'),)\n",
      "+number: 207\n",
      "                         Entity  Aquaculture production (metric tons)  \\\n",
      "new_Year                                                                \n",
      "1980-01-01          Saint Lucia                                   0.0   \n",
      "1980-01-01              Lebanon                                  40.0   \n",
      "1980-01-01              Lesotho                                  23.0   \n",
      "1980-01-01  Antigua and Barbuda                                   0.0   \n",
      "1980-01-01                Syria                                 509.0   \n",
      "\n",
      "            Capture fisheries production (metric tons)  \n",
      "new_Year                                                \n",
      "1980-01-01                                       969.0  \n",
      "1980-01-01                                      1700.0  \n",
      "1980-01-01                                         0.0  \n",
      "1980-01-01                                      1171.0  \n",
      "1980-01-01                                      3462.0  \n",
      "\n",
      "\n",
      "+key: (Timestamp('1981-01-01 00:00:00'),)\n",
      "+number: 207\n",
      "                          Entity  Aquaculture production (metric tons)  \\\n",
      "new_Year                                                                 \n",
      "1981-01-01               Albania                                 455.0   \n",
      "1981-01-01             Nicaragua                                   0.0   \n",
      "1981-01-01            Kyrgyzstan                                   0.0   \n",
      "1981-01-01  Micronesia (country)                                   0.0   \n",
      "1981-01-01                  Guam                                  11.0   \n",
      "\n",
      "            Capture fisheries production (metric tons)  \n",
      "new_Year                                                \n",
      "1981-01-01                                      8921.0  \n",
      "1981-01-01                                      5944.0  \n",
      "1981-01-01                                         0.0  \n",
      "1981-01-01                                      1720.0  \n",
      "1981-01-01                                       315.0  \n",
      "\n",
      "\n",
      "+key: (Timestamp('1982-01-01 00:00:00'),)\n",
      "+number: 207\n",
      "             Entity  Aquaculture production (metric tons)  \\\n",
      "new_Year                                                    \n",
      "1982-01-01  Namibia                                   0.0   \n",
      "1982-01-01     Guam                                  45.0   \n",
      "1982-01-01   Panama                                 993.0   \n",
      "1982-01-01  Andorra                                   0.0   \n",
      "1982-01-01   Guyana                                   0.0   \n",
      "\n",
      "            Capture fisheries production (metric tons)  \n",
      "new_Year                                                \n",
      "1982-01-01                                     11650.0  \n",
      "1982-01-01                                       399.0  \n",
      "1982-01-01                                    119023.0  \n",
      "1982-01-01                                         0.0  \n",
      "1982-01-01                                     32794.0  \n",
      "\n",
      "\n",
      "+key: (Timestamp('1983-01-01 00:00:00'),)\n",
      "+number: 207\n",
      "                                  Entity  \\\n",
      "new_Year                                   \n",
      "1983-01-01                  Burkina Faso   \n",
      "1983-01-01                         Italy   \n",
      "1983-01-01                        Turkey   \n",
      "1983-01-01                    Mozambique   \n",
      "1983-01-01  Middle East and North Africa   \n",
      "\n",
      "            Aquaculture production (metric tons)  \\\n",
      "new_Year                                           \n",
      "1983-01-01                                 114.0   \n",
      "1983-01-01                               89848.0   \n",
      "1983-01-01                                1970.0   \n",
      "1983-01-01                                   0.0   \n",
      "1983-01-01                               57269.0   \n",
      "\n",
      "            Capture fisheries production (metric tons)  \n",
      "new_Year                                                \n",
      "1983-01-01                                     7100.00  \n",
      "1983-01-01                                   454107.47  \n",
      "1983-01-01                                   557297.00  \n",
      "1983-01-01                                    40940.00  \n",
      "1983-01-01                                  1158072.20  \n",
      "\n",
      "\n",
      "+key: (Timestamp('1984-01-01 00:00:00'),)\n",
      "+number: 207\n",
      "            Entity  Aquaculture production (metric tons)  \\\n",
      "new_Year                                                   \n",
      "1984-01-01  Turkey                                2226.0   \n",
      "1984-01-01    Oman                                   0.0   \n",
      "1984-01-01  Panama                                1507.0   \n",
      "1984-01-01   Palau                                   0.0   \n",
      "1984-01-01  Norway                               25453.0   \n",
      "\n",
      "            Capture fisheries production (metric tons)  \n",
      "new_Year                                                \n",
      "1984-01-01                                   566942.06  \n",
      "1984-01-01                                   105200.00  \n",
      "1984-01-01                                   133507.00  \n",
      "1984-01-01                                     1037.00  \n",
      "1984-01-01                                  2588549.00  \n",
      "\n",
      "\n",
      "+key: (Timestamp('1985-01-01 00:00:00'),)\n",
      "+number: 207\n",
      "                           Entity  Aquaculture production (metric tons)  \\\n",
      "new_Year                                                                  \n",
      "1985-01-01                  Spain                              266608.0   \n",
      "1985-01-01               Cameroon                                 130.0   \n",
      "1985-01-01  Sao Tome and Principe                                   0.0   \n",
      "1985-01-01          Faroe Islands                                1620.0   \n",
      "1985-01-01                Tunisia                                 147.0   \n",
      "\n",
      "            Capture fisheries production (metric tons)  \n",
      "new_Year                                                \n",
      "1985-01-01                                  1222954.80  \n",
      "1985-01-01                                    73969.00  \n",
      "1985-01-01                                     3988.00  \n",
      "1985-01-01                                   374918.00  \n",
      "1985-01-01                                    89678.51  \n",
      "\n",
      "\n",
      "+key: (Timestamp('1986-01-01 00:00:00'),)\n",
      "+number: 207\n",
      "                 Entity  Aquaculture production (metric tons)  \\\n",
      "new_Year                                                        \n",
      "1986-01-01    Nicaragua                                  36.0   \n",
      "1986-01-01      Ireland                               12741.0   \n",
      "1986-01-01      Bolivia                                   0.0   \n",
      "1986-01-01       Cyprus                                  57.0   \n",
      "1986-01-01  North Korea                              855100.0   \n",
      "\n",
      "            Capture fisheries production (metric tons)  \n",
      "new_Year                                                \n",
      "1986-01-01                                    2465.000  \n",
      "1986-01-01                                  248878.000  \n",
      "1986-01-01                                    3871.000  \n",
      "1986-01-01                                    2541.388  \n",
      "1986-01-01                                  773000.000  \n",
      "\n",
      "\n",
      "+key: (Timestamp('1987-01-01 00:00:00'),)\n",
      "+number: 207\n",
      "                   Entity  Aquaculture production (metric tons)  \\\n",
      "new_Year                                                          \n",
      "1987-01-01        Hungary                               17948.0   \n",
      "1987-01-01  Liechtenstein                                   0.0   \n",
      "1987-01-01    Afghanistan                                 170.0   \n",
      "1987-01-01         Malawi                                 203.0   \n",
      "1987-01-01          China                             6325967.0   \n",
      "\n",
      "            Capture fisheries production (metric tons)  \n",
      "new_Year                                                \n",
      "1987-01-01                                     18811.0  \n",
      "1987-01-01                                         0.0  \n",
      "1987-01-01                                      1000.0  \n",
      "1987-01-01                                     88793.0  \n",
      "1987-01-01                                   5407952.0  \n",
      "\n",
      "\n",
      "+key: (Timestamp('1988-01-01 00:00:00'),)\n",
      "+number: 218\n",
      "                Entity  Aquaculture production (metric tons)  \\\n",
      "new_Year                                                       \n",
      "1988-01-01    Malaysia                               47345.0   \n",
      "1988-01-01       Qatar                                   0.0   \n",
      "1988-01-01      Belize                                   0.0   \n",
      "1988-01-01  Costa Rica                                 399.0   \n",
      "1988-01-01        Guam                                 198.0   \n",
      "\n",
      "            Capture fisheries production (metric tons)  \n",
      "new_Year                                                \n",
      "1988-01-01                                    828913.2  \n",
      "1988-01-01                                      3086.0  \n",
      "1988-01-01                                      2151.0  \n",
      "1988-01-01                                     16670.0  \n",
      "1988-01-01                                       395.0  \n",
      "\n",
      "\n",
      "+key: (Timestamp('1989-01-01 00:00:00'),)\n",
      "+number: 218\n",
      "                                 Entity  Aquaculture production (metric tons)  \\\n",
      "new_Year                                                                        \n",
      "1989-01-01  Latin America and Caribbean                              190273.0   \n",
      "1989-01-01           West Bank and Gaza                                   0.0   \n",
      "1989-01-01                       Rwanda                                  44.0   \n",
      "1989-01-01                       Greece                                4737.0   \n",
      "1989-01-01        Saint Kitts and Nevis                                   3.0   \n",
      "\n",
      "            Capture fisheries production (metric tons)  \n",
      "new_Year                                                \n",
      "1989-01-01                                  18210536.0  \n",
      "1989-01-01                                         0.0  \n",
      "1989-01-01                                      1472.0  \n",
      "1989-01-01                                    131797.5  \n",
      "1989-01-01                                       710.0  \n",
      "\n",
      "\n",
      "+key: (Timestamp('1990-01-01 00:00:00'),)\n",
      "+number: 218\n",
      "                      Entity  Aquaculture production (metric tons)  \\\n",
      "new_Year                                                             \n",
      "1990-01-01           Belgium                                 675.0   \n",
      "1990-01-01      South Africa                                3613.0   \n",
      "1990-01-01  Marshall Islands                                   0.0   \n",
      "1990-01-01         Gibraltar                                   0.0   \n",
      "1990-01-01          Zimbabwe                                 157.0   \n",
      "\n",
      "            Capture fisheries production (metric tons)  \n",
      "new_Year                                                \n",
      "1990-01-01                                     41460.0  \n",
      "1990-01-01                                    550084.0  \n",
      "1990-01-01                                       380.0  \n",
      "1990-01-01                                         1.0  \n",
      "1990-01-01                                     43174.0  \n",
      "\n",
      "\n",
      "+key: (Timestamp('1991-01-01 00:00:00'),)\n",
      "+number: 218\n",
      "                Entity  Aquaculture production (metric tons)  \\\n",
      "new_Year                                                       \n",
      "1991-01-01     Grenada                                   0.0   \n",
      "1991-01-01  Madagascar                                 198.0   \n",
      "1991-01-01       Nepal                               10314.0   \n",
      "1991-01-01       Nauru                                   0.0   \n",
      "1991-01-01      Zambia                                2470.0   \n",
      "\n",
      "            Capture fisheries production (metric tons)  \n",
      "new_Year                                                \n",
      "1991-01-01                                      2071.0  \n",
      "1991-01-01                                    100387.0  \n",
      "1991-01-01                                      5281.0  \n",
      "1991-01-01                                       190.0  \n",
      "1991-01-01                                     67115.0  \n",
      "\n",
      "\n",
      "+key: (Timestamp('1992-01-01 00:00:00'),)\n",
      "+number: 222\n",
      "                           Entity  Aquaculture production (metric tons)  \\\n",
      "new_Year                                                                  \n",
      "1992-01-01                  Syria                                5116.0   \n",
      "1992-01-01                Namibia                                  22.0   \n",
      "1992-01-01            New Zealand                               51500.0   \n",
      "1992-01-01                 Uganda                                  77.0   \n",
      "1992-01-01  Saint Kitts and Nevis                                   0.0   \n",
      "\n",
      "            Capture fisheries production (metric tons)  \n",
      "new_Year                                                \n",
      "1992-01-01                                      4538.0  \n",
      "1992-01-01                                    679782.0  \n",
      "1992-01-01                                    470274.0  \n",
      "1992-01-01                                    267400.0  \n",
      "1992-01-01                                       300.0  \n",
      "\n",
      "\n",
      "+key: (Timestamp('1993-01-01 00:00:00'),)\n",
      "+number: 225\n",
      "                             Entity  Aquaculture production (metric tons)  \\\n",
      "new_Year                                                                    \n",
      "1993-01-01  Europe and Central Asia                           1403206.000   \n",
      "1993-01-01             Saudi Arabia                              2503.000   \n",
      "1993-01-01                Lithuania                              2907.000   \n",
      "1993-01-01               Kazakhstan                              2928.000   \n",
      "1993-01-01                     Fiji                              1832.034   \n",
      "\n",
      "            Capture fisheries production (metric tons)  \n",
      "new_Year                                                \n",
      "1993-01-01                                  17853354.0  \n",
      "1993-01-01                                     48022.0  \n",
      "1993-01-01                                    117171.0  \n",
      "1993-01-01                                     56700.0  \n",
      "1993-01-01                                     28814.0  \n",
      "\n",
      "\n",
      "+key: (Timestamp('1994-01-01 00:00:00'),)\n",
      "+number: 225\n",
      "                  Entity  Aquaculture production (metric tons)  \\\n",
      "new_Year                                                         \n",
      "1994-01-01       Senegal                                  42.0   \n",
      "1994-01-01        Canada                               55430.0   \n",
      "1994-01-01  Saudi Arabia                                2235.0   \n",
      "1994-01-01       Lebanon                                 200.0   \n",
      "1994-01-01       Andorra                                   0.0   \n",
      "\n",
      "            Capture fisheries production (metric tons)  \n",
      "new_Year                                                \n",
      "1994-01-01                                    359887.0  \n",
      "1994-01-01                                   1120321.0  \n",
      "1994-01-01                                     54612.0  \n",
      "1994-01-01                                      2237.0  \n",
      "1994-01-01                                         0.0  \n",
      "\n",
      "\n",
      "+key: (Timestamp('1995-01-01 00:00:00'),)\n",
      "+number: 225\n",
      "                                  Entity  \\\n",
      "new_Year                                   \n",
      "1995-01-01                         Libya   \n",
      "1995-01-01               Channel Islands   \n",
      "1995-01-01                     Guatemala   \n",
      "1995-01-01  Democratic Republic of Congo   \n",
      "1995-01-01                      Kiribati   \n",
      "\n",
      "            Aquaculture production (metric tons)  \\\n",
      "new_Year                                           \n",
      "1995-01-01                                  40.0   \n",
      "1995-01-01                                 114.0   \n",
      "1995-01-01                                3675.0   \n",
      "1995-01-01                                 600.0   \n",
      "1995-01-01                                5265.0   \n",
      "\n",
      "            Capture fisheries production (metric tons)  \n",
      "new_Year                                                \n",
      "1995-01-01                                     34408.0  \n",
      "1995-01-01                                      2949.0  \n",
      "1995-01-01                                      8253.0  \n",
      "1995-01-01                                    158627.0  \n",
      "1995-01-01                                     32121.0  \n",
      "\n",
      "\n",
      "+key: (Timestamp('1996-01-01 00:00:00'),)\n",
      "+number: 225\n",
      "                 Entity  Aquaculture production (metric tons)  \\\n",
      "new_Year                                                        \n",
      "1996-01-01       Bhutan                                  30.0   \n",
      "1996-01-01      Tunisia                                1351.0   \n",
      "1996-01-01     Malaysia                              109063.0   \n",
      "1996-01-01     Cambodia                                9600.0   \n",
      "1996-01-01  Saint Lucia                                  12.0   \n",
      "\n",
      "            Capture fisheries production (metric tons)  \n",
      "new_Year                                                \n",
      "1996-01-01                                       70.00  \n",
      "1996-01-01                                    83534.01  \n",
      "1996-01-01                                  1134374.00  \n",
      "1996-01-01                                   114910.00  \n",
      "1996-01-01                                     1402.00  \n",
      "\n",
      "\n",
      "+key: (Timestamp('1997-01-01 00:00:00'),)\n",
      "+number: 225\n",
      "                        Entity  Aquaculture production (metric tons)  \\\n",
      "new_Year                                                               \n",
      "1997-01-01  Dominican Republic                                 677.0   \n",
      "1997-01-01             Andorra                                   0.0   \n",
      "1997-01-01               Japan                             1339909.5   \n",
      "1997-01-01          Mozambique                                   0.0   \n",
      "1997-01-01                Laos                               21143.0   \n",
      "\n",
      "            Capture fisheries production (metric tons)  \n",
      "new_Year                                                \n",
      "1997-01-01                                     14535.0  \n",
      "1997-01-01                                         0.0  \n",
      "1997-01-01                                   6102891.0  \n",
      "1997-01-01                                     43139.0  \n",
      "1997-01-01                                     18857.0  \n",
      "\n",
      "\n",
      "+key: (Timestamp('1998-01-01 00:00:00'),)\n",
      "+number: 225\n",
      "               Entity  Aquaculture production (metric tons)  \\\n",
      "new_Year                                                      \n",
      "1998-01-01     Rwanda                                 128.0   \n",
      "1998-01-01     Brazil                              103915.0   \n",
      "1998-01-01  Indonesia                              747007.0   \n",
      "1998-01-01   Eswatini                                  81.0   \n",
      "1998-01-01   Malaysia                              133635.0   \n",
      "\n",
      "            Capture fisheries production (metric tons)  \n",
      "new_Year                                                \n",
      "1998-01-01                                      6641.0  \n",
      "1998-01-01                                    609021.0  \n",
      "1998-01-01                                   4024958.0  \n",
      "1998-01-01                                        50.0  \n",
      "1998-01-01                                   1157268.0  \n",
      "\n",
      "\n",
      "+key: (Timestamp('1999-01-01 00:00:00'),)\n",
      "+number: 225\n",
      "                                  Entity  \\\n",
      "new_Year                                   \n",
      "1999-01-01                          Iraq   \n",
      "1999-01-01                    Costa Rica   \n",
      "1999-01-01                    Luxembourg   \n",
      "1999-01-01                       Croatia   \n",
      "1999-01-01  United States Virgin Islands   \n",
      "\n",
      "            Aquaculture production (metric tons)  \\\n",
      "new_Year                                           \n",
      "1999-01-01                                2183.0   \n",
      "1999-01-01                                9324.0   \n",
      "1999-01-01                                   0.0   \n",
      "1999-01-01                                6313.0   \n",
      "1999-01-01                                   0.0   \n",
      "\n",
      "            Capture fisheries production (metric tons)  \n",
      "new_Year                                                \n",
      "1999-01-01                                   22423.000  \n",
      "1999-01-01                                   28029.000  \n",
      "1999-01-01                                       0.000  \n",
      "1999-01-01                                   18909.191  \n",
      "1999-01-01                                    1549.000  \n",
      "\n",
      "\n",
      "+key: (Timestamp('2000-01-01 00:00:00'),)\n",
      "+number: 225\n",
      "                Entity  Aquaculture production (metric tons)  \\\n",
      "new_Year                                                       \n",
      "2000-01-01  Azerbaijan                                 140.0   \n",
      "2000-01-01       Gabon                                 558.0   \n",
      "2000-01-01      Tuvalu                                   0.0   \n",
      "2000-01-01       Tonga                                  77.0   \n",
      "2000-01-01        Cuba                               32780.0   \n",
      "\n",
      "            Capture fisheries production (metric tons)  \n",
      "new_Year                                                \n",
      "2000-01-01                                     18797.0  \n",
      "2000-01-01                                     47826.0  \n",
      "2000-01-01                                       500.0  \n",
      "2000-01-01                                      4231.0  \n",
      "2000-01-01                                     68488.0  \n",
      "\n",
      "\n",
      "+key: (Timestamp('2001-01-01 00:00:00'),)\n",
      "+number: 225\n",
      "                Entity  Aquaculture production (metric tons)  \\\n",
      "new_Year                                                       \n",
      "2001-01-01       Samoa                                   0.0   \n",
      "2001-01-01     Finland                               15739.0   \n",
      "2001-01-01     Ireland                               60940.0   \n",
      "2001-01-01     Czechia                               20098.0   \n",
      "2001-01-01  Azerbaijan                                  95.0   \n",
      "\n",
      "            Capture fisheries production (metric tons)  \n",
      "new_Year                                                \n",
      "2001-01-01                                      8613.0  \n",
      "2001-01-01                                    150067.0  \n",
      "2001-01-01                                    392530.0  \n",
      "2001-01-01                                      4646.0  \n",
      "2001-01-01                                     10893.0  \n",
      "\n",
      "\n",
      "+key: (Timestamp('2002-01-01 00:00:00'),)\n",
      "+number: 225\n",
      "                 Entity  Aquaculture production (metric tons)  \\\n",
      "new_Year                                                        \n",
      "2002-01-01  High income                             5865619.0   \n",
      "2002-01-01     Thailand                              954608.0   \n",
      "2002-01-01    Australia                               38566.0   \n",
      "2002-01-01   Uzbekistan                                3824.0   \n",
      "2002-01-01        Qatar                                   0.0   \n",
      "\n",
      "            Capture fisheries production (metric tons)  \n",
      "new_Year                                                \n",
      "2002-01-01                                  32608186.0  \n",
      "2002-01-01                                   2846008.0  \n",
      "2002-01-01                                    217973.0  \n",
      "2002-01-01                                      2600.0  \n",
      "2002-01-01                                      7155.0  \n",
      "\n",
      "\n",
      "+key: (Timestamp('2003-01-01 00:00:00'),)\n",
      "+number: 225\n",
      "                Entity  Aquaculture production (metric tons)  \\\n",
      "new_Year                                                       \n",
      "2003-01-01  South Asia                             3268572.0   \n",
      "2003-01-01    Portugal                                8033.0   \n",
      "2003-01-01     Albania                                1473.0   \n",
      "2003-01-01     Estonia                                 372.0   \n",
      "2003-01-01      Norway                              584422.0   \n",
      "\n",
      "            Capture fisheries production (metric tons)  \n",
      "new_Year                                                \n",
      "2003-01-01                                   5894220.0  \n",
      "2003-01-01                                    212821.0  \n",
      "2003-01-01                                      2801.6  \n",
      "2003-01-01                                     80208.0  \n",
      "2003-01-01                                   2715529.0  \n",
      "\n",
      "\n",
      "+key: (Timestamp('2004-01-01 00:00:00'),)\n",
      "+number: 225\n",
      "                 Entity  Aquaculture production (metric tons)  \\\n",
      "new_Year                                                        \n",
      "2004-01-01        Egypt                              471535.0   \n",
      "2004-01-01  El Salvador                                2219.0   \n",
      "2004-01-01        Qatar                                   0.0   \n",
      "2004-01-01    Australia                               44142.0   \n",
      "2004-01-01       Rwanda                                 386.0   \n",
      "\n",
      "            Capture fisheries production (metric tons)  \n",
      "new_Year                                                \n",
      "2004-01-01                                   393495.00  \n",
      "2004-01-01                                    42415.00  \n",
      "2004-01-01                                    11134.00  \n",
      "2004-01-01                                   255833.05  \n",
      "2004-01-01                                     7826.00  \n",
      "\n",
      "\n",
      "+key: (Timestamp('2005-01-01 00:00:00'),)\n",
      "+number: 225\n",
      "                   Entity  Aquaculture production (metric tons)  \\\n",
      "new_Year                                                          \n",
      "2005-01-01      Venezuela                               19228.0   \n",
      "2005-01-01        Belgium                                 414.0   \n",
      "2005-01-01      Singapore                                5917.0   \n",
      "2005-01-01         Guinea                                 100.0   \n",
      "2005-01-01  New Caledonia                                2533.0   \n",
      "\n",
      "            Capture fisheries production (metric tons)  \n",
      "new_Year                                                \n",
      "2005-01-01                                    461476.0  \n",
      "2005-01-01                                     24586.0  \n",
      "2005-01-01                                      3250.0  \n",
      "2005-01-01                                    109138.0  \n",
      "2005-01-01                                      3467.0  \n",
      "\n",
      "\n",
      "+key: (Timestamp('2006-01-01 00:00:00'),)\n",
      "+number: 227\n",
      "              Entity  Aquaculture production (metric tons)  \\\n",
      "new_Year                                                     \n",
      "2006-01-01  Ethiopia                                  25.0   \n",
      "2006-01-01    Belize                                7624.0   \n",
      "2006-01-01  Paraguay                                2250.0   \n",
      "2006-01-01  Bulgaria                                3257.0   \n",
      "2006-01-01     Gabon                                 126.0   \n",
      "\n",
      "            Capture fisheries production (metric tons)  \n",
      "new_Year                                                \n",
      "2006-01-01                                     10617.0  \n",
      "2006-01-01                                    185773.0  \n",
      "2006-01-01                                     21000.0  \n",
      "2006-01-01                                      7544.0  \n",
      "2006-01-01                                     41521.0  \n",
      "\n",
      "\n",
      "+key: (Timestamp('2007-01-01 00:00:00'),)\n",
      "+number: 228\n",
      "                Entity  Aquaculture production (metric tons)  \\\n",
      "new_Year                                                       \n",
      "2007-01-01     Bahrain                                   1.0   \n",
      "2007-01-01  Tajikistan                                  26.0   \n",
      "2007-01-01        Chad                                   0.0   \n",
      "2007-01-01      Russia                              105803.0   \n",
      "2007-01-01      Malawi                                1500.0   \n",
      "\n",
      "            Capture fisheries production (metric tons)  \n",
      "new_Year                                                \n",
      "2007-01-01                                     15013.0  \n",
      "2007-01-01                                       225.0  \n",
      "2007-01-01                                     82000.0  \n",
      "2007-01-01                                   3497246.0  \n",
      "2007-01-01                                     67787.0  \n",
      "\n",
      "\n",
      "+key: (Timestamp('2008-01-01 00:00:00'),)\n",
      "+number: 228\n",
      "                Entity  Aquaculture production (metric tons)  \\\n",
      "new_Year                                                       \n",
      "2008-01-01   Guatemala                               18727.0   \n",
      "2008-01-01     Somalia                                   0.0   \n",
      "2008-01-01  Azerbaijan                                1000.0   \n",
      "2008-01-01     Ireland                               44867.5   \n",
      "2008-01-01     Lesotho                                  91.0   \n",
      "\n",
      "            Capture fisheries production (metric tons)  \n",
      "new_Year                                                \n",
      "2008-01-01                                     23291.0  \n",
      "2008-01-01                                     30000.0  \n",
      "2008-01-01                                      1524.0  \n",
      "2008-01-01                                    234819.0  \n",
      "2008-01-01                                        50.0  \n",
      "\n",
      "\n",
      "+key: (Timestamp('2009-01-01 00:00:00'),)\n",
      "+number: 228\n",
      "                                 Entity  Aquaculture production (metric tons)  \\\n",
      "new_Year                                                                        \n",
      "2009-01-01         United Arab Emirates                                 130.0   \n",
      "2009-01-01  Latin America and Caribbean                             1917633.4   \n",
      "2009-01-01          Antigua and Barbuda                                   0.0   \n",
      "2009-01-01                       Greece                              122011.0   \n",
      "2009-01-01                   Luxembourg                                   0.0   \n",
      "\n",
      "            Capture fisheries production (metric tons)  \n",
      "new_Year                                                \n",
      "2009-01-01                                     77705.0  \n",
      "2009-01-01                                  16528961.0  \n",
      "2009-01-01                                      2416.0  \n",
      "2009-01-01                                     83181.8  \n",
      "2009-01-01                                         0.0  \n",
      "\n",
      "\n",
      "+key: (Timestamp('2010-01-01 00:00:00'),)\n",
      "+number: 228\n",
      "                Entity  Aquaculture production (metric tons)  \\\n",
      "new_Year                                                       \n",
      "2010-01-01    Suriname                                  71.1   \n",
      "2010-01-01      Mexico                              126238.0   \n",
      "2010-01-01     Vietnam                             2701317.0   \n",
      "2010-01-01      Zambia                               10290.0   \n",
      "2010-01-01  Low income                              638386.6   \n",
      "\n",
      "            Capture fisheries production (metric tons)  \n",
      "new_Year                                                \n",
      "2010-01-01                                     35085.0  \n",
      "2010-01-01                                   1528285.0  \n",
      "2010-01-01                                   2252996.0  \n",
      "2010-01-01                                    100113.0  \n",
      "2010-01-01                                   2264262.0  \n",
      "\n",
      "\n",
      "+key: (Timestamp('2011-01-01 00:00:00'),)\n",
      "+number: 230\n",
      "                Entity  Aquaculture production (metric tons)  \\\n",
      "new_Year                                                       \n",
      "2011-01-01    Tanzania                               7248.75   \n",
      "2011-01-01        Chad                                 30.00   \n",
      "2011-01-01     Andorra                                  0.00   \n",
      "2011-01-01  East Timor                               1561.00   \n",
      "2011-01-01       World                           82635400.00   \n",
      "\n",
      "            Capture fisheries production (metric tons)  \n",
      "new_Year                                                \n",
      "2011-01-01                                    350610.0  \n",
      "2011-01-01                                     95000.0  \n",
      "2011-01-01                                         0.0  \n",
      "2011-01-01                                      3200.0  \n",
      "2011-01-01                                  93180830.0  \n",
      "\n",
      "\n",
      "+key: (Timestamp('2012-01-01 00:00:00'),)\n",
      "+number: 231\n",
      "                   Entity  Aquaculture production (metric tons)  \\\n",
      "new_Year                                                          \n",
      "2012-01-01  United States                             420386.00   \n",
      "2012-01-01         Serbia                               7661.19   \n",
      "2012-01-01    North Korea                             510610.00   \n",
      "2012-01-01        Finland                              12659.00   \n",
      "2012-01-01   Sierra Leone                                 75.00   \n",
      "\n",
      "            Capture fisheries production (metric tons)  \n",
      "new_Year                                                \n",
      "2012-01-01                                   5338928.0  \n",
      "2012-01-01                                      4798.0  \n",
      "2012-01-01                                    213500.0  \n",
      "2012-01-01                                    162487.0  \n",
      "2012-01-01                                    203500.0  \n",
      "\n",
      "\n",
      "+key: (Timestamp('2013-01-01 00:00:00'),)\n",
      "+number: 231\n",
      "                         Entity  Aquaculture production (metric tons)  \\\n",
      "new_Year                                                                \n",
      "2013-01-01                 Mali                               2205.25   \n",
      "2013-01-01              Tunisia                              12184.00   \n",
      "2013-01-01  Lower middle income                           28635390.00   \n",
      "2013-01-01           Costa Rica                              30352.00   \n",
      "2013-01-01               Brazil                             477752.00   \n",
      "\n",
      "            Capture fisheries production (metric tons)  \n",
      "new_Year                                                \n",
      "2013-01-01                                     99353.0  \n",
      "2013-01-01                                    110886.7  \n",
      "2013-01-01                                  27695700.0  \n",
      "2013-01-01                                     18558.0  \n",
      "2013-01-01                                    792360.0  \n",
      "\n",
      "\n",
      "+key: (Timestamp('2014-01-01 00:00:00'),)\n",
      "+number: 231\n",
      "               Entity  Aquaculture production (metric tons)  \\\n",
      "new_Year                                                      \n",
      "2014-01-01  Mauritius                                777.50   \n",
      "2014-01-01    Ecuador                             368457.00   \n",
      "2014-01-01   Ethiopia                                 85.50   \n",
      "2014-01-01     Latvia                                686.28   \n",
      "2014-01-01    Bermuda                                  0.00   \n",
      "\n",
      "            Capture fisheries production (metric tons)  \n",
      "new_Year                                                \n",
      "2014-01-01                                     14755.0  \n",
      "2014-01-01                                    662356.0  \n",
      "2014-01-01                                     50119.0  \n",
      "2014-01-01                                    119536.0  \n",
      "2014-01-01                                       417.0  \n",
      "\n",
      "\n",
      "+key: (Timestamp('2015-01-01 00:00:00'),)\n",
      "+number: 231\n",
      "                  Entity  Aquaculture production (metric tons)  \\\n",
      "new_Year                                                         \n",
      "2015-01-01        Bhutan                                 149.0   \n",
      "2015-01-01         Qatar                                  10.0   \n",
      "2015-01-01        Zambia                               22754.0   \n",
      "2015-01-01         China                            59368940.0   \n",
      "2015-01-01  Turkmenistan                                  30.0   \n",
      "\n",
      "            Capture fisheries production (metric tons)  \n",
      "new_Year                                                \n",
      "2015-01-01                                         7.0  \n",
      "2015-01-01                                     15203.0  \n",
      "2015-01-01                                    127645.0  \n",
      "2015-01-01                                  16647935.0  \n",
      "2015-01-01                                     15000.0  \n",
      "\n",
      "\n",
      "+key: (Timestamp('2016-01-01 00:00:00'),)\n",
      "+number: 230\n",
      "                           Entity  Aquaculture production (metric tons)  \\\n",
      "new_Year                                                                  \n",
      "2016-01-01                   Chad                          9.400000e+01   \n",
      "2016-01-01             Bangladesh                          2.203554e+06   \n",
      "2016-01-01  Low and middle income                          1.002238e+08   \n",
      "2016-01-01            Switzerland                          1.733000e+03   \n",
      "2016-01-01                Uruguay                          6.965300e+01   \n",
      "\n",
      "            Capture fisheries production (metric tons)  \n",
      "new_Year                                                \n",
      "2016-01-01                                    110000.0  \n",
      "2016-01-01                                   1675370.0  \n",
      "2016-01-01                                  67225360.0  \n",
      "2016-01-01                                      1851.0  \n",
      "2016-01-01                                     51638.0  \n",
      "\n",
      "\n",
      "+key: (Timestamp('2017-01-01 00:00:00'),)\n",
      "+number: 229\n",
      "                           Entity  Aquaculture production (metric tons)  \\\n",
      "new_Year                                                                  \n",
      "2017-01-01                Burundi                                1470.0   \n",
      "2017-01-01  Sao Tome and Principe                                   0.0   \n",
      "2017-01-01          Liechtenstein                                   0.0   \n",
      "2017-01-01                Bolivia                                3500.0   \n",
      "2017-01-01                  Palau                                  20.7   \n",
      "\n",
      "            Capture fisheries production (metric tons)  \n",
      "new_Year                                                \n",
      "2017-01-01                                     18999.0  \n",
      "2017-01-01                                     10808.0  \n",
      "2017-01-01                                         0.0  \n",
      "2017-01-01                                     60940.0  \n",
      "2017-01-01                                       812.0  \n",
      "\n",
      "\n",
      "+key: (Timestamp('2018-01-01 00:00:00'),)\n",
      "+number: 229\n",
      "                    Entity  Aquaculture production (metric tons)  \\\n",
      "new_Year                                                           \n",
      "2018-01-01        Slovakia                               2224.41   \n",
      "2018-01-01  Cayman Islands                                  0.00   \n",
      "2018-01-01           Qatar                                 10.00   \n",
      "2018-01-01         Romania                              12298.45   \n",
      "2018-01-01         Liberia                                240.00   \n",
      "\n",
      "            Capture fisheries production (metric tons)  \n",
      "new_Year                                                \n",
      "2018-01-01                                      1937.0  \n",
      "2018-01-01                                       125.0  \n",
      "2018-01-01                                     14669.0  \n",
      "2018-01-01                                     11179.0  \n",
      "2018-01-01                                     14115.0  \n",
      "\n",
      "\n"
     ]
    }
   ],
   "source": [
    "#\n",
    "for key, group in g:\n",
    "    print('+key:', key)\n",
    "    print('+number:', len(group))\n",
    "    print(group.head())\n",
    "    print('\\n')"
   ]
  },
  {
   "cell_type": "code",
   "execution_count": 26,
   "id": "3a7039d8",
   "metadata": {},
   "outputs": [
    {
     "data": {
      "text/html": [
       "<div>\n",
       "<style scoped>\n",
       "    .dataframe tbody tr th:only-of-type {\n",
       "        vertical-align: middle;\n",
       "    }\n",
       "\n",
       "    .dataframe tbody tr th {\n",
       "        vertical-align: top;\n",
       "    }\n",
       "\n",
       "    .dataframe thead th {\n",
       "        text-align: right;\n",
       "    }\n",
       "</style>\n",
       "<table border=\"1\" class=\"dataframe\">\n",
       "  <thead>\n",
       "    <tr style=\"text-align: right;\">\n",
       "      <th></th>\n",
       "      <th>Aquaculture production (metric tons)</th>\n",
       "      <th>Capture fisheries production (metric tons)</th>\n",
       "    </tr>\n",
       "    <tr>\n",
       "      <th>new_Year</th>\n",
       "      <th></th>\n",
       "      <th></th>\n",
       "    </tr>\n",
       "  </thead>\n",
       "  <tbody>\n",
       "    <tr>\n",
       "      <th>1960-01-01</th>\n",
       "      <td>10977127.0</td>\n",
       "      <td>161077154.0</td>\n",
       "    </tr>\n",
       "    <tr>\n",
       "      <th>1961-01-01</th>\n",
       "      <td>10322252.0</td>\n",
       "      <td>180573888.0</td>\n",
       "    </tr>\n",
       "    <tr>\n",
       "      <th>1962-01-01</th>\n",
       "      <td>10628086.0</td>\n",
       "      <td>198022581.0</td>\n",
       "    </tr>\n",
       "    <tr>\n",
       "      <th>1963-01-01</th>\n",
       "      <td>11882700.0</td>\n",
       "      <td>201874864.1</td>\n",
       "    </tr>\n",
       "    <tr>\n",
       "      <th>1964-01-01</th>\n",
       "      <td>12981280.0</td>\n",
       "      <td>226019748.1</td>\n",
       "    </tr>\n",
       "  </tbody>\n",
       "</table>\n",
       "</div>"
      ],
      "text/plain": [
       "            Aquaculture production (metric tons)  \\\n",
       "new_Year                                           \n",
       "1960-01-01                            10977127.0   \n",
       "1961-01-01                            10322252.0   \n",
       "1962-01-01                            10628086.0   \n",
       "1963-01-01                            11882700.0   \n",
       "1964-01-01                            12981280.0   \n",
       "\n",
       "            Capture fisheries production (metric tons)  \n",
       "new_Year                                                \n",
       "1960-01-01                                 161077154.0  \n",
       "1961-01-01                                 180573888.0  \n",
       "1962-01-01                                 198022581.0  \n",
       "1963-01-01                                 201874864.1  \n",
       "1964-01-01                                 226019748.1  "
      ]
     },
     "execution_count": 26,
     "metadata": {},
     "output_type": "execute_result"
    }
   ],
   "source": [
    "world_total = g.sum(numeric_only=True)\n",
    "world_total.head()"
   ]
  },
  {
   "cell_type": "code",
   "execution_count": 27,
   "id": "d00aed12",
   "metadata": {},
   "outputs": [
    {
     "data": {
      "image/png": "[encoded data removed]",
      "text/plain": [
       "<Figure size 2000x1000 with 1 Axes>"
      ]
     },
     "metadata": {},
     "output_type": "display_data"
    }
   ],
   "source": [
    "plt.style.use('ggplot')\n",
    "world_total.plot(kind='area',\n",
    "                 alpha=0.2,\n",
    "                 stacked=False,\n",
    "                 figsize = (20, 10) )\n",
    "\n",
    "plt.legend()\n",
    "plt.show()"
   ]
  },
  {
   "cell_type": "code",
   "execution_count": 28,
   "id": "1d8bab82",
   "metadata": {},
   "outputs": [
    {
     "name": "stdout",
     "output_type": "stream",
     "text": [
      "Entity\n",
      "Afghanistan                   59\n",
      "Portugal                      59\n",
      "Mozambique                    59\n",
      "Myanmar                       59\n",
      "Namibia                       59\n",
      "                              ..\n",
      "Montenegro                    13\n",
      "Saint Martin (French part)    12\n",
      "Curacao                        8\n",
      "Sint Maarten (Dutch part)      8\n",
      "South Sudan                    7\n",
      "Name: count, Length: 231, dtype: int64\n",
      "Data type => <class 'pandas.core.series.Series'>\n"
     ]
    }
   ],
   "source": [
    "country = new_df['Entity'].value_counts()\n",
    "print(country)\n",
    "print(\"Data type =>\", type(country))"
   ]
  },
  {
   "cell_type": "code",
   "execution_count": 29,
   "id": "beef6731",
   "metadata": {},
   "outputs": [
    {
     "data": {
      "text/plain": [
       "True"
      ]
     },
     "execution_count": 29,
     "metadata": {},
     "output_type": "execute_result"
    }
   ],
   "source": [
    "'South Korea' in country"
   ]
  },
  {
   "cell_type": "code",
   "execution_count": 33,
   "id": "e2a94a42",
   "metadata": {},
   "outputs": [],
   "source": [
    "s= new_df.loc[new_df['Entity']=='South Korea']\n",
    "c= new_df.loc[new_df['Entity']=='China']\n",
    "a= new_df.loc[new_df['Entity']=='Afghanistan']"
   ]
  },
  {
   "cell_type": "code",
   "execution_count": 35,
   "id": "d21d8eed",
   "metadata": {},
   "outputs": [],
   "source": [
    "s_y = s[['Aquaculture production (metric tons)', 'Capture fisheries production (metric tons)']]\n",
    "s_x = s.index\n",
    "\n",
    "c_y = c[['Aquaculture production (metric tons)', 'Capture fisheries production (metric tons)']]\n",
    "c_x = c.index\n",
    "\n",
    "a_y = a[['Aquaculture production (metric tons)', 'Capture fisheries production (metric tons)']]\n",
    "a_x = a.index"
   ]
  },
  {
   "cell_type": "code",
   "execution_count": 36,
   "id": "7fab497b",
   "metadata": {},
   "outputs": [
    {
     "data": {
      "text/plain": [
       "Text(0.5, 0.98, 'Fish Production')"
      ]
     },
     "execution_count": 36,
     "metadata": {},
     "output_type": "execute_result"
    },
    {
     "data": {
      "image/png": "[encoded data removed]",
      "text/plain": [
       "<Figure size 1500x500 with 3 Axes>"
      ]
     },
     "metadata": {},
     "output_type": "display_data"
    }
   ],
   "source": [
    "import matplotlib.pyplot as plt\n",
    "fig, axs = plt.subplots(1, 3, figsize= (15, 5))\n",
    "axs[0].plot(s_x, s_y)\n",
    "axs[1].plot(c_x, c_y)\n",
    "axs[2].plot(a_x, a_y)\n",
    "\n",
    "fig.suptitle('Fish Production')"
   ]
  },
  {
   "cell_type": "code",
   "execution_count": null,
   "id": "408ce557",
   "metadata": {},
   "outputs": [],
   "source": []
  }
 ],
 "metadata": {
  "kernelspec": {
   "display_name": "Python 3 (ipykernel)",
   "language": "python",
   "name": "python3"
  },
  "language_info": {
   "codemirror_mode": {
    "name": "ipython",
    "version": 3
   },
   "file_extension": ".py",
   "mimetype": "text/x-python",
   "name": "python",
   "nbconvert_exporter": "python",
   "pygments_lexer": "ipython3",
   "version": "3.11.4"
  }
 },
 "nbformat": 4,
 "nbformat_minor": 5
}
