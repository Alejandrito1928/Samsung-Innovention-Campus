{
 "cells": [
  {
   "cell_type": "markdown",
   "id": "f5fdfc03",
   "metadata": {},
   "source": [
    "## Key concept"
   ]
  },
  {
   "cell_type": "markdown",
   "id": "c180534c",
   "metadata": {},
   "source": [
    "### 1. Modules"
   ]
  },
  {
   "cell_type": "code",
   "execution_count": 1,
   "id": "e89d58de",
   "metadata": {},
   "outputs": [],
   "source": [
    "import math"
   ]
  },
  {
   "cell_type": "code",
   "execution_count": 2,
   "id": "a8f50949",
   "metadata": {},
   "outputs": [
    {
     "data": {
      "text/plain": [
       "0.8414709848078965"
      ]
     },
     "execution_count": 2,
     "metadata": {},
     "output_type": "execute_result"
    }
   ],
   "source": [
    "# It is used in the form of ModuleName.FunctionName()\n",
    "math.sin(1)"
   ]
  },
  {
   "cell_type": "code",
   "execution_count": 3,
   "id": "8bb0bd79",
   "metadata": {},
   "outputs": [
    {
     "ename": "ModuleNotFoundError",
     "evalue": "No module named 'chart'",
     "output_type": "error",
     "traceback": [
      "\u001b[0;31m---------------------------------------------------------------------------\u001b[0m",
      "\u001b[0;31mModuleNotFoundError\u001b[0m                       Traceback (most recent call last)",
      "Cell \u001b[0;32mIn[3], line 1\u001b[0m\n\u001b[0;32m----> 1\u001b[0m \u001b[38;5;28;01mimport\u001b[39;00m \u001b[38;5;21;01mchart\u001b[39;00m\n\u001b[1;32m      2\u001b[0m x \u001b[38;5;241m=\u001b[39m [\u001b[38;5;241m1\u001b[39m, \u001b[38;5;241m2\u001b[39m, \u001b[38;5;241m4\u001b[39m, \u001b[38;5;241m3\u001b[39m, \u001b[38;5;241m3\u001b[39m, \u001b[38;5;241m1\u001b[39m, \u001b[38;5;241m7\u001b[39m, \u001b[38;5;241m9\u001b[39m, \u001b[38;5;241m9\u001b[39m, \u001b[38;5;241m1\u001b[39m, \u001b[38;5;241m3\u001b[39m, \u001b[38;5;241m2\u001b[39m, \u001b[38;5;241m1\u001b[39m, \u001b[38;5;241m2\u001b[39m]\n\u001b[1;32m      3\u001b[0m chart\u001b[38;5;241m.\u001b[39mhistogram(x)\n",
      "\u001b[0;31mModuleNotFoundError\u001b[0m: No module named 'chart'"
     ]
    }
   ],
   "source": [
    "import chart\n",
    "x = [1, 2, 4, 3, 3, 1, 7, 9, 9, 1, 3, 2, 1, 2]\n",
    "chart.histogram(x)"
   ]
  },
  {
   "cell_type": "code",
   "execution_count": 4,
   "id": "ef75fb39",
   "metadata": {},
   "outputs": [
    {
     "name": "stdout",
     "output_type": "stream",
     "text": [
      "Collecting chart\n",
      "  Using cached chart-0.2.3-py3-none-any.whl\n",
      "Installing collected packages: chart\n",
      "Successfully installed chart-0.2.3\n"
     ]
    }
   ],
   "source": [
    "!pip install chart"
   ]
  },
  {
   "cell_type": "code",
   "execution_count": 5,
   "id": "9339aed4",
   "metadata": {},
   "outputs": [
    {
     "name": "stdout",
     "output_type": "stream",
     "text": [
      "▇        \n",
      "▇        \n",
      "▇        \n",
      "▇        \n",
      "▇ ▇      \n",
      "▇ ▇      \n",
      "▇ ▇      \n",
      "▇ ▇     ▇\n",
      "▇ ▇     ▇\n",
      "▇ ▇   ▇ ▇\n",
      "\n"
     ]
    }
   ],
   "source": [
    "import chart\n",
    "x = [1, 2, 4, 3, 3, 1, 7, 9, 9, 1, 3, 2, 1, 2]\n",
    "chart.histogram(x)"
   ]
  },
  {
   "cell_type": "code",
   "execution_count": 12,
   "id": "615f82e7",
   "metadata": {},
   "outputs": [],
   "source": [
    "# Save the name of this file as fund_cal.py.\n",
    "\n",
    "def fund(t):\n",
    "    return 5*t + 3"
   ]
  },
  {
   "cell_type": "code",
   "execution_count": 11,
   "id": "851d63da",
   "metadata": {},
   "outputs": [
    {
     "data": {
      "text/plain": [
       "53"
      ]
     },
     "execution_count": 11,
     "metadata": {},
     "output_type": "execute_result"
    }
   ],
   "source": [
    "fund(10)"
   ]
  },
  {
   "cell_type": "code",
   "execution_count": 14,
   "id": "28d606e5",
   "metadata": {},
   "outputs": [
    {
     "name": "stdout",
     "output_type": "stream",
     "text": [
      "Enter the total number of people who participated in the hospital donation event5\n",
      "Total Donation Amount : 28\n"
     ]
    }
   ],
   "source": [
    "import fund_cal\n",
    "\n",
    "def main():\n",
    "    t = int(input(\"Enter the total number of people who participated in the hospital donation event\"))\n",
    "    total = fund_cal.fund(t)\n",
    "    \n",
    "    print(\"Total Donation Amount :\", total)\n",
    "\n",
    "main()"
   ]
  },
  {
   "cell_type": "code",
   "execution_count": 15,
   "id": "1f3fc567",
   "metadata": {},
   "outputs": [],
   "source": [
    "# Store this file under the name cal_n.py\n",
    "\n",
    "def sum_n(n):\n",
    "    return n * (n+1) // 2\n",
    "\n",
    "def sum_n2(n):\n",
    "    t = 0\n",
    "    for i in range(1, n+1):\n",
    "        t = t + i\n",
    "    return t"
   ]
  },
  {
   "cell_type": "code",
   "execution_count": 16,
   "id": "71c75543",
   "metadata": {},
   "outputs": [
    {
     "name": "stdout",
     "output_type": "stream",
     "text": [
      "Enter a desired number for calculation : 10\n",
      "The sum of adding from 1 until 10 is:  55\n",
      "The sum of adding consecutively from 1 until 10 is:  55\n"
     ]
    }
   ],
   "source": [
    "import cal_n\n",
    "\n",
    "def main():\n",
    "    n = int(input(\"Enter a desired number for calculation : \"))\n",
    "    \n",
    "    sum_v = cal_n.sum_n(n)\n",
    "    print (\"The sum of adding from 1 until\", n, \"is: \", sum_v)\n",
    "    \n",
    "    sum_vv =cal_n.sum_n2(n)\n",
    "    print (\"The sum of adding consecutively from 1 until\", n, \"is: \", sum_vv)\n",
    "\n",
    "main()"
   ]
  },
  {
   "cell_type": "code",
   "execution_count": 17,
   "id": "7813e4a1",
   "metadata": {},
   "outputs": [
    {
     "data": {
      "text/plain": [
       "0.8414709848078965"
      ]
     },
     "execution_count": 17,
     "metadata": {},
     "output_type": "execute_result"
    }
   ],
   "source": [
    "from math import sin\n",
    "sin(1)"
   ]
  },
  {
   "cell_type": "code",
   "execution_count": 18,
   "id": "80a186e4",
   "metadata": {},
   "outputs": [
    {
     "data": {
      "text/plain": [
       "0.8414709848078965"
      ]
     },
     "execution_count": 18,
     "metadata": {},
     "output_type": "execute_result"
    }
   ],
   "source": [
    "from math import sin, cos, tan\n",
    "sin(1)"
   ]
  },
  {
   "cell_type": "code",
   "execution_count": 19,
   "id": "fa4cdaa8",
   "metadata": {},
   "outputs": [
    {
     "data": {
      "text/plain": [
       "0.5403023058681398"
      ]
     },
     "execution_count": 19,
     "metadata": {},
     "output_type": "execute_result"
    }
   ],
   "source": [
    "cos(1)"
   ]
  },
  {
   "cell_type": "code",
   "execution_count": 20,
   "id": "61bcd5f3",
   "metadata": {},
   "outputs": [
    {
     "data": {
      "text/plain": [
       "1.557407724654902"
      ]
     },
     "execution_count": 20,
     "metadata": {},
     "output_type": "execute_result"
    }
   ],
   "source": [
    "tan(1)"
   ]
  },
  {
   "cell_type": "code",
   "execution_count": 21,
   "id": "86336b31",
   "metadata": {},
   "outputs": [],
   "source": [
    "from math import *"
   ]
  },
  {
   "cell_type": "code",
   "execution_count": 22,
   "id": "8a53d5b6",
   "metadata": {},
   "outputs": [
    {
     "data": {
      "text/plain": [
       "0.8414709848078965"
      ]
     },
     "execution_count": 22,
     "metadata": {},
     "output_type": "execute_result"
    }
   ],
   "source": [
    "sin(1)"
   ]
  },
  {
   "cell_type": "code",
   "execution_count": 23,
   "id": "a987c48f",
   "metadata": {},
   "outputs": [
    {
     "data": {
      "text/plain": [
       "3"
      ]
     },
     "execution_count": 23,
     "metadata": {},
     "output_type": "execute_result"
    }
   ],
   "source": [
    "floor(3.2)"
   ]
  },
  {
   "cell_type": "code",
   "execution_count": 24,
   "id": "2cd939c3",
   "metadata": {},
   "outputs": [
    {
     "data": {
      "text/plain": [
       "5"
      ]
     },
     "execution_count": 24,
     "metadata": {},
     "output_type": "execute_result"
    }
   ],
   "source": [
    "ceil(4.6)"
   ]
  },
  {
   "cell_type": "code",
   "execution_count": 25,
   "id": "f9be0e2f",
   "metadata": {},
   "outputs": [],
   "source": [
    "import math as m"
   ]
  },
  {
   "cell_type": "code",
   "execution_count": 26,
   "id": "8b365464",
   "metadata": {},
   "outputs": [
    {
     "data": {
      "text/plain": [
       "0.8414709848078965"
      ]
     },
     "execution_count": 26,
     "metadata": {},
     "output_type": "execute_result"
    }
   ],
   "source": [
    "m.sin(1)"
   ]
  },
  {
   "cell_type": "code",
   "execution_count": 27,
   "id": "2b095b07",
   "metadata": {},
   "outputs": [
    {
     "data": {
      "text/plain": [
       "2"
      ]
     },
     "execution_count": 27,
     "metadata": {},
     "output_type": "execute_result"
    }
   ],
   "source": [
    "m.floor(2.7)"
   ]
  },
  {
   "cell_type": "code",
   "execution_count": 28,
   "id": "6019857a",
   "metadata": {},
   "outputs": [],
   "source": [
    "from math import sin, cos, tan"
   ]
  },
  {
   "cell_type": "code",
   "execution_count": 29,
   "id": "f34ec3a8",
   "metadata": {},
   "outputs": [],
   "source": [
    "from math import sin as s, cos as c"
   ]
  },
  {
   "cell_type": "code",
   "execution_count": 30,
   "id": "06e32e86",
   "metadata": {},
   "outputs": [
    {
     "data": {
      "text/plain": [
       "0.8414709848078965"
      ]
     },
     "execution_count": 30,
     "metadata": {},
     "output_type": "execute_result"
    }
   ],
   "source": [
    "s(1)"
   ]
  },
  {
   "cell_type": "code",
   "execution_count": 31,
   "id": "001db226",
   "metadata": {},
   "outputs": [
    {
     "data": {
      "text/plain": [
       "0.5403023058681398"
      ]
     },
     "execution_count": 31,
     "metadata": {},
     "output_type": "execute_result"
    }
   ],
   "source": [
    "c(1)"
   ]
  },
  {
   "cell_type": "markdown",
   "id": "bd8708f2",
   "metadata": {},
   "source": [
    "### 2. Using Typical Standard Libraries"
   ]
  },
  {
   "cell_type": "code",
   "execution_count": 32,
   "id": "9a2dea0d",
   "metadata": {},
   "outputs": [
    {
     "name": "stdout",
     "output_type": "stream",
     "text": [
      "0.2939696655770577\n",
      "0.9045712624577867\n",
      "0.16411869204093776\n",
      "0.9493556922164117\n",
      "0.14146141493121367\n",
      "0.6002837337885266\n",
      "0.008548281185505324\n",
      "0.23803173721103665\n",
      "0.5498142899956122\n",
      "0.9667998991030945\n"
     ]
    }
   ],
   "source": [
    "import random\n",
    "i = 0\n",
    "for i in range(10):\n",
    "    a = random.random()\n",
    "    print(a)"
   ]
  },
  {
   "cell_type": "code",
   "execution_count": 34,
   "id": "c30d0b79",
   "metadata": {},
   "outputs": [
    {
     "name": "stdout",
     "output_type": "stream",
     "text": [
      "[3, 15, 12, 5, 14, 10]\n"
     ]
    }
   ],
   "source": [
    "import random\n",
    "\n",
    "data = [1,2,3,4,5,6,7,8,9,10,11,12,13,14,15]\n",
    "a = random.sample(data, 6)\n",
    "\n",
    "print(a)"
   ]
  },
  {
   "cell_type": "code",
   "execution_count": 40,
   "id": "8e99429f",
   "metadata": {},
   "outputs": [
    {
     "name": "stdout",
     "output_type": "stream",
     "text": [
      "Labrador Retriever\n"
     ]
    }
   ],
   "source": [
    "import random\n",
    "\n",
    "dog_list = ('Labrador Retriever', 'German Shepherd', 'Bulldog', 'Beagle', 'Yorkshire Terrier')\n",
    "my_lovely_dog = random.choice(dog_list)\n",
    "\n",
    "print(my_lovely_dog)"
   ]
  },
  {
   "cell_type": "code",
   "execution_count": 45,
   "id": "7a5c87fc",
   "metadata": {},
   "outputs": [
    {
     "name": "stdout",
     "output_type": "stream",
     "text": [
      "If a <=b, then a <= N <=b 3.371571679725208\n",
      "If b < a, then b <= N <=a 8.393597178289754\n",
      "Set to return any float in the range where a is the minimum value and b is the maximum value.\n"
     ]
    }
   ],
   "source": [
    "import random\n",
    "\n",
    "x = random.uniform(1.5, 10)\n",
    "y = random.uniform(10, 1.5)\n",
    "\n",
    "print(\"If a <=b, then a <= N <=b\", x)\n",
    "print(\"If b < a, then b <= N <=a\", y)\n",
    "print(\"Set to return any float in the range where a is the minimum value and b is the maximum value.\")"
   ]
  },
  {
   "cell_type": "code",
   "execution_count": 56,
   "id": "2a197717",
   "metadata": {},
   "outputs": [
    {
     "name": "stdout",
     "output_type": "stream",
     "text": [
      "45\n"
     ]
    }
   ],
   "source": [
    "import random\n",
    "\n",
    "x = random.randint(1, 100)\n",
    "print(x)"
   ]
  },
  {
   "cell_type": "code",
   "execution_count": 61,
   "id": "f87ddaac",
   "metadata": {},
   "outputs": [
    {
     "name": "stdout",
     "output_type": "stream",
     "text": [
      "41\n"
     ]
    }
   ],
   "source": [
    "import random\n",
    "\n",
    "x = random.randrange(1, 100, 2)\n",
    "print(x)"
   ]
  },
  {
   "cell_type": "code",
   "execution_count": 62,
   "id": "80744295",
   "metadata": {},
   "outputs": [
    {
     "name": "stdout",
     "output_type": "stream",
     "text": [
      "You rolled 7.\n"
     ]
    }
   ],
   "source": [
    "import random\n",
    "\n",
    "roll = random.randint (1, 10)\n",
    "print(f'You rolled {roll}.')"
   ]
  },
  {
   "cell_type": "code",
   "execution_count": 63,
   "id": "84d94c66",
   "metadata": {},
   "outputs": [
    {
     "name": "stdout",
     "output_type": "stream",
     "text": [
      "Hello 1\n",
      "Hello 2\n",
      "Hello 3\n",
      "Hello 4\n",
      "Hello 5\n",
      "Hello 6\n",
      "Hello 7\n",
      "Hello 8\n",
      "Hello 9\n",
      "Hello 10\n"
     ]
    }
   ],
   "source": [
    "import time\n",
    "\n",
    "for i in range(10):\n",
    "    print(\"Hello\", i+1)\n",
    "    time.sleep(2)"
   ]
  },
  {
   "cell_type": "code",
   "execution_count": 67,
   "id": "d937b1e1",
   "metadata": {},
   "outputs": [
    {
     "name": "stdout",
     "output_type": "stream",
     "text": [
      "1692108918.286222\n",
      "Tue Aug 15 23:15:18 2023\n"
     ]
    }
   ],
   "source": [
    "import time\n",
    "\n",
    "a = time.time()\n",
    "b = time.ctime(a)\n",
    "\n",
    "print(a)\n",
    "print (b)"
   ]
  },
  {
   "cell_type": "code",
   "execution_count": 68,
   "id": "69604a92",
   "metadata": {},
   "outputs": [
    {
     "name": "stdout",
     "output_type": "stream",
     "text": [
      "Tue Aug 15 23:18:53 2023\n",
      "Tue Aug 15 23:18:54 2023\n",
      "Tue Aug 15 23:18:55 2023\n",
      "Tue Aug 15 23:18:56 2023\n",
      "Tue Aug 15 23:18:58 2023\n",
      "Tue Aug 15 23:18:59 2023\n",
      "Tue Aug 15 23:19:00 2023\n",
      "Tue Aug 15 23:19:01 2023\n",
      "Tue Aug 15 23:19:02 2023\n",
      "Tue Aug 15 23:19:03 2023\n"
     ]
    }
   ],
   "source": [
    "import time\n",
    "\n",
    "for i in range(10):\n",
    "    time.sleep(1)\n",
    "    print(time.ctime())"
   ]
  },
  {
   "cell_type": "code",
   "execution_count": 76,
   "id": "30a14802",
   "metadata": {},
   "outputs": [
    {
     "data": {
      "text/plain": [
       "'Tue, 15 Aug 2023 14:23:32 +0000'"
      ]
     },
     "execution_count": 76,
     "metadata": {},
     "output_type": "execute_result"
    }
   ],
   "source": [
    "from time import gmtime, strftime\n",
    "strftime(\"%a, %d %b %Y %H:%M:%S +0000\", gmtime ())"
   ]
  },
  {
   "cell_type": "code",
   "execution_count": 77,
   "id": "e9461d12",
   "metadata": {},
   "outputs": [
    {
     "data": {
      "text/plain": [
       "'Tue, 15 Aug 2023 23:23:32 +0000'"
      ]
     },
     "execution_count": 77,
     "metadata": {},
     "output_type": "execute_result"
    }
   ],
   "source": [
    "from time import localtime, strftime\n",
    "strftime (\"%a, %d %b %Y %H:%M:%S +0000\", localtime())"
   ]
  },
  {
   "cell_type": "code",
   "execution_count": 78,
   "id": "50ae47f9",
   "metadata": {},
   "outputs": [
    {
     "name": "stdout",
     "output_type": "stream",
     "text": [
      "2023-08-15\n",
      "2023 year\n",
      "8 month\n",
      "15 day\n"
     ]
    }
   ],
   "source": [
    "import datetime\n",
    "\n",
    "today = datetime.date.today()\n",
    "\n",
    "print(today)\n",
    "print(today.year, \"year\")\n",
    "print(today.month, \"month\")\n",
    "print(today.day, \"day\")"
   ]
  },
  {
   "cell_type": "code",
   "execution_count": 79,
   "id": "3fcf9529",
   "metadata": {},
   "outputs": [
    {
     "name": "stdout",
     "output_type": "stream",
     "text": [
      "2023-08-15 23:29:26.534533\n",
      "2023 year\n",
      "8 month\n",
      "15 day\n",
      "23 hour\n",
      "29 minute\n",
      "26 second\n"
     ]
    }
   ],
   "source": [
    "import datetime\n",
    "\n",
    "now = datetime.datetime.now()\n",
    "\n",
    "print(now)\n",
    "print(now.year, \"year\")\n",
    "print(now.month, \"month\")\n",
    "print(now.day, \"day\")\n",
    "print(now.hour, \"hour\")\n",
    "print(now.minute, \"minute\")\n",
    "print(now.second, \"second\")"
   ]
  },
  {
   "cell_type": "code",
   "execution_count": 80,
   "id": "fb2b91be",
   "metadata": {},
   "outputs": [
    {
     "name": "stdout",
     "output_type": "stream",
     "text": [
      "64 days, 8:05:56.000010\n"
     ]
    }
   ],
   "source": [
    "from datetime import timedelta\n",
    "\n",
    "delta = timedelta(\n",
    "    days=50,\n",
    "    seconds=27,\n",
    "    microseconds=10,\n",
    "    milliseconds=29000,\n",
    "    minutes=5,\n",
    "    hours=8,\n",
    "    weeks=2)\n",
    "\n",
    "print(delta)"
   ]
  },
  {
   "cell_type": "code",
   "execution_count": 81,
   "id": "0fb5fb22",
   "metadata": {},
   "outputs": [
    {
     "name": "stdout",
     "output_type": "stream",
     "text": [
      "2000-06-02 00:00:00\n"
     ]
    }
   ],
   "source": [
    "from datetime import timedelta\n",
    "\n",
    "d = datetime.datetime(2000, 5, 3)\n",
    "\n",
    "delta = datetime.timedelta(days = 30)\n",
    "\n",
    "print(d + delta)"
   ]
  },
  {
   "cell_type": "code",
   "execution_count": 82,
   "id": "2b832af9",
   "metadata": {},
   "outputs": [
    {
     "name": "stdout",
     "output_type": "stream",
     "text": [
      "2023-08-15 23:38:34.948122\n",
      "2023-12-30 23:38:34.948122\n"
     ]
    }
   ],
   "source": [
    "from datetime import datetime\n",
    "\n",
    "now = datetime.now()\n",
    "\n",
    "print(now)\n",
    "\n",
    "replace_time = now.replace(month = 12, day = 30)\n",
    "\n",
    "print(replace_time)"
   ]
  },
  {
   "cell_type": "code",
   "execution_count": 83,
   "id": "b3ece9ae",
   "metadata": {},
   "outputs": [
    {
     "data": {
      "text/plain": [
       "'/Users/cchyun/Workspace/emcast_ws/01_C&P 과정/02_C_P 과정 강의자료 수정본/05_ipynb 파일/Ch07'"
      ]
     },
     "execution_count": 83,
     "metadata": {},
     "output_type": "execute_result"
    }
   ],
   "source": [
    "import os\n",
    "os.getcwd()"
   ]
  },
  {
   "cell_type": "code",
   "execution_count": 84,
   "id": "54a1086e",
   "metadata": {},
   "outputs": [
    {
     "data": {
      "text/plain": [
       "['__pycache__',\n",
       " 'Ch07_Units34.ipynb',\n",
       " 'cal_n.py',\n",
       " '.ipynb_checkpoints',\n",
       " 'fund_cal.py']"
      ]
     },
     "execution_count": 84,
     "metadata": {},
     "output_type": "execute_result"
    }
   ],
   "source": [
    "import os\n",
    "os.listdir()"
   ]
  },
  {
   "cell_type": "markdown",
   "id": "b2c9a754",
   "metadata": {},
   "source": [
    "## Let’s code"
   ]
  },
  {
   "cell_type": "markdown",
   "id": "eec47f90",
   "metadata": {},
   "source": [
    "### Steps for Writing Python Code"
   ]
  },
  {
   "cell_type": "code",
   "execution_count": 7,
   "id": "5ae47fdb",
   "metadata": {},
   "outputs": [
    {
     "name": "stdout",
     "output_type": "stream",
     "text": [
      "Enter number of dice:10\n"
     ]
    }
   ],
   "source": [
    "# step1 in main program area - start game\n",
    "number_dice = input('Enter number of dice:')\n",
    "number_dice = int(number_dice)"
   ]
  },
  {
   "cell_type": "code",
   "execution_count": 8,
   "id": "dbb21e9d",
   "metadata": {},
   "outputs": [
    {
     "name": "stdout",
     "output_type": "stream",
     "text": [
      "Ready to start? Hit any key to continue\n"
     ]
    }
   ],
   "source": [
    "ready = input('Ready to start? Hit any key to continue')"
   ]
  },
  {
   "cell_type": "code",
   "execution_count": 9,
   "id": "f8bb58a8",
   "metadata": {},
   "outputs": [],
   "source": [
    "import random"
   ]
  },
  {
   "cell_type": "code",
   "execution_count": 10,
   "id": "2edd9daa",
   "metadata": {},
   "outputs": [],
   "source": [
    "def roll_dice(n):\n",
    "    dice = [] # start with empty list of dice\n",
    "    # add random numbers between 1 to 6 to the list\n",
    "    for i in range(n):\n",
    "        dice.append(random.randint(1,6))\n",
    "    return dice"
   ]
  },
  {
   "cell_type": "code",
   "execution_count": 11,
   "id": "bcc9f926",
   "metadata": {},
   "outputs": [
    {
     "data": {
      "text/plain": [
       "[4, 2, 1, 4, 1]"
      ]
     },
     "execution_count": 11,
     "metadata": {},
     "output_type": "execute_result"
    }
   ],
   "source": [
    "roll_dice(5)"
   ]
  },
  {
   "cell_type": "code",
   "execution_count": 35,
   "id": "95595d0a",
   "metadata": {},
   "outputs": [
    {
     "name": "stdout",
     "output_type": "stream",
     "text": [
      "User first roll:  [1, 3, 2, 1, 3, 4, 6, 1, 2, 2]\n"
     ]
    }
   ],
   "source": [
    "# step 2 in main program area - roll dice\n",
    "# User turn to roll\n",
    "user_rolls = roll_dice(number_dice)\n",
    "print('User first roll: ', user_rolls)"
   ]
  },
  {
   "cell_type": "code",
   "execution_count": 36,
   "id": "d44acb72",
   "metadata": {},
   "outputs": [
    {
     "name": "stdout",
     "output_type": "stream",
     "text": [
      "Enter - to hold or r to roll again :rrrrrr-rrr\n"
     ]
    }
   ],
   "source": [
    "# step 3 - get user choices\n",
    "user_choices = input(\"Enter - to hold or r to \\\n",
    "roll again :\")\n",
    "# check lenath of user input\n",
    "while len(user_choices) != number_dice:\n",
    "    print ('You must enter', number_dice, \\\n",
    "           'choices')\n",
    "    user_choices = input(\"Enter - to hold or r \\\n",
    "    to roll again :\")"
   ]
  },
  {
   "cell_type": "code",
   "execution_count": 37,
   "id": "06f81569",
   "metadata": {},
   "outputs": [],
   "source": [
    "import random\n",
    "\n",
    "import time"
   ]
  },
  {
   "cell_type": "code",
   "execution_count": 38,
   "id": "f4adcfaa",
   "metadata": {},
   "outputs": [],
   "source": [
    "def roll_again(choices, dice_list):\n",
    "    print('Rolling again ...')\n",
    "    time.sleep(3)\n",
    "    for i in range(len(choices)):\n",
    "        if choices[i] == 'r':\n",
    "            dice_list[i] = random.randint (1, 6)\n",
    "    time.sleep(3)"
   ]
  },
  {
   "cell_type": "code",
   "execution_count": 39,
   "id": "916948f1",
   "metadata": {},
   "outputs": [
    {
     "name": "stdout",
     "output_type": "stream",
     "text": [
      "Rolling again ...\n",
      "Player new Roll:  [2, 2, 2, 2, 3, 4, 6, 3, 1, 5]\n"
     ]
    }
   ],
   "source": [
    "# step 4 - roll again based on user choices\n",
    "roll_again(user_choices, user_rolls)\n",
    "print('Player new Roll: ', user_rolls)"
   ]
  },
  {
   "cell_type": "code",
   "execution_count": 40,
   "id": "bc07a50f",
   "metadata": {},
   "outputs": [
    {
     "name": "stdout",
     "output_type": "stream",
     "text": [
      "Computers turn \n",
      "Computer first roll:  [5, 2, 5, 1, 3, 6, 2, 3, 4, 3]\n"
     ]
    }
   ],
   "source": [
    "# step 5 - computer's turn to roll\n",
    "print('Computers turn ')\n",
    "computer_rolls = roll_dice(number_dice)\n",
    "print('Computer first roll: ', computer_rolls)"
   ]
  },
  {
   "cell_type": "code",
   "execution_count": 41,
   "id": "d6dcc598",
   "metadata": {},
   "outputs": [],
   "source": [
    "def computer_strategy1(n):\n",
    "    # create computer choices : roll everything again\n",
    "    print ('Computer is thinking ...')\n",
    "    time.sleep(3)\n",
    "    choices = '' # start with an empty list of choices"
   ]
  },
  {
   "cell_type": "code",
   "execution_count": 42,
   "id": "dc2025ea",
   "metadata": {},
   "outputs": [],
   "source": [
    "def computer_strategy2(n):\n",
    "    # create comouter choices: roll if < 5\n",
    "    print('Computer is thinking ...')\n",
    "    time.sleep(3)\n",
    "    choices = '' # start with an empty list of choices\n",
    "    for i in range(n):\n",
    "        if computer_rolls[i] < 5:\n",
    "            choices = choices + 'r'\n",
    "        else:\n",
    "            choices = choices + '-'\n",
    "    return choices"
   ]
  },
  {
   "cell_type": "code",
   "execution_count": 43,
   "id": "4cad54d2",
   "metadata": {},
   "outputs": [
    {
     "name": "stdout",
     "output_type": "stream",
     "text": [
      "Computer is thinking ...\n",
      "Computer Choice:  -r-rr-rrrr\n"
     ]
    }
   ],
   "source": [
    "# step 6\n",
    "# decide on what choice - using one of the strategy functions\n",
    "computer_choices = computer_strategy2 (number_dice)\n",
    "print('Computer Choice: ', computer_choices)"
   ]
  },
  {
   "cell_type": "code",
   "execution_count": 44,
   "id": "9409eb20",
   "metadata": {},
   "outputs": [
    {
     "name": "stdout",
     "output_type": "stream",
     "text": [
      "Rolling again ...\n",
      "Computer new Roll:  [5, 1, 5, 5, 3, 6, 1, 6, 5, 4]\n"
     ]
    }
   ],
   "source": [
    "# Computer rolls again using the choices it made\n",
    "roll_again(computer_choices, computer_rolls)\n",
    "print('Computer new Roll: ', computer_rolls)"
   ]
  },
  {
   "cell_type": "code",
   "execution_count": 51,
   "id": "1558b606",
   "metadata": {},
   "outputs": [],
   "source": [
    "def find_winner(cdice_list, udice_list):\n",
    "    computer_total = sum(cdice_list)\n",
    "    user_total = sum(udice_list)\n",
    "    print('Computer total', computer_total)\n",
    "    print('User total', user_total)\n",
    "    if user_total > computer_total:\n",
    "        print('User wins')\n",
    "    elif user_total < computer_total:\n",
    "        print('Computer wins')\n",
    "    else:\n",
    "        print('It is a tie!')"
   ]
  },
  {
   "cell_type": "code",
   "execution_count": 52,
   "id": "419d4ca0",
   "metadata": {},
   "outputs": [
    {
     "name": "stdout",
     "output_type": "stream",
     "text": [
      "Computer total 41\n",
      "User total 30\n",
      "Computer wins\n"
     ]
    }
   ],
   "source": [
    "# final line in code - deciding who wins\n",
    "find_winner(computer_rolls, user_rolls)"
   ]
  },
  {
   "cell_type": "markdown",
   "id": "e2aa6410",
   "metadata": {},
   "source": [
    "### Finalized Code for a Dice Game"
   ]
  },
  {
   "cell_type": "code",
   "execution_count": 56,
   "id": "638e98f7",
   "metadata": {},
   "outputs": [],
   "source": [
    "import random\n",
    "\n",
    "import time\n",
    "\n",
    "def roll_dice(n):\n",
    "    dice = [ ] # start with empty list of dice\n",
    "    # add random numbers between 1 to 6 to the list\n",
    "    for i in range(n):\n",
    "        dice.append(random.randint(1,6))\n",
    "    return dice"
   ]
  },
  {
   "cell_type": "code",
   "execution_count": 57,
   "id": "16def7cc",
   "metadata": {},
   "outputs": [],
   "source": [
    "def find_winner(cdice_list, udice_list):\n",
    "    computer_total = sum(cdice_list)\n",
    "    user_total = sum(udice_list)\n",
    "    print ('Computer total', computer_total)\n",
    "    print('User total' ,user_total )\n",
    "    if user_total > computer_total:\n",
    "        print('User wins')\n",
    "    elif user_total < computer_total:\n",
    "        print('Computer wins')\n",
    "    else:\n",
    "        print('It is a tie!')\n",
    "\n",
    "def roll_again(choices, dice_list):\n",
    "    print('Rolling again ...')\n",
    "    time.sleep(3)\n",
    "    for i in range(len(choices)):\n",
    "        if choices[i] == 'r':\n",
    "            dice_list[i] = random. randint (1, 6)\n",
    "    time.sleep(3)"
   ]
  },
  {
   "cell_type": "code",
   "execution_count": 58,
   "id": "14abe04c",
   "metadata": {},
   "outputs": [],
   "source": [
    "def computer_strategy1(n):\n",
    "    # create computer choices : roll everything again\n",
    "    print('Computer is thinking ...')\n",
    "    time.sleep(3)\n",
    "    choices = '' # start with an empty list of choices\n",
    "    for i in range(n):\n",
    "        choices = choices + 'r'\n",
    "    return choices\n",
    "\n",
    "def computer_strategy2(n):\n",
    "    # create comouter choices: roll if ‹ 5\n",
    "    print('Computer is thinking ...')\n",
    "    time.sleep(3)\n",
    "    choices = '' # start with an emoty list of choices\n",
    "    for i in range(n):\n",
    "        if computer_rolls[i] < 5:\n",
    "            choices = choices + 'r'\n",
    "        else:\n",
    "            choices = choices + '-'\n",
    "    return choices"
   ]
  },
  {
   "cell_type": "code",
   "execution_count": 61,
   "id": "8242b687",
   "metadata": {},
   "outputs": [
    {
     "name": "stdout",
     "output_type": "stream",
     "text": [
      "Enter number of dice:10\n",
      "Ready to start? Hit any key to continue\n",
      "User first roll:  [1, 1, 5, 2, 5, 5, 3, 3, 2, 1]\n",
      "Enter - to hold or r to roll again :rr-r--rrrr\n"
     ]
    }
   ],
   "source": [
    "# step1 in main program area - start game\n",
    "number_dice = input('Enter number of dice:')\n",
    "number_dice = int(number_dice)\n",
    "ready = input('Ready to start? Hit any key to continue')\n",
    "\n",
    "# step 2 in main program area - roll dice\n",
    "# User turn to roll\n",
    "user_rolls = roll_dice(number_dice)\n",
    "print('User first roll: ' , user_rolls)\n",
    "\n",
    "# step 4 - get user choices\n",
    "user_choices = input(\"Enter - to hold or r to \\\n",
    "roll again :\")\n",
    "# check length of user input\n",
    "while len(user_choices) != number_dice:\n",
    "    print ('You must enter', number_dice, \\\n",
    "           'choices')\n",
    "    user_choices = input(\"Enter - to hold or r \\\n",
    "    to roll again :\")"
   ]
  },
  {
   "cell_type": "code",
   "execution_count": 63,
   "id": "7e4f49af",
   "metadata": {},
   "outputs": [
    {
     "name": "stdout",
     "output_type": "stream",
     "text": [
      "Rolling again ...\n",
      "Player new Roll:  [5, 6, 5, 1, 5, 5, 2, 3, 3, 2]\n",
      "Computers turn \n",
      "Computer first roll:  [3, 1, 1, 5, 5, 3, 5, 6, 4, 5]\n",
      "Computer is thinking ...\n",
      "Computer Choice:  rrr--r--r-\n",
      "Rolling again ...\n",
      "Computer new Roll:  [2, 3, 3, 5, 5, 5, 5, 6, 4, 5]\n",
      "Computer total 43\n",
      "User total 37\n",
      "Computer wins\n"
     ]
    }
   ],
   "source": [
    "# step 5 - roll again based on user choices\n",
    "roll_again(user_choices, user_rolls)\n",
    "print ('Player new Roll: ', user_rolls)\n",
    "\n",
    "# Computer's turn to roll\n",
    "print('Computers turn ')\n",
    "computer_rolls = roll_dice(number_dice)\n",
    "print('Computer first roll: ', computer_rolls)\n",
    "\n",
    "# step 6\n",
    "# decide on what choice - using one of the strategy functions\n",
    "computer_choices = computer_strategy2(number_dice)\n",
    "print('Computer Choice: ', computer_choices)\n",
    "# Computer rolls again using the choices it made\n",
    "roll_again(computer_choices, computer_rolls)\n",
    "print('Computer new Roll: ', computer_rolls)\n",
    "\n",
    "# final line in code - deciding who wins\n",
    "find_winner (computer_rolls,user_rolls)"
   ]
  },
  {
   "cell_type": "code",
   "execution_count": null,
   "id": "89f61891",
   "metadata": {},
   "outputs": [],
   "source": []
  }
 ],
 "metadata": {
  "kernelspec": {
   "display_name": "Python 3 (ipykernel)",
   "language": "python",
   "name": "python3"
  },
  "language_info": {
   "codemirror_mode": {
    "name": "ipython",
    "version": 3
   },
   "file_extension": ".py",
   "mimetype": "text/x-python",
   "name": "python",
   "nbconvert_exporter": "python",
   "pygments_lexer": "ipython3",
   "version": "3.9.23"
  }
 },
 "nbformat": 4,
 "nbformat_minor": 5
}
