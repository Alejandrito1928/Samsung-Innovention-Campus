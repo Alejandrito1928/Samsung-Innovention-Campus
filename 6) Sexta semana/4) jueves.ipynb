{
 "cells": [
  {
   "cell_type": "code",
   "execution_count": 1,
   "id": "b3972a4e",
   "metadata": {},
   "outputs": [
    {
     "name": "stdout",
     "output_type": "stream",
     "text": [
      "--- DataFrame Original ---\n",
      "   Columna 1 Columna 2\n",
      "a         10         A\n",
      "b         20         B\n",
      "c         30         C\n",
      "d         40         D\n",
      "\n",
      "\n",
      "--- Filas seleccionadas ('a' y 'b') ---\n",
      "   Columna 1 Columna 2\n",
      "a         10         A\n",
      "b         20         B\n"
     ]
    }
   ],
   "source": [
    "import pandas as pd\n",
    "\n",
    "# 1. Creamos datos de ejemplo\n",
    "data = {\n",
    "    'Columna 1': [10, 20, 30, 40],\n",
    "    'Columna 2': ['A', 'B', 'C', 'D']\n",
    "}\n",
    "\n",
    "# 2. IMPORTANTE: Creamos el DataFrame CON un índice personalizado\n",
    "#    El índice tiene las etiquetas 'a', 'b', 'c', 'd'\n",
    "df = pd.DataFrame(data, index=['a', 'b', 'c', 'd'])\n",
    "\n",
    "print(\"--- DataFrame Original ---\")\n",
    "print(df)\n",
    "print(\"\\n\")\n",
    "\n",
    "# 3. Usamos .loc[] para seleccionar SOLO las filas 'a' y 'b'\n",
    "seleccion = df.loc[[\"a\", \"b\"]] # \n",
    "\n",
    "print(\"--- Filas seleccionadas ('a' y 'b') ---\")\n",
    "print(seleccion)"
   ]
  },
  {
   "cell_type": "code",
   "execution_count": 4,
   "id": "344f253a",
   "metadata": {},
   "outputs": [
    {
     "name": "stdout",
     "output_type": "stream",
     "text": [
      "(891, 15)\n",
      "   survived  pclass     sex   age  sibsp  parch     fare embarked  class  \\\n",
      "0         0       3    male  22.0      1      0   7.2500        S  Third   \n",
      "1         1       1  female  38.0      1      0  71.2833        C  First   \n",
      "2         1       3  female  26.0      0      0   7.9250        S  Third   \n",
      "\n",
      "     who  adult_male deck  embark_town alive  alone  \n",
      "0    man        True  NaN  Southampton    no  False  \n",
      "1  woman       False    C    Cherbourg   yes  False  \n",
      "2  woman       False  NaN  Southampton   yes   True  \n",
      "<class 'pandas.core.frame.DataFrame'>\n",
      "RangeIndex: 891 entries, 0 to 890\n",
      "Data columns (total 15 columns):\n",
      " #   Column       Non-Null Count  Dtype   \n",
      "---  ------       --------------  -----   \n",
      " 0   survived     891 non-null    int64   \n",
      " 1   pclass       891 non-null    int64   \n",
      " 2   sex          891 non-null    object  \n",
      " 3   age          714 non-null    float64 \n",
      " 4   sibsp        891 non-null    int64   \n",
      " 5   parch        891 non-null    int64   \n",
      " 6   fare         891 non-null    float64 \n",
      " 7   embarked     889 non-null    object  \n",
      " 8   class        891 non-null    category\n",
      " 9   who          891 non-null    object  \n",
      " 10  adult_male   891 non-null    bool    \n",
      " 11  deck         203 non-null    category\n",
      " 12  embark_town  889 non-null    object  \n",
      " 13  alive        891 non-null    object  \n",
      " 14  alone        891 non-null    bool    \n",
      "dtypes: bool(2), category(2), float64(2), int64(4), object(5)\n",
      "memory usage: 80.7+ KB\n",
      "None\n"
     ]
    }
   ],
   "source": [
    "import seaborn as sns\n",
    "import pandas as pd  # opcional, pero útil\n",
    "\n",
    "# Cargar el dataset titanic (requiere internet la primera vez)\n",
    "df = sns.load_dataset('titanic')\n",
    "\n",
    "# Comprobaciones rápidas\n",
    "print(df.shape)       # filas, columnas\n",
    "print(df.head(3))     # primeras filas\n",
    "print(df.info())      # tipos y nulos\n"
   ]
  },
  {
   "cell_type": "code",
   "execution_count": 10,
   "id": "25578d81",
   "metadata": {},
   "outputs": [
    {
     "name": "stdout",
     "output_type": "stream",
     "text": [
      "La columna 'absences' no existe en el dataframe. Usa el nombre correcto.\n"
     ]
    }
   ],
   "source": [
    "# --- Limpieza y relleno ---\n",
    "df_sin_deck = df.dropna(thresh=500, axis=1)\n",
    "df_sin_edad_nan = df.dropna(subset=['age'], axis=0)\n",
    "avg_age = df['age'].mean()\n",
    "df['age'] = df['age'].fillna(avg_age)\n",
    "median_age = df['age'].median()\n",
    "df['age'] = df['age'].fillna(median_age)\n",
    "\n",
    "# --- Histograma de ausencias (reemplaza 'absences' por la columna real si es necesario) ---\n",
    "import matplotlib.pyplot as plt\n",
    "\n",
    "# Verifica el nombre de la columna antes de graficar\n",
    "if 'absences' in df.columns:\n",
    "    plt.hist(df['absences'])\n",
    "    plt.title(\"Histograma de Ausencias\")\n",
    "    plt.xlabel(\"Días de Ausencia\")\n",
    "    plt.ylabel(\"Número de Estudiantes\")\n",
    "    plt.grid(True)\n",
    "    plt.show()\n",
    "else:\n",
    "    print(\"La columna 'absences' no existe en el dataframe. Usa el nombre correcto.\")\n"
   ]
  },
  {
   "cell_type": "code",
   "execution_count": 13,
   "id": "a26342de",
   "metadata": {},
   "outputs": [
    {
     "name": "stdout",
     "output_type": "stream",
     "text": [
      "        Entity Code  Year  Aquaculture production (metric tons)  \\\n",
      "0  Afghanistan  AFG  1969                                  60.0   \n",
      "1  Afghanistan  AFG  1970                                  60.0   \n",
      "2  Afghanistan  AFG  1971                                  60.0   \n",
      "3  Afghanistan  AFG  1972                                  60.0   \n",
      "4  Afghanistan  AFG  1973                                  60.0   \n",
      "\n",
      "   Capture fisheries production (metric tons)  \n",
      "0                                       400.0  \n",
      "1                                       400.0  \n",
      "2                                       500.0  \n",
      "3                                       500.0  \n",
      "4                                       500.0  \n",
      "\n",
      "Successfully loaded data from: ./Notebooks and data-20251021/data/fish/capture-fisheries-vs-aquaculture.csv\n"
     ]
    }
   ],
   "source": [
    "import pandas as pd\n",
    "\n",
    "# This assumes your notebook is in 'Notebooks and data-20251021'\n",
    "# and the 'data' folder is also directly inside it.\n",
    "file_path = \"./Notebooks and data-20251021/data/fish/capture-fisheries-vs-aquaculture.csv\" \n",
    "df = pd.read_csv(file_path)\n",
    "\n",
    "print(df.head())\n",
    "print(f\"\\nSuccessfully loaded data from: {file_path}\")"
   ]
  },
  {
   "cell_type": "code",
   "execution_count": 14,
   "id": "cfd9b2f9",
   "metadata": {},
   "outputs": [
    {
     "name": "stdout",
     "output_type": "stream",
     "text": [
      "\n",
      "DataFrame después de eliminar la columna 'Code':\n",
      "        Entity  Year  Aquaculture production (metric tons)  \\\n",
      "0  Afghanistan  1969                                  60.0   \n",
      "1  Afghanistan  1970                                  60.0   \n",
      "2  Afghanistan  1971                                  60.0   \n",
      "3  Afghanistan  1972                                  60.0   \n",
      "4  Afghanistan  1973                                  60.0   \n",
      "\n",
      "   Capture fisheries production (metric tons)  \n",
      "0                                       400.0  \n",
      "1                                       400.0  \n",
      "2                                       500.0  \n",
      "3                                       500.0  \n",
      "4                                       500.0  \n"
     ]
    }
   ],
   "source": [
    "# Eliminar la columna 'Code'\n",
    "df = df.drop('Code', axis=1) #\n",
    "\n",
    "# (Opcional: Verificar que 'Code' ya no está)\n",
    "print(\"\\nDataFrame después de eliminar la columna 'Code':\")\n",
    "print(df.head())"
   ]
  },
  {
   "cell_type": "code",
   "execution_count": 15,
   "id": "421225bb",
   "metadata": {},
   "outputs": [
    {
     "name": "stdout",
     "output_type": "stream",
     "text": [
      "\n",
      "Valores NaN por columna ANTES de reemplazar:\n",
      "Entity                                           0\n",
      "Year                                             0\n",
      "Aquaculture production (metric tons)          3017\n",
      "Capture fisheries production (metric tons)     158\n",
      "dtype: int64\n",
      "\n",
      "Valores NaN por columna DESPUÉS de reemplazar:\n",
      "Entity                                        0\n",
      "Year                                          0\n",
      "Aquaculture production (metric tons)          0\n",
      "Capture fisheries production (metric tons)    0\n",
      "dtype: int64\n"
     ]
    }
   ],
   "source": [
    "# (Opcional: Ver cuántos NaN hay antes de reemplazar)\n",
    "print(\"\\nValores NaN por columna ANTES de reemplazar:\")\n",
    "print(df.isnull().sum())\n",
    "\n",
    "# Reemplazar todos los NaN con 0\n",
    "df = df.fillna(0) # \n",
    "\n",
    "# (Opcional: Verificar que ya no quedan NaN)\n",
    "print(\"\\nValores NaN por columna DESPUÉS de reemplazar:\")\n",
    "print(df.isnull().sum())"
   ]
  },
  {
   "cell_type": "code",
   "execution_count": 16,
   "id": "aec0002a",
   "metadata": {},
   "outputs": [
    {
     "name": "stdout",
     "output_type": "stream",
     "text": [
      "\n",
      "Tipo de dato de 'Year' ANTES de la conversión:\n",
      "Entity                                         object\n",
      "Year                                            int64\n",
      "Aquaculture production (metric tons)          float64\n",
      "Capture fisheries production (metric tons)    float64\n",
      "dtype: object\n",
      "\n",
      "DataFrame DESPUÉS de transformar el tiempo:\n",
      "                              Entity  Aquaculture production (metric tons)  \\\n",
      "new_Year                                                                     \n",
      "1960-01-01            Cayman Islands                                   0.0   \n",
      "1960-01-01                   Bahrain                                   0.0   \n",
      "1960-01-01               North Korea                                5236.0   \n",
      "1960-01-01  Northern Mariana Islands                                   0.0   \n",
      "1960-01-01                    Norway                                1900.0   \n",
      "\n",
      "            Capture fisheries production (metric tons)  \n",
      "new_Year                                                \n",
      "1960-01-01                                         0.0  \n",
      "1960-01-01                                      1500.0  \n",
      "1960-01-01                                    299190.0  \n",
      "1960-01-01                                       100.0  \n",
      "1960-01-01                                   1609362.0  \n",
      "\n",
      "Información del DataFrame con el nuevo índice:\n",
      "<class 'pandas.core.frame.DataFrame'>\n",
      "DatetimeIndex: 12727 entries, 1960-01-01 to 2018-01-01\n",
      "Data columns (total 3 columns):\n",
      " #   Column                                      Non-Null Count  Dtype  \n",
      "---  ------                                      --------------  -----  \n",
      " 0   Entity                                      12727 non-null  object \n",
      " 1   Aquaculture production (metric tons)        12727 non-null  float64\n",
      " 2   Capture fisheries production (metric tons)  12727 non-null  float64\n",
      "dtypes: float64(2), object(1)\n",
      "memory usage: 397.7+ KB\n"
     ]
    }
   ],
   "source": [
    "# (Opcional: Verificar el tipo de dato original de 'Year')\n",
    "print(\"\\nTipo de dato de 'Year' ANTES de la conversión:\")\n",
    "print(df.dtypes) \n",
    "\n",
    "# --- Conversión a datetime ---\n",
    "# Usamos pd.to_datetime para convertir la columna 'Year'.\n",
    "# format=\"%Y\" le dice a Pandas que los números en 'Year' son solo años (YYYY).\n",
    "# Guardamos el resultado en una NUEVA columna llamada 'new_Year'.\n",
    "df['new_Year'] = pd.to_datetime(df['Year'], format=\"%Y\") # \n",
    "\n",
    "# --- Establecer como Índice ---\n",
    "# Usamos .set_index() para que la columna 'new_Year' sea el nuevo índice del DataFrame.\n",
    "df = df.set_index('new_Year') # \n",
    "\n",
    "# --- Limpiar Columnas Viejas ---\n",
    "# Como la información del año ya está en el índice, la columna 'Year' original ya no es necesaria.\n",
    "df = df.drop('Year', axis=1) # \n",
    "\n",
    "# --- Ordenar el Índice ---\n",
    "# Es fundamental que los datos de series temporales estén ordenados cronológicamente.\n",
    "df = df.sort_index() # \n",
    "\n",
    "# (Opcional: Verificar los cambios)\n",
    "print(\"\\nDataFrame DESPUÉS de transformar el tiempo:\")\n",
    "print(df.head()) \n",
    "print(\"\\nInformación del DataFrame con el nuevo índice:\")\n",
    "df.info() # Ahora deberías ver \"DatetimeIndex\" en lugar de \"RangeIndex\""
   ]
  }
 ],
 "metadata": {
  "kernelspec": {
   "display_name": "data_science",
   "language": "python",
   "name": "python3"
  },
  "language_info": {
   "codemirror_mode": {
    "name": "ipython",
    "version": 3
   },
   "file_extension": ".py",
   "mimetype": "text/x-python",
   "name": "python",
   "nbconvert_exporter": "python",
   "pygments_lexer": "ipython3",
   "version": "3.10.18"
  }
 },
 "nbformat": 4,
 "nbformat_minor": 5
}
