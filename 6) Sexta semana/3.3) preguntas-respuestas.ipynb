{
 "cells": [
  {
   "cell_type": "code",
   "execution_count": null,
   "id": "32ba178a",
   "metadata": {},
   "outputs": [],
   "source": [
    "import math\n",
    "from math import sin\n",
    "#diferecia\n",
    "\n",
    "#que uno importa toda la funciones de matematica \n",
    "#y el otro solo importa la funcion sen"
   ]
  },
  {
   "cell_type": "code",
   "execution_count": 1,
   "id": "1e6b7b55",
   "metadata": {},
   "outputs": [
    {
     "name": "stdout",
     "output_type": "stream",
     "text": [
      "5\n"
     ]
    }
   ],
   "source": [
    "#2. (Práctica) Escribe una sola línea de código para simular el lanzamiento de un \n",
    "#dado de 6 caras (es decir, obtener un número aleatorio entre 1 y 6).\n",
    "import random \n",
    "\n",
    "dado = random.randint(1,6)\n",
    "print(dado)"
   ]
  },
  {
   "cell_type": "code",
   "execution_count": null,
   "id": "d21249e8",
   "metadata": {},
   "outputs": [],
   "source": [
    "#3. (Concepto) ¿Para qué se usa un \"alias\" al importar, como en import pandas as pd?\n",
    "#para usar mas facil las funciones "
   ]
  },
  {
   "cell_type": "code",
   "execution_count": 2,
   "id": "98b3427a",
   "metadata": {},
   "outputs": [
    {
     "name": "stdout",
     "output_type": "stream",
     "text": [
      "2025-10-22 00:36:17.372878\n"
     ]
    }
   ],
   "source": [
    "#(Práctica) Usando el módulo datetime, ¿cómo obtendrías la fecha y hora exacta de este momento?\n",
    "\n",
    "import datetime\n",
    "ahora = datetime.datetime.now()\n",
    "#fecha\n",
    "print(ahora)"
   ]
  },
  {
   "cell_type": "code",
   "execution_count": null,
   "id": "6ec69553",
   "metadata": {},
   "outputs": [],
   "source": [
    "#5. (Concepto) ¿Cuál es la diferencia fundamental entre una lista de Python y una Serie de Pandas?\n",
    "#Pista: ¿Qué tiene la Serie que la lista no tiene?\n",
    "\n",
    "#La serie tiene un indice asociado a cada valor, mientras que la lista no tiene indice"
   ]
  },
  {
   "cell_type": "code",
   "execution_count": null,
   "id": "2ec19852",
   "metadata": {},
   "outputs": [
    {
     "name": "stdout",
     "output_type": "stream",
     "text": [
      "Manzanas    150\n",
      "Naranjas     80\n",
      "Mangos      120\n",
      "dtype: int64\n"
     ]
    }
   ],
   "source": [
    "#6. (Práctica) Dado el siguiente diccionario, ¿cómo lo conviertes en una Serie de Pandas?\n",
    "\n",
    "#hecho por AI no por mi no calificar bien me falto\n",
    "ventas = {'Manzanas': 150, 'Naranjas': 80, 'Mangos': 120}\n",
    "#convertir a pandas \n",
    "import pandas as pd\n",
    "serie_ventas = pd.Series(ventas)\n",
    "print(serie_ventas)\n"
   ]
  },
  {
   "cell_type": "code",
   "execution_count": null,
   "id": "02b440bd",
   "metadata": {},
   "outputs": [],
   "source": [
    "#7. (Práctica/Concepto) ¿Cuál sería el resultado de sumar estas dos Series de Pandas? ¿Por qué?\n",
    "import pandas as pd\n",
    "s1 = pd.Series([10, 20], index=['a', 'b'])\n",
    "s2 = pd.Series([5, 50], index=['a', 'c'])\n",
    "print(s1 + s2)\n",
    "\n",
    "#el resultado es 15 y 70 "
   ]
  },
  {
   "cell_type": "code",
   "execution_count": null,
   "id": "d88603b9",
   "metadata": {},
   "outputs": [],
   "source": [
    "#8. (Práctica) Si tienes la siguiente Serie, ¿qué método usarías para encontrar \n",
    "#el promedio (la media) de todos los valores?\n",
    "\n",
    "#hecho por AI no por mi no calificar bien me falto\n",
    "s_notas = pd.Series([8.5, 9.0, 7.0, 10.0])\n",
    "promedio = s_notas.mean()\n",
    "print(promedio)\n",
    "\n"
   ]
  },
  {
   "cell_type": "code",
   "execution_count": 4,
   "id": "9bad9cce",
   "metadata": {},
   "outputs": [
    {
     "name": "stdout",
     "output_type": "stream",
     "text": [
      "Alquiler      900\n",
      "Comida        350\n",
      "Transporte    100\n",
      "dtype: int64\n"
     ]
    }
   ],
   "source": [
    "#convertir a panda \n",
    "gastos_mes = {'Alquiler': 900, 'Comida': 350, 'Transporte': 100}\n",
    "import pandas as pd\n",
    "convertir = pd.Series(gastos_mes)\n",
    "print(convertir)"
   ]
  },
  {
   "cell_type": "code",
   "execution_count": null,
   "id": "29c03491",
   "metadata": {},
   "outputs": [
    {
     "name": "stdout",
     "output_type": "stream",
     "text": [
      "770\n"
     ]
    }
   ],
   "source": [
    "#cualcular la suma total \n",
    "s_puntos = pd.Series([150, 200, 120, 300])\n",
    "total_puntos = s_puntos.sum()\n",
    "print(total_puntos)\n",
    "#se usa la funcion sum() para sumar todos los valores de la serie\n"
   ]
  },
  {
   "cell_type": "code",
   "execution_count": null,
   "id": "9c461054",
   "metadata": {},
   "outputs": [
    {
     "name": "stdout",
     "output_type": "stream",
     "text": [
      "manzanas     NaN\n",
      "naranjas    40.0\n",
      "plátanos     NaN\n",
      "dtype: float64\n"
     ]
    }
   ],
   "source": [
    "import pandas as pd\n",
    "stock = pd.Series([50, 80], index=['naranjas', 'manzanas'])\n",
    "ventas = pd.Series([10, 30], index=['naranjas', 'plátanos'])\n",
    "#da como resultado 40 y NaN y NaN\n",
    "#manznas NaN\n",
    "#naranjas 40\n",
    "#platanos NaN\n",
    "print(stock- ventas)"
   ]
  },
  {
   "cell_type": "code",
   "execution_count": 7,
   "id": "7de685be",
   "metadata": {},
   "outputs": [
    {
     "name": "stdout",
     "output_type": "stream",
     "text": [
      "6\n"
     ]
    }
   ],
   "source": [
    "s_notas = pd.Series([10, 6, 8, 9, 6])\n",
    "print(s_notas.min())"
   ]
  }
 ],
 "metadata": {
  "kernelspec": {
   "display_name": "data_science",
   "language": "python",
   "name": "python3"
  },
  "language_info": {
   "codemirror_mode": {
    "name": "ipython",
    "version": 3
   },
   "file_extension": ".py",
   "mimetype": "text/x-python",
   "name": "python",
   "nbconvert_exporter": "python",
   "pygments_lexer": "ipython3",
   "version": "3.10.18"
  }
 },
 "nbformat": 4,
 "nbformat_minor": 5
}
