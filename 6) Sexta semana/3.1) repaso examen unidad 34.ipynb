{
 "cells": [
  {
   "cell_type": "code",
   "execution_count": 6,
   "id": "52afda8c",
   "metadata": {},
   "outputs": [
    {
     "name": "stdout",
     "output_type": "stream",
     "text": [
      "[0, 5, 15, 30, 40, 50, 55, 70, 75, 85, 90, 100]\n",
      "Lista completa de múltiplos: [0, 5, 15, 30, 40, 50, 55, 70, 75, 85, 90, 100]\n",
      "Tres múltiplos seleccionados al azar: [85, 55, 70]\n"
     ]
    }
   ],
   "source": [
    "import random\n",
    "\n",
    "# 1. Crear una lista con los múltiplos de 5 entre 0 y 100\n",
    "# (El 101 es necesario para que 'range' incluya el 100)\n",
    "lista = [10,20,35,95,65,60,45,80,25]\n",
    "multiples_de_5 = list(range(0, 101, 5))\n",
    "\n",
    "for i in lista:\n",
    "    if i in multiples_de_5:\n",
    "        multiples_de_5.remove(i)\n",
    "print(multiples_de_5)\n",
    "\n",
    "# 2. Usar random.sample() para seleccionar 3 números únicos de esa lista\n",
    "tres_multiplos = random.sample(multiples_de_5, 3)\n",
    "\n",
    "# 3. Imprimir los resultados\n",
    "print(f\"Lista completa de múltiplos: {multiples_de_5}\")\n",
    "print(f\"Tres múltiplos seleccionados al azar: {tres_multiplos}\")"
   ]
  },
  {
   "cell_type": "code",
   "execution_count": null,
   "id": "28799e82",
   "metadata": {},
   "outputs": [],
   "source": [
    "from datetime import datetime, timedelta\n",
    "\n",
    "dia_especial = datetime(2024, 1, 1)\n",
    "duracion = timedelta(days=100)\n",
    "fecha_aniversario = dia_especial + duracion\n",
    "\n",
    "print(\"--- Aniversario de 100 Días ---\")\n",
    "print(f\"Día especial: {dia_especial.strftime('%Y-%m-%d')}\")\n",
    "print(f\"Fecha del 100º aniversario: {fecha_aniversario.strftime('%Y-%m-%d')}\")\n",
    "\n",
    "print(\"\\n--- Calculadora de Aniversario Personalizada ---\")\n",
    "\n",
    "try:\n",
    "    año = int(input(\"Ingresa el año (YYYY): \"))\n",
    "    mes = int(input(\"Ingresa el mes (MM): \"))\n",
    "    dia = int(input(\"Ingresa el día (DD): \"))\n",
    "    dias_para_aniversario = int(input(\"¿Cuántos días quieres celebrar? (ej. 100, 500...): \"))\n",
    "\n",
    "    fecha_usuario = datetime(año, mes, dia)\n",
    "    duracion_usuario = timedelta(days=dias_para_aniversario)\n",
    "    aniversario_usuario = fecha_usuario + duracion_usuario\n",
    "\n",
    "    print(f\"Tu aniversario de {dias_para_aniversario} días será el: {aniversario_usuario.strftime('%Y-%m-%d')}\")\n",
    "except ValueError:\n",
    "    print(\"Error: Asegúrate de ingresar números válidos para la fecha.\")\n"
   ]
  },
  {
   "cell_type": "code",
   "execution_count": 7,
   "id": "6ef2674f",
   "metadata": {},
   "outputs": [
    {
     "name": "stdout",
     "output_type": "stream",
     "text": [
      "El seno de 1 es: 0.8414709848078965\n",
      "El seno de 1 (desde 'from') es: 0.8414709848078965\n",
      "El coseno de 1 es: 0.5403023058681398\n",
      "La tangente de 1 es: 1.5574077246549023\n",
      "El 'piso' de 3.9 es: 3\n",
      "El 'techo' de 2.1 (con alias) es: 3\n"
     ]
    }
   ],
   "source": [
    "# 1. import ModuleName\n",
    "import math\n",
    "print(f\"El seno de 1 es: {math.sin(1)}\")\n",
    "\n",
    "# ---\n",
    "\n",
    "# 2. from ModuleName import FunctionName\n",
    "from math import sin\n",
    "print(f\"El seno de 1 (desde 'from') es: {sin(1)}\")\n",
    "\n",
    "from math import cos, tan\n",
    "print(f\"El coseno de 1 es: {cos(1)}\")\n",
    "print(f\"La tangente de 1 es: {tan(1)}\")\n",
    "\n",
    "# ---\n",
    "\n",
    "# 3. from ModuleName import *\n",
    "from math import *\n",
    "print(f\"El 'piso' de 3.9 es: {floor(3.9)}\")\n",
    "\n",
    "# ---\n",
    "\n",
    "# 4. import ModuleName as Alias\n",
    "import math as m\n",
    "print(f\"El 'techo' de 2.1 (con alias) es: {m.ceil(2.1)}\")\n"
   ]
  },
  {
   "cell_type": "code",
   "execution_count": 9,
   "id": "b0d0bd27",
   "metadata": {},
   "outputs": [
    {
     "name": "stdout",
     "output_type": "stream",
     "text": [
      "Inicio del programa.\n",
      "Han pasado 2 segundos.\n",
      "Timestamp actual: 1761084320.2133098\n",
      "Fecha y hora legible (actual): Wed Oct 22 00:05:20 2025\n",
      "Fecha y hora formateada: 2025-10-22 00:05:25\n",
      "Fecha y hora formateada: 2025-10-22 00:05:30\n",
      "Fecha y hora formateada: 2025-10-22 00:05:35\n"
     ]
    }
   ],
   "source": [
    "import time\n",
    "\n",
    "print(\"Inicio del programa.\")\n",
    "\n",
    "# .sleep(segundos) -> Pausa el programa\n",
    "time.sleep(2)  # Pausa por 2 segundos\n",
    "print(\"Han pasado 2 segundos.\")\n",
    "\n",
    "# .time() -> Segundos (timestamp) desde el 1 de enero de 1970\n",
    "timestamp_actual = time.time()\n",
    "print(f\"Timestamp actual: {timestamp_actual}\")\n",
    "\n",
    "# .ctime() -> Convierte un timestamp en texto legible\n",
    "# Si no le pasas argumentos, usa el tiempo actual\n",
    "texto_legible_actual = time.ctime()\n",
    "print(f\"Fecha y hora legible (actual): {texto_legible_actual}\")\n",
    "\n",
    "# .strftime('formato') -> Formatea la fecha y hora\n",
    "# %Y = Año, %m = Mes (número), %d = Día, %H = Hora, %M = Minuto\n",
    "formateado = time.strftime(\"%Y-%m-%d %H:%M:%S\")\n",
    "for i in range (3):\n",
    "    time.sleep(5)\n",
    "    formateado = time.strftime(\"%Y-%m-%d %H:%M:%S\")\n",
    "    print(f\"Fecha y hora formateada: {formateado}\")\n"
   ]
  },
  {
   "cell_type": "code",
   "execution_count": 10,
   "id": "25cf88da",
   "metadata": {},
   "outputs": [
    {
     "name": "stdout",
     "output_type": "stream",
     "text": [
      "Número decimal aleatorio: 0.1927155087287865\n",
      "Lanzamiento de dado (1-6): 5\n",
      "Muestra aleatoria de 3 números: [9, 7, 8]\n",
      "Perro elegido al azar: Beagle\n",
      "Temperatura aleatoria (15.5-30.0): 27.141582589492607\n"
     ]
    }
   ],
   "source": [
    "import random\n",
    "\n",
    "# .random() -> Flotante entre 0.0 y 1.0\n",
    "num_decimal = random.random()\n",
    "print(f\"Número decimal aleatorio: {num_decimal}\")\n",
    "\n",
    "# .randint(a, b) -> Entero entre a y b (ambos incluidos)\n",
    "# Simula un dado de 6 caras\n",
    "dado = random.randint(1, 6)\n",
    "print(f\"Lanzamiento de dado (1-6): {dado}\")\n",
    "\n",
    "# .sample(lista, k) -> k elementos únicos de una lista\n",
    "data = [1, 2, 3, 4, 5, 6, 7, 8, 9, 10]\n",
    "muestra = random.sample(data, 3)  # Elige 3 números\n",
    "print(f\"Muestra aleatoria de 3 números: {muestra}\")\n",
    "\n",
    "# .choice(lista) -> Un solo elemento de una lista\n",
    "perros = ['Labrador', 'Bulldog', 'Beagle']\n",
    "perro_elegido = random.choice(perros)\n",
    "print(f\"Perro elegido al azar: {perro_elegido}\")\n",
    "\n",
    "# .uniform(a, b) -> Flotante entre a y b\n",
    "temperatura = random.uniform(15.5, 30.0)\n",
    "print(f\"Temperatura aleatoria (15.5-30.0): {temperatura}\")\n"
   ]
  }
 ],
 "metadata": {
  "kernelspec": {
   "display_name": "data_science",
   "language": "python",
   "name": "python3"
  },
  "language_info": {
   "codemirror_mode": {
    "name": "ipython",
    "version": 3
   },
   "file_extension": ".py",
   "mimetype": "text/x-python",
   "name": "python",
   "nbconvert_exporter": "python",
   "pygments_lexer": "ipython3",
   "version": "3.10.18"
  }
 },
 "nbformat": 4,
 "nbformat_minor": 5
}
