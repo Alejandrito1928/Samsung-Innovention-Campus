{
 "cells": [
  {
   "cell_type": "code",
   "execution_count": null,
   "id": "863ffd6d",
   "metadata": {},
   "outputs": [],
   "source": [
    "\"\"\"#clases y objetos\n",
    "account1 = BankAccount(\"David\", \"1234-0001\")\n",
    "print(account1)\n",
    "\n",
    "account1.deposit(2000)\n",
    "\n",
    "print(account1)\n",
    "\n",
    "account1.withdraw(500)\n",
    "\n",
    "print(account1)\n",
    "\n",
    "account1.withdraw(5000)\"\"\""
   ]
  },
  {
   "cell_type": "code",
   "execution_count": 13,
   "id": "170160d6",
   "metadata": {},
   "outputs": [
    {
     "name": "stdout",
     "output_type": "stream",
     "text": [
      "Alejandro\n",
      "12345\n",
      "David\n",
      "0\n",
      "2000 won has been deposited. The balance is 2000 won.\n",
      "2000\n",
      "<bound method BankAccount.set_name of <__main__.BankAccount object at 0x000001C08EF4A3C0>>\n"
     ]
    }
   ],
   "source": [
    "class BankAccount:\n",
    "    \"\"\"A class example in Python that models a bank account\"\"\"\n",
    "\n",
    "    def __init__(self, name, account_num, balance=0):\n",
    "        self.name = name\n",
    "        self.account_num = account_num\n",
    "        self.balance = balance\n",
    "\n",
    "    def get_name(self):\n",
    "        return self.name\n",
    "\n",
    "    def get_account_num(self):\n",
    "        return self.account_num\n",
    "\n",
    "    def get_balance(self):\n",
    "        return self.balance\n",
    "\n",
    "    def deposit(self, amount):\n",
    "        self.balance += amount\n",
    "        print(f'{amount} won has been deposited. The balance is {self.balance} won.')\n",
    "        return self.balance\n",
    "    \n",
    "    def set_name(self,nombre):\n",
    "        self.name = nombre\n",
    "\n",
    "\n",
    "account1 = BankAccount(\"Alejandro\",12345)\n",
    "print(account1.get_name())\n",
    "print(account1.get_account_num())\n",
    "account1.set_name(\"David\")  # cambiamos el nombre\n",
    "print(account1.get_name())  # \"David\"\n",
    "print(account1.get_balance())\n",
    "account1.deposit(2000) \n",
    "print(account1.get_balance())\n",
    "print(account1.set_name)\n"
   ]
  },
  {
   "cell_type": "code",
   "execution_count": null,
   "id": "b5940c2a",
   "metadata": {},
   "outputs": [
    {
     "name": "stdout",
     "output_type": "stream",
     "text": [
      "alejandro\n",
      "50.24\n"
     ]
    }
   ],
   "source": [
    "class circle:\n",
    "    def __init__(self, name , radius, pi):\n",
    "        self.name = name\n",
    "        self.radius = radius\n",
    "        self.pi = pi\n",
    "\n",
    "    def area(self):\n",
    "        return self.pi * self.radius **2\n",
    "    \n",
    "datos = circle(\"alejandro\",4,3.14)\n",
    "area = datos.area\n",
    "\n",
    "nombre = datos.name\n",
    "print(nombre)\n",
    "print(area())\n"
   ]
  },
  {
   "cell_type": "code",
   "execution_count": 19,
   "id": "6a62b473",
   "metadata": {},
   "outputs": [
    {
     "name": "stdout",
     "output_type": "stream",
     "text": [
      "a.PI = 3.14\n",
      "b.PI = 3.14\n"
     ]
    }
   ],
   "source": [
    "class A :\n",
    "    PI = 3.14 \n",
    "class B(A):\n",
    "    pass\n",
    "\n",
    "a=A() # Generates instance a of class A 3\n",
    "b =B() # Generates instance a of class B\n",
    "print('a.PI =', a.PI)\n",
    "print('b.PI =', b.PI) # b can access the attributes of the parent class"
   ]
  },
  {
   "cell_type": "code",
   "execution_count": null,
   "id": "32ebe377",
   "metadata": {},
   "outputs": [
    {
     "name": "stdout",
     "output_type": "stream",
     "text": [
      "30,10 \n",
      "10,20 \n",
      "70\n",
      "10\n"
     ]
    }
   ],
   "source": [
    "class vector:\n",
    "    def __init__(self,x,y):\n",
    "        self.x = x\n",
    "        self.y = y\n",
    "\n",
    "    def __str__(self):\n",
    "        return (f\"{self.x},{self.y} \")\n",
    "    def add(self,other):\n",
    "        return self.x + other.x +self.y + other.y\n",
    "\n",
    "    def __sub__(self,other):\n",
    "        return self.x - other.x +self.y - other.y\n",
    "    \n",
    "v1 = vector(30,10)\n",
    "print(v1)\n",
    "v2 = vector(10,20)\n",
    "print(v2)\n",
    "v3 = v1.add(v2)\n",
    "print(v3)\n",
    "v3 = v1 - v2 #marcar - \n",
    "print(v3)\n",
    "\n",
    "        "
   ]
  }
 ],
 "metadata": {
  "kernelspec": {
   "display_name": "Python 3",
   "language": "python",
   "name": "python3"
  },
  "language_info": {
   "codemirror_mode": {
    "name": "ipython",
    "version": 3
   },
   "file_extension": ".py",
   "mimetype": "text/x-python",
   "name": "python",
   "nbconvert_exporter": "python",
   "pygments_lexer": "ipython3",
   "version": "3.13.7"
  }
 },
 "nbformat": 4,
 "nbformat_minor": 5
}
