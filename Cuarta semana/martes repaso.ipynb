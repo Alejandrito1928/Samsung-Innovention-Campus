{
 "cells": [
  {
   "cell_type": "code",
   "execution_count": 12,
   "id": "8f0703ff",
   "metadata": {},
   "outputs": [
    {
     "name": "stdout",
     "output_type": "stream",
     "text": [
      "(4, 3)\n"
     ]
    }
   ],
   "source": [
    "def encontrar_max_min(numeros):\n",
    "    indice_max = 0\n",
    "    indice_min = 0\n",
    "    for i in range(len(numeros)):\n",
    "        if numeros[i] > numeros[indice_max]:\n",
    "            indice_max = i\n",
    "        if numeros[i] < numeros[indice_min]:\n",
    "            indice_min = i\n",
    "    return indice_max, indice_min\n",
    "\n",
    "# Prueba con:\n",
    "numeros = [5, 2, 8, 1, 9, 3]\n",
    "resultado = encontrar_max_min(numeros)\n",
    "print(resultado)  # Resultado esperado: (4, 3)\n"
   ]
  },
  {
   "cell_type": "code",
   "execution_count": 14,
   "id": "dd8d7f7d",
   "metadata": {},
   "outputs": [
    {
     "name": "stdout",
     "output_type": "stream",
     "text": [
      "5\n"
     ]
    }
   ],
   "source": [
    "def buscar_numero(lista, objetivo):\n",
    "    inicio = 0\n",
    "    final = len(lista) -1\n",
    "\n",
    "    while inicio <= final:\n",
    "        mitad = (inicio + final)//2\n",
    "        if objetivo == lista[mitad]:\n",
    "            return mitad\n",
    "        \n",
    "        elif lista[mitad] < objetivo:\n",
    "            inicio = mitad + 1\n",
    "\n",
    "        else:\n",
    "            final = mitad - 1\n",
    "        \n",
    "    return -1\n",
    "\n",
    "# Prueba con:\n",
    "lista = [1, 3, 5, 7, 9, 11]\n",
    "resultado = buscar_numero(lista, 11)\n",
    "print(resultado)  # Resultado esperado: 3\n"
   ]
  },
  {
   "cell_type": "code",
   "execution_count": 20,
   "id": "150f4319",
   "metadata": {},
   "outputs": [
    {
     "name": "stdout",
     "output_type": "stream",
     "text": [
      "2\n"
     ]
    }
   ],
   "source": [
    "def contar_letra(frase, letra):\n",
    "    contar = 0\n",
    "    for i in range(len(frase)):\n",
    "        if letra.lower() == frase[i].lower():\n",
    "            contar +=1\n",
    "    return contar \n",
    "\n",
    "# Prueba con:\n",
    "frase = \"Hola Mundo\"\n",
    "resultado = contar_letra(frase, \"o\")\n",
    "print(resultado)  # Resultado esperado: 2\n"
   ]
  },
  {
   "cell_type": "code",
   "execution_count": 22,
   "id": "3aed42d6",
   "metadata": {},
   "outputs": [
    {
     "name": "stdout",
     "output_type": "stream",
     "text": [
      "MCMXCIV\n"
     ]
    }
   ],
   "source": [
    "\n",
    "\n",
    "def numero_a_romano(num):\n",
    "    \n",
    "    table = {'I':1, 'V':5, 'X':10, 'L':50, 'C':100, 'D':500, 'M':1000}\n",
    "    unidades = num % 10\n",
    "    decenas = (num // 10) % 10\n",
    "    centenas = (num // 100) % 10\n",
    "    millares = (numero // 1000) % 10\n",
    "    resultado = \"\"\n",
    "    if millares > 0:\n",
    "        resultado += \"M\" * millares\n",
    "    if centenas > 0:\n",
    "        if centenas == 9:\n",
    "            resultado += \"CM\"\n",
    "        elif centenas >= 5:\n",
    "            resultado += \"D\" + \"C\" * (centenas - 5)\n",
    "        elif centenas == 4:\n",
    "            resultado += \"CD\"\n",
    "        else:\n",
    "            resultado += \"C\" * centenas\n",
    "    if decenas > 0:\n",
    "        if decenas == 9:\n",
    "            resultado += \"XC\"\n",
    "        elif decenas >= 5:\n",
    "            resultado += \"L\" + \"X\" * (decenas - 5)\n",
    "        elif decenas == 4:\n",
    "            resultado += \"XL\"\n",
    "        else:\n",
    "            resultado += \"X\" * decenas\n",
    "    if unidades > 0:\n",
    "        if unidades == 9:\n",
    "            resultado += \"IX\"\n",
    "        elif unidades >= 5:\n",
    "            resultado += \"V\" + \"I\" * (unidades - 5)\n",
    "        elif unidades == 4:\n",
    "            resultado += \"IV\"\n",
    "        else:\n",
    "            resultado += \"I\" * unidades\n",
    "    return resultado\n",
    "\n",
    "\n",
    "\n",
    "\n",
    "numero = 1994\n",
    "resultado = numero_a_romano(numero)\n",
    "print(resultado)  # Resultado esperado: \"MCMXCIV\"\n"
   ]
  },
  {
   "cell_type": "markdown",
   "id": "964beb2a",
   "metadata": {},
   "source": [
    "simplifciado por AI"
   ]
  },
  {
   "cell_type": "code",
   "execution_count": 23,
   "id": "1f67c177",
   "metadata": {},
   "outputs": [
    {
     "name": "stdout",
     "output_type": "stream",
     "text": [
      "MCMXCIV\n"
     ]
    }
   ],
   "source": [
    "def numero_a_romano(num):\n",
    "    romanos_unidades = [\"\", \"I\", \"II\", \"III\", \"IV\", \"V\", \"VI\", \"VII\", \"VIII\", \"IX\"]\n",
    "    romanos_decenas  = [\"\", \"X\", \"XX\", \"XXX\", \"XL\", \"L\", \"LX\", \"LXX\", \"LXXX\", \"XC\"]\n",
    "    romanos_centenas = [\"\", \"C\", \"CC\", \"CCC\", \"CD\", \"D\", \"DC\", \"DCC\", \"DCCC\", \"CM\"]\n",
    "    romanos_millares = [\"\", \"M\", \"MM\", \"MMM\"]\n",
    "\n",
    "    resultado = (romanos_millares[num//1000] +\n",
    "                 romanos_centenas[(num//100)%10] +\n",
    "                 romanos_decenas[(num//10)%10] +\n",
    "                 romanos_unidades[num%10])\n",
    "    return resultado\n",
    "\n",
    "# Ejemplo de uso:\n",
    "numero = 1994\n",
    "resultado = numero_a_romano(numero)\n",
    "print(resultado)  # Resultado esperado: \"MCMXCIV\"\n"
   ]
  },
  {
   "cell_type": "code",
   "execution_count": null,
   "id": "ab21c69e",
   "metadata": {},
   "outputs": [
    {
     "name": "stdout",
     "output_type": "stream",
     "text": [
      "6\n"
     ]
    }
   ],
   "source": [
    "def adivinar_numero(maximo, numero_secreto):\n",
    "    inicio = 1\n",
    "    intentos = 0\n",
    "    while inicio <= maximo:\n",
    "        mitad = (inicio + maximo) //2\n",
    "        if mitad  == numero_secreto:\n",
    "            return intentos\n",
    "        elif numero_secreto < mitad:\n",
    "            intentos +=1\n",
    "            maximo = mitad -1\n",
    "        else:\n",
    "            intentos += 1\n",
    "            inicio = mitad + 1\n",
    "        \n",
    "    return intentos\n",
    "\n",
    "# Prueba con:\n",
    "maximo = 100\n",
    "numero_secreto = 42\n",
    "intentos = adivinar_numero(maximo, numero_secreto)\n",
    "print(intentos)  # El resultado debería ser 7 o menos\n"
   ]
  },
  {
   "cell_type": "markdown",
   "id": "4b6998c1",
   "metadata": {},
   "source": [
    "O(log 2n)"
   ]
  }
 ],
 "metadata": {
  "kernelspec": {
   "display_name": "Python 3",
   "language": "python",
   "name": "python3"
  },
  "language_info": {
   "codemirror_mode": {
    "name": "ipython",
    "version": 3
   },
   "file_extension": ".py",
   "mimetype": "text/x-python",
   "name": "python",
   "nbconvert_exporter": "python",
   "pygments_lexer": "ipython3",
   "version": "3.13.7"
  }
 },
 "nbformat": 4,
 "nbformat_minor": 5
}
