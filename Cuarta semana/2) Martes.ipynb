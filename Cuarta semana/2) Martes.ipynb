{
 "cells": [
  {
   "cell_type": "code",
   "execution_count": null,
   "id": "0650361a",
   "metadata": {},
   "outputs": [
    {
     "name": "stdout",
     "output_type": "stream",
     "text": [
      "Your egg will safe till the 5-th floor.\n"
     ]
    }
   ],
   "source": [
    "from random import randint\n",
    "def do_experiment(floor, breaking):\n",
    "    return floor >= breaking\n",
    "\n",
    "def find_highest_safe_floor(height, breaking):\n",
    "    for n in range(1, height + 1):\n",
    "        if do_experiment(n, breaking):\n",
    "            return n - 1\n",
    "    return height\n",
    "\n",
    "height = 10\n",
    "breaking = randint(1, height)\n",
    "floor = find_highest_safe_floor(height, breaking)\n",
    "print(f\"El huevo esta a salvo en el piso numero {floor}-th.\")"
   ]
  },
  {
   "cell_type": "code",
   "execution_count": 7,
   "id": "d8c45ef0",
   "metadata": {},
   "outputs": [
    {
     "name": "stdout",
     "output_type": "stream",
     "text": [
      "11 < 37\n",
      "1 =<= 1\n",
      "37 < 45\n",
      "2 =<= 2\n",
      "45 < 59\n",
      "4 =<= 4\n",
      "59 11\n"
     ]
    }
   ],
   "source": [
    "def find_two(nums):\n",
    "    x = y = 0\n",
    "    for i in range(1, len(nums)):\n",
    "        if nums[x] < nums[i]:\n",
    "            print(nums[x],\"<\",nums[i])\n",
    "            x = i\n",
    "            print(x,\"=<=\",i)\n",
    "        elif nums[y] > nums[i]:\n",
    "            print(nums[y],\">\",nums[i])\n",
    "            y = i\n",
    "            print(y,\"=>=\",i)\n",
    "    return x, y\n",
    "\n",
    "nums = [11, 37, 45, 26, 59, 28, 17, 53]\n",
    "i, j = find_two(nums)\n",
    "print(nums[i], nums[j])"
   ]
  },
  {
   "cell_type": "code",
   "execution_count": 14,
   "id": "39dfc625",
   "metadata": {},
   "outputs": [
    {
     "name": "stdout",
     "output_type": "stream",
     "text": [
      "In S, 'Hello' appeared 1 times.\n"
     ]
    }
   ],
   "source": [
    "#spli divide la cadena en palabras \n",
    "#lower ignora mayucsulas y minusculas\n",
    "\n",
    "def word_count(S, x):\n",
    "    suma = 0\n",
    "    x = x.lower()\n",
    "    for i in S:\n",
    "        if i.lower() == x.lower():\n",
    "            suma += 1\n",
    "    return suma\n",
    "\n",
    "#S = list(input(\"Input a sentence: \").split()) \n",
    "S = \"hello world amigo\".split()\n",
    "#x = input(\"Input a word to search: \") \n",
    "x = \"Hello\" \n",
    "count = word_count(S, x)\n",
    "\n",
    "print(f\"In S, '{x}' appeared {count} times.\")\n"
   ]
  },
  {
   "cell_type": "code",
   "execution_count": null,
   "id": "d197a4d0",
   "metadata": {},
   "outputs": [
    {
     "name": "stdout",
     "output_type": "stream",
     "text": [
      "Your number is 65.\n",
      "Total 5 times are searched.\n"
     ]
    }
   ],
   "source": [
    "from random import randint\n",
    "\n",
    "#maximum = int(input(\"Enter the number of maximum: \"))\n",
    "maximum = 100\n",
    "#number = int(input(\"Enter your guessing number: \"))\n",
    "number = 65\n",
    "count = 0\n",
    "low, high = 1, maximum\n",
    "\n",
    "while low <= high:\n",
    "    mid = (low + high) // 2\n",
    "    count += 1\n",
    "    if mid == number:\n",
    "        print(f\"Your number is {number}.\")\n",
    "        break\n",
    "    elif mid > number:\n",
    "        high = mid - 1\n",
    "    else:\n",
    "        low = mid + 1\n",
    "\n",
    "print(f\"El total de veces contado: {count}.\")\n"
   ]
  },
  {
   "cell_type": "code",
   "execution_count": null,
   "id": "554a91cd",
   "metadata": {},
   "outputs": [
    {
     "name": "stdout",
     "output_type": "stream",
     "text": [
      "48 should be inserted at position 2.\n",
      "[16, 20, 48, 48, 50, 60, 80]\n"
     ]
    }
   ],
   "source": [
    "def search_insert_position(numbers, x):\n",
    "    bajo, alto = 0, len(numbers)-1\n",
    "    while bajo <= alto:\n",
    "        mid = ((bajo + alto)//2)\n",
    "        if numbers[mid] > x:\n",
    "            alto = mid -1 \n",
    "        elif numbers[mid] == x:\n",
    "            return mid\n",
    "        else:\n",
    "            bajo = mid + 1\n",
    "    return bajo\n",
    "\n",
    "nums = [16, 20, 48, 50, 60, 80]\n",
    "x = 48\n",
    "#x = int(input(\"Input a number to insert: \"))\n",
    "\n",
    "pos = search_insert_position(nums, x)\n",
    "print(f\"{x} esta en la poscicion: {pos}.\")\n",
    "nums.insert(pos, x)\n",
    "print(nums)\n"
   ]
  },
  {
   "cell_type": "code",
   "execution_count": 32,
   "id": "feff81b5",
   "metadata": {},
   "outputs": [
    {
     "name": "stdout",
     "output_type": "stream",
     "text": [
      "2666\n"
     ]
    }
   ],
   "source": [
    "# Tabla hash simple (no necesaria para romanos, pero incluida por tu ejemplo)\n",
    "class HashTable:\n",
    "    def __init__(self, size):\n",
    "        self.size = size\n",
    "        self.table = {}\n",
    "        for i in range(size):\n",
    "            self.table[i] = []\n",
    "    def hash(self, key):\n",
    "        return key % self.size\n",
    "    def get(self, key):\n",
    "        return self.table[self.hash(key)]\n",
    "    def put(self, key, value):\n",
    "        bucket = self.table[self.hash(key)]\n",
    "        if value not in bucket:\n",
    "            bucket.append(value)\n",
    "\n",
    "# Diccionario para números romanos\n",
    "table = {'I':1, 'V':5, 'X':10, 'L':50, 'C':100, 'D':500, 'M':1000}\n",
    "\n",
    "def roman_to_int(s):\n",
    "    result = 0\n",
    "    for i in range(len(s) - 1):\n",
    "        if table[s[i]] < table[s[i + 1]]:\n",
    "            result -= table[s[i]]\n",
    "        else:\n",
    "            result += table[s[i]]\n",
    "    return result + table[s[-1]]\n",
    "\n",
    "# Ejemplo de uso\n",
    "Numero_romano = \"MMDCLXVI\"\n",
    "numero = roman_to_int(Numero_romano)\n",
    "print(numero)\n"
   ]
  },
  {
   "cell_type": "markdown",
   "id": "bc8d8c49",
   "metadata": {},
   "source": [
    "#hash table implementarlo con  %  implementarlo y entenderlo bien \n"
   ]
  },
  {
   "cell_type": "markdown",
   "id": "de4e01df",
   "metadata": {},
   "source": [
    "#de numero a ROMANO"
   ]
  }
 ],
 "metadata": {
  "kernelspec": {
   "display_name": "Python 3",
   "language": "python",
   "name": "python3"
  },
  "language_info": {
   "codemirror_mode": {
    "name": "ipython",
    "version": 3
   },
   "file_extension": ".py",
   "mimetype": "text/x-python",
   "name": "python",
   "nbconvert_exporter": "python",
   "pygments_lexer": "ipython3",
   "version": "3.13.7"
  }
 },
 "nbformat": 4,
 "nbformat_minor": 5
}
