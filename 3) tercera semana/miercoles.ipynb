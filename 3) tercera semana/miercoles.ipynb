{
 "cells": [
  {
   "cell_type": "code",
   "execution_count": 1,
   "id": "b2ca9c22",
   "metadata": {},
   "outputs": [
    {
     "data": {
      "text/plain": [
       "11"
      ]
     },
     "execution_count": 1,
     "metadata": {},
     "output_type": "execute_result"
    }
   ],
   "source": [
    "#funcion lambda\n",
    "def suma(x,y):\n",
    "    return x + y\n",
    "\n",
    "suma(5,6)"
   ]
  },
  {
   "cell_type": "code",
   "execution_count": 3,
   "id": "2a16e550",
   "metadata": {},
   "outputs": [
    {
     "name": "stdout",
     "output_type": "stream",
     "text": [
      "[1, 4, 9, 16, 25, 36]\n"
     ]
    }
   ],
   "source": [
    "a = [1,2,3,4,5,6]\n",
    "\n",
    "b = list(map(lambda x: x**2, a))\n",
    "print(b)"
   ]
  },
  {
   "cell_type": "code",
   "execution_count": 6,
   "id": "fd8b19b7",
   "metadata": {},
   "outputs": [
    {
     "name": "stdout",
     "output_type": "stream",
     "text": [
      "[2, 4, 6, 8, 10]\n"
     ]
    }
   ],
   "source": [
    "#no siempre es mejor lambda \n",
    "numeros = [1,2,3,4,5]\n",
    "reselto = [x*2 for x in numeros]  # más legible que map(lambda...)\n",
    "print(reselto)"
   ]
  },
  {
   "cell_type": "code",
   "execution_count": null,
   "id": "16147aa8",
   "metadata": {},
   "outputs": [
    {
     "name": "stdout",
     "output_type": "stream",
     "text": [
      "[False, True, True, True, False]\n"
     ]
    }
   ],
   "source": [
    "def adult_filter(x):\n",
    "    #probar algo mas sencillo\n",
    "    return x >= 19\n",
    "\n",
    "    #codigo mas largo pero igual funciona\n",
    "    \"\"\"\n",
    "    if x >= 19:\n",
    "        return True\n",
    "    else:\n",
    "        return False\n",
    "    \"\"\"\n",
    "ages = [15, 19, 20, 25, 5]\n",
    "\n",
    "result = map(adult_filter, ages)\n",
    "print(list(result))  \n",
    "\n"
   ]
  },
  {
   "cell_type": "code",
   "execution_count": null,
   "id": "e78c7b97",
   "metadata": {},
   "outputs": [
    {
     "data": {
      "text/plain": [
       "[19, 20, 25]"
      ]
     },
     "execution_count": 7,
     "metadata": {},
     "output_type": "execute_result"
    }
   ],
   "source": [
    "#o probamos con lambda mas rapido y mejor optimizado\n",
    "\n",
    "ages = [15,19,20,25,5]\n",
    "list(filter(lambda n : n>= 19, ages))"
   ]
  },
  {
   "cell_type": "code",
   "execution_count": null,
   "id": "8106f65c",
   "metadata": {},
   "outputs": [
    {
     "name": "stdout",
     "output_type": "stream",
     "text": [
      "[0, 1, 2, 25]\n"
     ]
    }
   ],
   "source": [
    "import string\n",
    "#el ascii no tiene ñ por eso solo se usa solo hasta el 25\n",
    "abc = string.ascii_uppercase\n",
    "\n",
    "numeros = [0,1,2,40,-5,25,26]\n",
    "\n",
    "\n",
    "validos = filter(lambda x: x>=0 and x<= 25,numeros)\n",
    "#poner siempre list para imprimir la lista y no otra cosa\n",
    "print(list(validos))\n"
   ]
  },
  {
   "cell_type": "code",
   "execution_count": 14,
   "id": "e0769704",
   "metadata": {},
   "outputs": [
    {
     "data": {
      "text/plain": [
       "<map at 0x13e7c8dc970>"
      ]
     },
     "execution_count": 14,
     "metadata": {},
     "output_type": "execute_result"
    }
   ],
   "source": [
    "#lambda dentro de lambda\n",
    "map(lambda x: abc[x],filter(lambda x: x>=0 and x<= 25,numeros))\n"
   ]
  },
  {
   "cell_type": "code",
   "execution_count": 15,
   "id": "9ab19a3a",
   "metadata": {},
   "outputs": [
    {
     "name": "stdout",
     "output_type": "stream",
     "text": [
      "['a', 'b', 'f', 'k', 'z']\n"
     ]
    }
   ],
   "source": [
    "import string\n",
    "\n",
    "# Lista de letras del abecedario (a-z)\n",
    "abc = list(string.ascii_lowercase)  \n",
    "\n",
    "# Lista de números cualquiera\n",
    "numeros = [-3, 0, 1, 5, 10, 25, 30]\n",
    "\n",
    "# Primero filtra los números válidos (0–25), luego los convierte en letras\n",
    "resultado = map(lambda x: abc[x], filter(lambda x: x >= 0 and x <= 25, numeros))\n",
    "\n",
    "print(list(resultado))"
   ]
  },
  {
   "cell_type": "code",
   "execution_count": null,
   "id": "7a8afee6",
   "metadata": {},
   "outputs": [],
   "source": [
    "#iterar los filters\n",
    "#filter, map, reduce\n",
    "#el reduce no es de python hay que importarlo y no es nativa\n",
    "#from functools import reduce\n",
    "#en big data se usa mucho\n",
    "#data france(resumir una tabla a un valor)"
   ]
  },
  {
   "cell_type": "code",
   "execution_count": null,
   "id": "1b5b1641",
   "metadata": {},
   "outputs": [
    {
     "data": {
      "text/plain": [
       "[2, 4, 6]"
      ]
     },
     "execution_count": 17,
     "metadata": {},
     "output_type": "execute_result"
    }
   ],
   "source": [
    "\n",
    "#list(filter(lambda n : n>= 19, ages))\n",
    "\n",
    "def pares(x):\n",
    "    return x % 2 == 0\n",
    "#aca me di cuenta que no era necesario usar una funcion por que no llamo a \n",
    "#la funcion en ningun mmomento\n",
    "num_list = [1,2,3,4,5,6,7]\n",
    "\n",
    "list(filter(lambda x: x %2 == 0,num_list))"
   ]
  },
  {
   "cell_type": "code",
   "execution_count": null,
   "id": "214703c6",
   "metadata": {},
   "outputs": [],
   "source": [
    "#version del profesor\n",
    "num_list = [1, 2, 3, 4, 5, 6, 7]\n",
    "\n",
    "resultado = list(filter(lambda x: x % 2 == 0, num_list))\n",
    "print(resultado)  \n"
   ]
  },
  {
   "cell_type": "code",
   "execution_count": null,
   "id": "d238ac29",
   "metadata": {},
   "outputs": [],
   "source": [
    "#version con la funcion que implemente mas arriba\n",
    "def pares(x):\n",
    "    return x % 2 == 0\n",
    "\n",
    "print(list(filter(pares, num_list)))  # [2, 4, 6]\n"
   ]
  },
  {
   "cell_type": "code",
   "execution_count": 7,
   "id": "4ea848d7",
   "metadata": {},
   "outputs": [
    {
     "name": "stdout",
     "output_type": "stream",
     "text": [
      "['A', 'B', 'C', 'D', 'E']\n",
      "['F', 'G', 'H', 'I', 'J']\n"
     ]
    }
   ],
   "source": [
    "import string\n",
    "lista = [\"a\",\"b\",\"c\",\"d\",\"e\"]\n",
    "lista2 = [\"f\",\"g\",\"h\",\"i\",\"j\"]\n",
    "\n",
    "print(list(map(str.upper, lista)))\n",
    "print(list(map(lambda x: x.upper(), lista2)))"
   ]
  },
  {
   "cell_type": "code",
   "execution_count": null,
   "id": "1571ff9b",
   "metadata": {},
   "outputs": [],
   "source": [
    "#map \n",
    "#filter\n",
    "#reduce\n",
    "#examen viernes\n"
   ]
  },
  {
   "cell_type": "code",
   "execution_count": null,
   "id": "94c42d00",
   "metadata": {},
   "outputs": [
    {
     "name": "stdout",
     "output_type": "stream",
     "text": [
      "no se puede dividir por 0\n"
     ]
    }
   ],
   "source": [
    "#try \n",
    "#ejecutar codigo \n",
    "#excep:\n",
    "#is da error ejecuta esto\n",
    "\n",
    "a = 7\n",
    "b = 0\n",
    "\n",
    "try:\n",
    "    result = a/b\n",
    "    print(\"el resultado es {}\".format(result))\n",
    "except:\n",
    "    print(\"no se puede dividir por 0\")\n",
    "\n",
    "#se puede usar un esle solo y cuando no da error\n",
    "else:   \n",
    "    print(\"no ha dado error\")\n",
    "\n",
    "#finally siempre se ejcuta de error o no de error\n",
    "finally:\n",
    "    print(\"error o no aparezco siempre\")\n",
    "\n",
    "#cuando es util finally cuando uso un fichero y da muchos errores y \n",
    "#si surge un error el finally se ejecuta y no se puede usar fichero abiertos\n",
    "#esto no entrada en el examen\n"
   ]
  },
  {
   "cell_type": "code",
   "execution_count": 23,
   "id": "77517183",
   "metadata": {},
   "outputs": [
    {
     "name": "stdout",
     "output_type": "stream",
     "text": [
      "Error: No se puede dividir entre cero.\n"
     ]
    }
   ],
   "source": [
    "#execpt especifico \n",
    "try:\n",
    "    x = 0\n",
    "    resultado = 10 / x\n",
    "except ValueError:\n",
    "    print(\"Error: Debes ingresar un número válido.\")\n",
    "except ZeroDivisionError:\n",
    "    print(\"Error: No se puede dividir entre cero.\")\n"
   ]
  },
  {
   "cell_type": "code",
   "execution_count": null,
   "id": "b0f71f00",
   "metadata": {},
   "outputs": [
    {
     "name": "stdout",
     "output_type": "stream",
     "text": [
      "10\n",
      "20\n",
      "30\n",
      "No hay más elementos.\n"
     ]
    }
   ],
   "source": [
    "#iteractor object \n",
    "# Lista es un iterable\n",
    "lista = [10, 20, 30]\n",
    "\n",
    "# Obtener un iterador de la lista\n",
    "iterador = iter(lista)\n",
    "\n",
    "print(next(iterador))  # 10\n",
    "print(next(iterador))  # 20\n",
    "print(next(iterador))  # 30\n",
    "\n",
    "# Si llamamos next otra vez, lanza StopIteration\n",
    "try:\n",
    "    print(next(iterador))\n",
    "except StopIteration:\n",
    "    print(\"No hay más elementos.\")\n"
   ]
  },
  {
   "cell_type": "code",
   "execution_count": null,
   "id": "40b848ee",
   "metadata": {},
   "outputs": [
    {
     "name": "stdout",
     "output_type": "stream",
     "text": [
      "0 1 4 9 16 "
     ]
    }
   ],
   "source": [
    "#evaluacion peresoza \n",
    "numeros = (x**2 for x in range(5))  \n",
    " \n",
    "for n in numeros:\n",
    "    print(n,end=\" \")\n"
   ]
  },
  {
   "cell_type": "code",
   "execution_count": 9,
   "id": "0d5597bd",
   "metadata": {},
   "outputs": [
    {
     "data": {
      "text/plain": [
       "[1, 0, 1, 4, 9, 16, 25, 36, 49, 64, 81]"
      ]
     },
     "execution_count": 9,
     "metadata": {},
     "output_type": "execute_result"
    }
   ],
   "source": [
    "lista = range(-1,10)\n",
    "#peresoza \n",
    "list(map(lambda x : x**2, lista))\n",
    "#si uso lista[0] me da error\n"
   ]
  },
  {
   "cell_type": "code",
   "execution_count": null,
   "id": "0ff2a61f",
   "metadata": {},
   "outputs": [],
   "source": [
    "#comparison of list comprehension and lambda expression \n",
    "# List comprehension\n",
    "pares = [x for x in numeros if x % 2 == 0]\n",
    "# Lambda + filter\n",
    "pares = list(filter(lambda x: x % 2 == 0, numeros))"
   ]
  },
  {
   "cell_type": "code",
   "execution_count": null,
   "id": "70dd1e59",
   "metadata": {},
   "outputs": [],
   "source": [
    "#Lambda Expression\n",
    "cuadrados = list(map(lambda x: x**2, numeros))\n",
    "print(cuadrados)  # Salida: [1, 4, 9, 16, 25]\n"
   ]
  },
  {
   "cell_type": "markdown",
   "id": "c200ad17",
   "metadata": {},
   "source": [
    "¿Cuál usar y cuándo?\n",
    "List comprehension es preferible cuando quieres crear o filtrar listas de forma clara y directa.\n",
    "Lambda es útil cuando necesitas pasar una función rápida y pequeña como argumento a otra función (map, filter, reduce).\n",
    "En muchos casos, list comprehension es más legible y pythonica.\n"
   ]
  },
  {
   "cell_type": "code",
   "execution_count": null,
   "id": "d6d035ad",
   "metadata": {},
   "outputs": [],
   "source": [
    "from functools import reduce\n",
    "\n",
    "# Lista de ejemplo\n",
    "numeros = [1, 2, 3, 4, 5]\n",
    "palabras = [\"Hola\", \"mundo\", \"desde\", \"reduce\"]\n",
    "listas = [[1, 2], [3, 4], [5]]\n",
    "diccionarios = [{\"a\": 1}, {\"b\": 2}, {\"c\": 3}]\n",
    "\n",
    "# 1. Sumar todos los elementos\n",
    "suma = reduce(lambda a, b: a + b, numeros)\n",
    "print(\"Suma:\", suma)  # Salida: 15\n",
    "\n",
    "# 2. Multiplicar todos los elementos (producto)\n",
    "producto = reduce(lambda a, b: a * b, numeros)\n",
    "print(\"Producto:\", producto)  # Salida: 120\n",
    "\n",
    "# 3. Encontrar el máximo\n",
    "maximo = reduce(lambda a, b: a if a > b else b, numeros)\n",
    "print(\"Máximo:\", maximo)  # Salida: 5\n",
    "\n",
    "# 4. Encontrar el mínimo\n",
    "minimo = reduce(lambda a, b: a if a < b else b, numeros)\n",
    "print(\"Mínimo:\", minimo)  # Salida: 1\n",
    "\n",
    "# 5. Concatenar cadenas de texto\n",
    "frase = reduce(lambda a, b: a + \" \" + b, palabras)\n",
    "print(\"Frase concatenada:\", frase)  # Salida: \"Hola mundo desde reduce\"\n",
    "\n",
    "# 6. Combinar listas (unir listas en una sola)\n",
    "lista_unida = reduce(lambda a, b: a + b, listas)\n",
    "print(\"Lista unida:\", lista_unida)  # Salida: [1, 2, 3, 4, 5]\n",
    "\n",
    "# 7. Combinar diccionarios (unir diccionarios en uno solo)\n",
    "diccionario_unido = reduce(lambda a, b: {**a, **b}, diccionarios)\n",
    "print(\"Diccionario unido:\", diccionario_unido)  # Salida: {'a': 1, 'b': 2, 'c': 3}\n",
    "\n",
    "# 8. Calcular acumulados personalizados\n",
    "# Ejemplo: concatenar números como strings separados por coma\n",
    "acumulado = reduce(lambda a, b: f\"{a},{b}\", map(str, numeros))\n",
    "print(\"Acumulado personalizado:\", acumulado)  # Salida: \"1,2,3,4,5\"\n"
   ]
  },
  {
   "cell_type": "code",
   "execution_count": 19,
   "id": "02627140",
   "metadata": {},
   "outputs": [
    {
     "name": "stdout",
     "output_type": "stream",
     "text": [
      "<map object at 0x000001A45A225180>\n"
     ]
    },
    {
     "data": {
      "text/plain": [
       "2.7180555555555554"
      ]
     },
     "execution_count": 19,
     "metadata": {},
     "output_type": "execute_result"
    }
   ],
   "source": [
    "#closure\n",
    "#con aprocimacion numero e\n",
    "#con mad y reduce \n",
    "from math import factorial\n",
    "from functools import reduce\n",
    "\n",
    "#l = range(1,7)\n",
    "\n",
    "lista = map(lambda x: 1/factorial(x),range(7))\n",
    "suma = reduce(lambda x, y: x+y, lista )\n",
    "print(lista)\n",
    "#otro metodo\n",
    "reduce(lambda x, y: x+y, map(lambda x: 1/factorial(x),range(7)) )\n"
   ]
  },
  {
   "cell_type": "code",
   "execution_count": null,
   "id": "ecd88c84",
   "metadata": {},
   "outputs": [],
   "source": []
  }
 ],
 "metadata": {
  "kernelspec": {
   "display_name": "Python 3",
   "language": "python",
   "name": "python3"
  },
  "language_info": {
   "codemirror_mode": {
    "name": "ipython",
    "version": 3
   },
   "file_extension": ".py",
   "mimetype": "text/x-python",
   "name": "python",
   "nbconvert_exporter": "python",
   "pygments_lexer": "ipython3",
   "version": "3.13.7"
  }
 },
 "nbformat": 4,
 "nbformat_minor": 5
}
