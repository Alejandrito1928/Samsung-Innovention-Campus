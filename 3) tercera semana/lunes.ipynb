{
 "cells": [
  {
   "cell_type": "code",
   "execution_count": null,
   "id": "53ea7194",
   "metadata": {},
   "outputs": [
    {
     "data": {
      "text/plain": [
       "'abcdefghijklmnopqrstuvwxyz'"
      ]
     },
     "execution_count": 1,
     "metadata": {},
     "output_type": "execute_result"
    }
   ],
   "source": [
    "import string\n",
    "\n",
    "\n",
    "a_z = string.ascii_uppercase\n",
    "a_z\n"
   ]
  },
  {
   "cell_type": "code",
   "execution_count": null,
   "id": "3ef6d918",
   "metadata": {},
   "outputs": [],
   "source": [
    "#mover las dos ultimas letras al princpio\n",
    "#usar una clave para mover las letras\n",
    "key = 2\n",
    "frase = \"hola\".upper()\n",
    "abecedariao = string.ascii_uppercase\n",
    "rotado = abecedariao[-key:] + abecedariao[:-key]\n",
    "\n",
    "for i in frase:\n",
    "    if i in abecedariao:\n",
    "        indice = abecedariao.index(i)\n",
    "        print(rotado[indice], end=\"\")\n",
    "    else:\n",
    "        print(i, end=\"\")\n",
    "\n"
   ]
  },
  {
   "cell_type": "code",
   "execution_count": null,
   "id": "f11d5f0b",
   "metadata": {},
   "outputs": [
    {
     "name": "stdout",
     "output_type": "stream",
     "text": [
      "\n",
      "65\n",
      "A\n",
      "C\n",
      "ABCDEFGHIJKLMNOPQRSTUVWXYZ"
     ]
    }
   ],
   "source": [
    "#ord y chr\n",
    "#ord() -> convierte un caracter en su valor numerico\n",
    "#chr() -> convierte un valor numerico en su caracter\n",
    "print()\n",
    "print(ord(\"A\"))\n",
    "print(chr(65))\n",
    "#aritmetica modular \n",
    "print(chr((ord(\"A\") - chr(\"A\") + 2) % 26 + chr))\n",
    "#bucle ciclico\n",
    "for i in range(26):\n",
    "    print(chr((ord(\"A\") - 65 + i) % 26 + 65), end=\"\")"
   ]
  },
  {
   "cell_type": "code",
   "execution_count": 18,
   "id": "cf1081fc",
   "metadata": {},
   "outputs": [
    {
     "ename": "TypeError",
     "evalue": "'str' object is not callable",
     "output_type": "error",
     "traceback": [
      "\u001b[31m---------------------------------------------------------------------------\u001b[39m",
      "\u001b[31mTypeError\u001b[39m                                 Traceback (most recent call last)",
      "\u001b[36mCell\u001b[39m\u001b[36m \u001b[39m\u001b[32mIn[18]\u001b[39m\u001b[32m, line 21\u001b[39m\n\u001b[32m     19\u001b[39m key = \u001b[32m2\u001b[39m\n\u001b[32m     20\u001b[39m msg = \u001b[33m\"\u001b[39m\u001b[33mHola mundo\u001b[39m\u001b[33m\"\u001b[39m\n\u001b[32m---> \u001b[39m\u001b[32m21\u001b[39m cifrado = \u001b[43mcifrar_msg\u001b[49m\u001b[43m(\u001b[49m\u001b[43mmsg\u001b[49m\u001b[43m,\u001b[49m\u001b[43m-\u001b[49m\u001b[43mkey\u001b[49m\u001b[43m)\u001b[49m\n\u001b[32m     22\u001b[39m \u001b[38;5;28mprint\u001b[39m(cifrado)\n\u001b[32m     26\u001b[39m \u001b[38;5;66;03m#lenguaje emsamblador \u001b[39;00m\n",
      "\u001b[36mCell\u001b[39m\u001b[36m \u001b[39m\u001b[32mIn[18]\u001b[39m\u001b[32m, line 15\u001b[39m, in \u001b[36mcifrar_msg\u001b[39m\u001b[34m(msg, key)\u001b[39m\n\u001b[32m     13\u001b[39m result = \u001b[33m\"\u001b[39m\u001b[33m\"\u001b[39m\n\u001b[32m     14\u001b[39m \u001b[38;5;28;01mfor\u001b[39;00m letra \u001b[38;5;129;01min\u001b[39;00m msg:\n\u001b[32m---> \u001b[39m\u001b[32m15\u001b[39m     result += \u001b[43mcifrar_letra\u001b[49m\u001b[43m(\u001b[49m\u001b[43mletra\u001b[49m\u001b[43m,\u001b[49m\u001b[43mabecedariao\u001b[49m\u001b[43m,\u001b[49m\u001b[43mrotado\u001b[49m\u001b[43m)\u001b[49m\n\u001b[32m     17\u001b[39m \u001b[38;5;28;01mreturn\u001b[39;00m result\n",
      "\u001b[36mCell\u001b[39m\u001b[36m \u001b[39m\u001b[32mIn[18]\u001b[39m\u001b[32m, line 6\u001b[39m, in \u001b[36mcifrar_letra\u001b[39m\u001b[34m(letra, orig, encriptado)\u001b[39m\n\u001b[32m      4\u001b[39m \u001b[38;5;28;01mif\u001b[39;00m letra \u001b[38;5;129;01min\u001b[39;00m orig:\n\u001b[32m      5\u001b[39m     i = orig.index(letra)\n\u001b[32m----> \u001b[39m\u001b[32m6\u001b[39m     \u001b[38;5;28;01mreturn\u001b[39;00m \u001b[43mencriptado\u001b[49m\u001b[43m(\u001b[49m\u001b[43mi\u001b[49m\u001b[43m)\u001b[49m\n\u001b[32m      7\u001b[39m \u001b[38;5;28;01mreturn\u001b[39;00m letra\n",
      "\u001b[31mTypeError\u001b[39m: 'str' object is not callable"
     ]
    }
   ],
   "source": [
    "#crear una funcion y usar cifrar \n",
    "import string\n",
    "def cifrar_letra(letra, orig,encriptado):\n",
    "    if letra in orig:\n",
    "        i = orig.index(letra)\n",
    "        return encriptado(i)\n",
    "    return letra\n",
    "\n",
    "def cifrar_msg (msg,key):\n",
    "    abecedariao = string.ascii_uppercase\n",
    "    rotado = abecedariao[key:] + abecedariao[:key]\n",
    "\n",
    "    result = \"\"\n",
    "    for letra in msg:\n",
    "        result += cifrar_letra(letra,abecedariao,rotado)\n",
    "\n",
    "    return result\n",
    "\n",
    "key = 2\n",
    "msg = \"Hola mundo\"\n",
    "cifrado = cifrar_msg(msg,-key)\n",
    "print(cifrado)\n",
    "\n",
    "\n",
    "\n",
    "#lenguaje emsamblador \n"
   ]
  },
  {
   "cell_type": "code",
   "execution_count": 19,
   "id": "f04142ac",
   "metadata": {},
   "outputs": [
    {
     "name": "stdout",
     "output_type": "stream",
     "text": [
      "7\n"
     ]
    }
   ],
   "source": [
    "#varibales m,n values 3 , 4 to be passed paremeters\n",
    "def foo(m,n):\n",
    "    return m + n\n",
    "print(foo(3,4))"
   ]
  },
  {
   "cell_type": "code",
   "execution_count": null,
   "id": "962c79d7",
   "metadata": {},
   "outputs": [],
   "source": [
    "#data freance "
   ]
  },
  {
   "cell_type": "code",
   "execution_count": null,
   "id": "3b3a5d86",
   "metadata": {},
   "outputs": [],
   "source": [
    "#valor o solamente a la b pero si quiero darle a la a los dos deben tener valores\n",
    "def foo(a=1,b=2):\n",
    "    return a + b\n",
    "print(foo(b=3))\n",
    "\n",
    "def foo(*args):\n",
    "    print(args)\n",
    "\n",
    "foo(1,2,3,4,5)\n",
    "\n",
    "def division(a,b=2):\n",
    "    if b == 0:\n",
    "        return\n",
    "\n",
    "division(4,0)"
   ]
  },
  {
   "cell_type": "code",
   "execution_count": 22,
   "id": "84533814",
   "metadata": {},
   "outputs": [
    {
     "name": "stdout",
     "output_type": "stream",
     "text": [
      "0.6180339887498949 -1.618033988749895\n"
     ]
    }
   ],
   "source": [
    "def get_roots(a,b,c):\n",
    "    from math import sqrt\n",
    "    r1 = (-b + sqrt(b**2 - 4*a*c)) / (2*a)\n",
    "    r2 = (-b - sqrt(b**2 - 4*a*c)) / (2*a)\n",
    "    return r1, r2\n",
    "r1, r2 = get_roots(1,1,-1)\n",
    "print(r1,r2)"
   ]
  },
  {
   "cell_type": "code",
   "execution_count": 25,
   "id": "5b044418",
   "metadata": {},
   "outputs": [
    {
     "name": "stdout",
     "output_type": "stream",
     "text": [
      "Welcome\n",
      "Welcome\n"
     ]
    }
   ],
   "source": [
    "def my_greet(mensaje):\n",
    "    #return mensaje\n",
    "    print(mensaje)  \n",
    "\n",
    "my_greet(\"Welcome\")\n",
    "my_greet(\"Welcome\")"
   ]
  },
  {
   "cell_type": "code",
   "execution_count": 27,
   "id": "c873543b",
   "metadata": {},
   "outputs": [
    {
     "name": "stdout",
     "output_type": "stream",
     "text": [
      "6 es mayor que 5\n"
     ]
    }
   ],
   "source": [
    "def my_greet(a,b):\n",
    "    if a > b:\n",
    "        print(f\"{a} es mayor que {b}\")\n",
    "    else:\n",
    "        print(f\"{b} es mayor que {a}\")\n",
    "\n",
    "my_greet(5,6)\n",
    "\n"
   ]
  },
  {
   "cell_type": "code",
   "execution_count": 36,
   "id": "70eada6e",
   "metadata": {},
   "outputs": [
    {
     "name": "stdout",
     "output_type": "stream",
     "text": [
      "5\n"
     ]
    }
   ],
   "source": [
    "def mayor(*numero):\n",
    "    print(max(numero))\n",
    "\n",
    "mayor(4,2,-1,5,1,0)"
   ]
  },
  {
   "cell_type": "code",
   "execution_count": 38,
   "id": "913fdfc1",
   "metadata": {},
   "outputs": [
    {
     "data": {
      "text/plain": [
       "5"
      ]
     },
     "execution_count": 38,
     "metadata": {},
     "output_type": "execute_result"
    }
   ],
   "source": [
    "def max_n(*numeros):\n",
    "    mayor = numeros[0]\n",
    "    for i in numeros:\n",
    "        if i > mayor:\n",
    "            mayor = i\n",
    "    return mayor\n",
    "max_n(4,2,-1,5,1,0)\n"
   ]
  },
  {
   "cell_type": "code",
   "execution_count": null,
   "id": "04da8d87",
   "metadata": {},
   "outputs": [
    {
     "data": {
      "text/plain": [
       "5.6"
      ]
     },
     "execution_count": 40,
     "metadata": {},
     "output_type": "execute_result"
    }
   ],
   "source": [
    "def mile2km(millas):\n",
    "    return millas + 1.6\n",
    "\n",
    "mile2km(1)\n",
    "mile2km(4)"
   ]
  },
  {
   "cell_type": "code",
   "execution_count": 49,
   "id": "c66763b1",
   "metadata": {},
   "outputs": [
    {
     "name": "stdout",
     "output_type": "stream",
     "text": [
      "0\n",
      "2\n",
      "True\n",
      "True\n"
     ]
    },
    {
     "data": {
      "text/plain": [
       "<function print(*args, sep=' ', end='\\n', file=None, flush=False)>"
      ]
     },
     "execution_count": 49,
     "metadata": {},
     "output_type": "execute_result"
    }
   ],
   "source": [
    "#the string count method\n",
    "birth = \"01/01/1970\"\n",
    "print(birth.count(\",\"))\n",
    "#la funcion max sirve para encontrar el mayor valor de una lista o tupla\n",
    "birth = \"01/01/1970\"\n",
    "max(birth)\n",
    "#la funcion count sirve para contar cuantas veces aparece un caracter en una cadena\n",
    "a= \"i love you\"\n",
    "a.count(\"k\")\n",
    "print(a.count(\"o\"))\n",
    "#la funcion find sirve para encontrar la posicion de un caracter en una cadena\n",
    "b = \"hola como estas\"\n",
    "b.find(\"c\")\n",
    "print\n",
    "#la funcion startswith sirve para saber si una cadena empieza con un caracter o una subcadena\n",
    "c = \"hola como estas\"\n",
    "c.startswith(\"h\")\n",
    "print(c.startswith(\"h\"))\n",
    "\n",
    "#la funcion endswith sirve para saber si una cadena termina con un caracter o una subcadena\n",
    "c.endswith(\"s\")\n",
    "print(c.endswith(\"s\"))\n",
    "#la funcion upper sirve para convertir una cadena a mayusculas\n",
    "d = \"hola como estas\"\n",
    "d.upper()\n",
    "print\n",
    "print\n",
    "#la funcion lower sirve para convertir una cadena a minusculas\n",
    "d.lower()\n",
    "print\n",
    "#la funcion swapcase sirve para convertir una cadena a mayusculas y minusculas\n",
    "d.swapcase()\n",
    "print\n",
    "\n",
    "\n",
    "\n",
    "\n"
   ]
  },
  {
   "cell_type": "code",
   "execution_count": 52,
   "id": "3c1acb6f",
   "metadata": {},
   "outputs": [
    {
     "data": {
      "text/plain": [
       "(314.0, 62.800000000000004)"
      ]
     },
     "execution_count": 52,
     "metadata": {},
     "output_type": "execute_result"
    }
   ],
   "source": [
    "#math functions\n",
    "#la funcion {:.1f} sirve para redondear un numero a un decimal\n",
    "#la funcion {:.2f} sirve para redondear un numero a dos decimales\n",
    "\n",
    "\n",
    "def circle_area_circum(radius):\n",
    "    area = 3.14 * radius ** 2\n",
    "    circum = 2 * 3.14 * radius\n",
    "    return area, circum\n",
    "\n",
    "circle_area_circum(10)"
   ]
  },
  {
   "cell_type": "code",
   "execution_count": null,
   "id": "d5ccbed0",
   "metadata": {},
   "outputs": [
    {
     "data": {
      "text/plain": [
       "4"
      ]
     },
     "execution_count": 53,
     "metadata": {},
     "output_type": "execute_result"
    }
   ],
   "source": []
  }
 ],
 "metadata": {
  "kernelspec": {
   "display_name": "Python 3",
   "language": "python",
   "name": "python3"
  },
  "language_info": {
   "codemirror_mode": {
    "name": "ipython",
    "version": 3
   },
   "file_extension": ".py",
   "mimetype": "text/x-python",
   "name": "python",
   "nbconvert_exporter": "python",
   "pygments_lexer": "ipython3",
   "version": "3.13.7"
  }
 },
 "nbformat": 4,
 "nbformat_minor": 5
}
