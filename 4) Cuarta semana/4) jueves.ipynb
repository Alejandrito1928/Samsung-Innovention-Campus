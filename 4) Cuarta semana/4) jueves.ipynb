{
 "cells": [
  {
   "cell_type": "code",
   "execution_count": 1,
   "id": "29c1e64f",
   "metadata": {},
   "outputs": [
    {
     "name": "stdout",
     "output_type": "stream",
     "text": [
      "[10, 12, 13, 15, 20, 22, 25, 27]\n"
     ]
    }
   ],
   "source": [
    "def merge2(S, low, mid, high):\n",
    "    R = []\n",
    "    i, j = low, mid + 1\n",
    "    while i <= mid and j <= high:\n",
    "        if S[i] < S[j]:\n",
    "            R.append(S[i])\n",
    "            i += 1\n",
    "        else:\n",
    "            R.append(S[j])\n",
    "            j += 1\n",
    "    if i > mid:\n",
    "        for k in range(j, high + 1):\n",
    "            R.append(S[k])\n",
    "    else:\n",
    "        for k in range(i, mid + 1):\n",
    "            R.append(S[k])\n",
    "    for k in range(len(R)):\n",
    "        S[low + k] = R[k]\n",
    "\n",
    "def mergesort2(S, low, high):\n",
    "    if low < high:\n",
    "        mid = (low + high) // 2\n",
    "        mergesort2(S, low, mid)\n",
    "        mergesort2(S, mid + 1, high)\n",
    "        merge2(S, low, mid, high)\n",
    "\n",
    "S = [27, 10, 12, 20, 25, 13, 15, 22]\n",
    "mergesort2(S, 0, len(S) - 1)\n",
    "print(S)\n"
   ]
  },
  {
   "cell_type": "code",
   "execution_count": 4,
   "id": "ca6d5d46",
   "metadata": {},
   "outputs": [
    {
     "name": "stdout",
     "output_type": "stream",
     "text": [
      "[10, 12, 13, 15, 20, 22, 25, 27]\n"
     ]
    }
   ],
   "source": [
    "def mezclar(lista, inicio, medio, fin):\n",
    "    # Crear una lista vacía para guardar los elementos en orden\n",
    "    resultado = []\n",
    "    i = inicio        # Primer sublista\n",
    "    j = medio + 1     # Segunda sublista\n",
    "\n",
    "    # Mientras haya elementos en ambas sublistas, comparar y agregar el menor\n",
    "    while i <= medio and j <= fin:\n",
    "        if lista[i] < lista[j]:\n",
    "            resultado.append(lista[i])\n",
    "            i += 1\n",
    "        else:\n",
    "            resultado.append(lista[j])\n",
    "            j += 1\n",
    "\n",
    "    # Si quedan elementos en la primera sublista, agregarlos\n",
    "    while i <= medio:\n",
    "        resultado.append(lista[i])\n",
    "        i += 1\n",
    "\n",
    "    # Si quedan elementos en la segunda sublista, agregarlos\n",
    "    while j <= fin:\n",
    "        resultado.append(lista[j])\n",
    "        j += 1\n",
    "\n",
    "    # Copiar el resultado ordenado a la lista original\n",
    "    for k in range(len(resultado)):\n",
    "        lista[inicio + k] = resultado[k]\n",
    "\n",
    "def mergesort(lista, inicio, fin):\n",
    "    # Solo dividir si hay más de un elemento\n",
    "    if inicio < fin:\n",
    "        medio = (inicio + fin) // 2\n",
    "        mergesort(lista, inicio, medio)        # Ordena la primera mitad\n",
    "        mergesort(lista, medio + 1, fin)       # Ordena la segunda mitad\n",
    "        mezclar(lista, inicio, medio, fin)     # Une ambas mitades ordenadas\n",
    "\n",
    "# Ejemplo sencillo:\n",
    "mi_lista = [27, 10, 12, 20, 25, 13, 15, 22]\n",
    "mergesort(mi_lista, 0, len(mi_lista) - 1)\n",
    "\n",
    "print(mi_lista)  # Resultado ordenado\n"
   ]
  },
  {
   "cell_type": "code",
   "execution_count": 2,
   "id": "6817370f",
   "metadata": {},
   "outputs": [
    {
     "name": "stdout",
     "output_type": "stream",
     "text": [
      "[1, 2, 3]\n"
     ]
    }
   ],
   "source": [
    "def quicksort(lista):\n",
    "    if len(lista) <= 1:\n",
    "        return lista\n",
    "    else:\n",
    "        pivote = lista[0]\n",
    "        menores = [x for x in lista[1:] if x < pivote]\n",
    "        mayores = [x for x in lista[1:] if x >= pivote]\n",
    "        return quicksort(menores) + [pivote] + quicksort(mayores)\n",
    "\n",
    "# Prueba con lista pequeña\n",
    "ejemplo = [3, 1, 2]\n",
    "print(quicksort(ejemplo))  # Imprime: [1, 2, 3]\n"
   ]
  },
  {
   "cell_type": "markdown",
   "id": "a8826287",
   "metadata": {},
   "source": [
    "quick sort \n",
    "merge sort\n",
    "repasar \n"
   ]
  },
  {
   "cell_type": "code",
   "execution_count": 5,
   "id": "6f8e2020",
   "metadata": {},
   "outputs": [
    {
     "name": "stdout",
     "output_type": "stream",
     "text": [
      "Lista original: [27, 10, 12, 20, 25, 13, 15, 22]\n",
      "Lista ordenada: [10, 12, 13, 15, 20, 22, 25, 27]\n"
     ]
    }
   ],
   "source": [
    "def merge(S, low, mid, high):\n",
    "    R = []\n",
    "    i = low\n",
    "    j = mid + 1\n",
    "\n",
    "    # Copia los elementos en orden a la lista temporal R\n",
    "    while i <= mid and j <= high:\n",
    "        if S[i] < S[j]:\n",
    "            R.append(S[i])\n",
    "            i += 1\n",
    "        else:\n",
    "            R.append(S[j])\n",
    "            j += 1\n",
    "\n",
    "    # Agrega los elementos restantes de la primera mitad\n",
    "    while i <= mid:\n",
    "        R.append(S[i])\n",
    "        i += 1\n",
    "\n",
    "    # Agrega los elementos restantes de la segunda mitad\n",
    "    while j <= high:\n",
    "        R.append(S[j])\n",
    "        j += 1\n",
    "\n",
    "    # Copia los elementos de R de vuelta a la lista original S\n",
    "    for k in range(len(R)):\n",
    "        S[low + k] = R[k]\n",
    "\n",
    "def merge_sort(S, low, high):\n",
    "    if low < high:\n",
    "        mid = (low + high) // 2  # Calcula el punto medio\n",
    "        merge_sort(S, low, mid)  # Ordena la primera mitad\n",
    "        merge_sort(S, mid + 1, high)  # Ordena la segunda mitad\n",
    "        merge(S, low, mid, high)  # Fusiona las dos mitades ordenadas\n",
    "\n",
    "# Ejemplo de uso\n",
    "if __name__ == \"__main__\":\n",
    "    mi_lista = [27, 10, 12, 20, 25, 13, 15, 22]\n",
    "    print(f\"Lista original: {mi_lista}\")\n",
    "    \n",
    "    merge_sort(mi_lista, 0, len(mi_lista) - 1)\n",
    "    \n",
    "    print(f\"Lista ordenada: {mi_lista}\")"
   ]
  },
  {
   "cell_type": "code",
   "execution_count": null,
   "id": "ff0880d8",
   "metadata": {},
   "outputs": [],
   "source": [
    "n = 4 \n",
    "listas = []\n",
    "\n",
    "for i in range(n):\n",
    "    list = list(input(\"ingrese una lista\"))"
   ]
  },
  {
   "cell_type": "code",
   "execution_count": null,
   "id": "955334e6",
   "metadata": {},
   "outputs": [],
   "source": [
    "import itertools\n",
    "\n",
    "def super_merge_complejo(lista_de_listas):\n",
    "    resultado = []\n",
    "    total_elementos = sum(len(sublista) for sublista in lista_de_listas)\n",
    "\n",
    "    while len(resultado) < total_elementos:\n",
    "        indice_lista_con_min = -1\n",
    "        \n",
    "        smallest  = 9999\n",
    "        for i in range(len(lista)):\n",
    "            if len(listas[i:] != 0):\n",
    "                if listas[i][0] < smallest:\n",
    "                    min_valor_actual = sublista[i][0]\n",
    "                    indice_lista_con_min = i\n",
    "\n",
    "        if indice_lista_con_min != -1:\n",
    "            resultado.append(min_valor_actual)\n",
    "            lista_de_listas[indice_lista_con_min].pop(0)\n",
    "            \n",
    "    return resultado\n",
    "\n",
    "mi_lista = [[1, 4, 5], [1, 3, 4], [2, 6]]\n",
    "\n",
    "for sub in mi_lista:\n",
    "    sub.sort()\n",
    "\n",
    "lista_ordenada = super_merge_complejo(mi_lista)\n",
    "\n",
    "print(f\"Resultado final: {lista_ordenada}\")\n",
    "\n",
    "# --- Versión eficiente ---\n",
    "\n",
    "def super_merge_eficiente(lista_de_listas):\n",
    "    return sorted(itertools.chain.from_iterable(lista_de_listas))\n",
    "\n",
    "mi_lista_2 = [[1, 4, 5], [1, 3, 4], [2, 6]]\n",
    "lista_ordenada_2 = super_merge_eficiente(mi_lista_2)\n",
    "\n",
    "print(f\"Resultado final (eficiente): {lista_ordenada_2}\")"
   ]
  }
 ],
 "metadata": {
  "kernelspec": {
   "display_name": "Python 3",
   "language": "python",
   "name": "python3"
  },
  "language_info": {
   "codemirror_mode": {
    "name": "ipython",
    "version": 3
   },
   "file_extension": ".py",
   "mimetype": "text/x-python",
   "name": "python",
   "nbconvert_exporter": "python",
   "pygments_lexer": "ipython3",
   "version": "3.13.8"
  }
 },
 "nbformat": 4,
 "nbformat_minor": 5
}
