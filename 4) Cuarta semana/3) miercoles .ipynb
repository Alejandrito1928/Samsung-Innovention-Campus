{
 "cells": [
  {
   "cell_type": "code",
   "execution_count": 2,
   "id": "9310080f",
   "metadata": {},
   "outputs": [
    {
     "name": "stdout",
     "output_type": "stream",
     "text": [
      "[11, 12, 22, 25, 34, 64, 90]\n"
     ]
    }
   ],
   "source": [
    "def ordenar(x, y):\n",
    "    if x > y:\n",
    "        return y, x\n",
    "    return x, y\n",
    "\n",
    "def bubble_sort(arr):\n",
    "    n = len(arr)\n",
    "    for i in range(n):\n",
    "        for j in range(0, n-i-1):\n",
    "            arr[j], arr[j+1] = ordenar(arr[j], arr[j+1])\n",
    "    return arr\n",
    "\n",
    "array = bubble_sort([64, 34, 25, 12, 22, 11, 90])\n",
    "print(array)\n"
   ]
  },
  {
   "cell_type": "code",
   "execution_count": 4,
   "id": "3cd2d170",
   "metadata": {},
   "outputs": [
    {
     "name": "stdout",
     "output_type": "stream",
     "text": [
      "[50, 30, 40, 10, 20]\n",
      "[30, 50, 40, 10, 20]\n",
      "[30, 40, 50, 10, 20]\n",
      "[10, 30, 40, 50, 20]\n",
      "[10, 20, 30, 40, 50]\n"
     ]
    }
   ],
   "source": [
    "def insertionsort2(S):\n",
    "    n = len(S)\n",
    "    for i in range(1, n):\n",
    "        print(S)\n",
    "        x = S[i]\n",
    "        j = i - 1\n",
    "        while j >= 0 and S[j] > x:\n",
    "            S[j + 1] = S[j]\n",
    "            j -= 1\n",
    "        S[j + 1] = x\n",
    "\n",
    "S = [50, 30, 40, 10, 20]\n",
    "insertionsort2(S)\n",
    "print(S)\n"
   ]
  },
  {
   "cell_type": "code",
   "execution_count": 3,
   "id": "f1be5e8f",
   "metadata": {},
   "outputs": [
    {
     "name": "stdout",
     "output_type": "stream",
     "text": [
      "[5, 2, 4, 6, 1, 3]\n",
      "[2, 5, 4, 6, 1, 3]\n",
      "[2, 4, 5, 6, 1, 3]\n",
      "[2, 4, 5, 6, 1, 3]\n",
      "[1, 2, 4, 5, 6, 3]\n"
     ]
    }
   ],
   "source": [
    "def insertionsort2(S):\n",
    "    n = len(S)\n",
    "    for i in range(1, n):\n",
    "        print(S)\n",
    "        x = S[i]\n",
    "        j = i - 1\n",
    "        while j >= 0 and S[j] > x:\n",
    "            S[j + 1] = S[j]\n",
    "            j -= 1\n",
    "        S[j + 1] = x\n",
    "\n",
    "ordenar = insertionsort2([5,2,4,6,1,3])"
   ]
  },
  {
   "cell_type": "code",
   "execution_count": 1,
   "id": "adb31f5f",
   "metadata": {},
   "outputs": [
    {
     "name": "stdout",
     "output_type": "stream",
     "text": [
      "[] [50, 30, 40, 10, 20]\n",
      "[50] [30, 40, 10, 20]\n",
      "[30, 50] [40, 10, 20]\n",
      "[30, 40, 50] [10, 20]\n",
      "[10, 30, 40, 50] [20]\n",
      "[10, 20, 30, 40, 50]\n"
     ]
    }
   ],
   "source": [
    "def insertionsort1(S):\n",
    "    n = len(S)\n",
    "    R = []\n",
    "    while len(S) > 0:\n",
    "        print(R, S)\n",
    "        x = S.pop(0)\n",
    "        j = len(R) - 1\n",
    "        while j >= 0 and R[j] > x:\n",
    "            j -= 1\n",
    "        R.insert(j + 1, x)\n",
    "    return R\n",
    "\n",
    "\n",
    "S = [50, 30, 40, 10, 20]\n",
    "R = insertionsort1(S)\n",
    "print(R)\n"
   ]
  },
  {
   "cell_type": "code",
   "execution_count": 2,
   "id": "728e1ba6",
   "metadata": {},
   "outputs": [
    {
     "name": "stdout",
     "output_type": "stream",
     "text": [
      "[50, 30, 40, 10, 20]\n",
      "[30, 40, 10, 20, 50]\n",
      "[30, 10, 20, 40, 50]\n",
      "[10, 20, 30, 40, 50]\n",
      "[10, 20, 30, 40, 50]\n",
      "Total swap operations: 8\n",
      "[10, 20, 30, 40, 50]\n"
     ]
    }
   ],
   "source": [
    "def bubblesort(S):\n",
    "    n = len(S)\n",
    "    count_swaps = 0  # Variable para contar swaps\n",
    "    \n",
    "    for i in range(n):\n",
    "        print(S)\n",
    "        for j in range(n - 1):\n",
    "            if S[j] > S[j + 1]:\n",
    "                S[j], S[j + 1] = S[j + 1], S[j]\n",
    "                count_swaps += 1  # Incrementar contador cuando hay swap\n",
    "\n",
    "    print(\"Total swap operations:\", count_swaps)\n",
    "    return count_swaps\n",
    "\n",
    "S = [50, 30, 40, 10, 20]\n",
    "bubblesort(S)\n",
    "print(S)\n"
   ]
  },
  {
   "cell_type": "code",
   "execution_count": 17,
   "id": "a7848fff",
   "metadata": {},
   "outputs": [
    {
     "name": "stdout",
     "output_type": "stream",
     "text": [
      "eilnst == eilnst\n",
      "True\n",
      "aaagmnr == aaagmnr\n",
      "True\n",
      "eilnst == ceeilns\n",
      "False\n",
      "aaagmnr == aaagmnrs\n",
      "False\n"
     ]
    }
   ],
   "source": [
    "def insertionsort1(S):\n",
    "    n = len(S)\n",
    "    R = []\n",
    "    while len(S) > 0:\n",
    "        x = S.pop(0)\n",
    "        j = len(R) - 1\n",
    "        while j >= 0 and R[j] > x:\n",
    "            j -= 1\n",
    "        R.insert(j + 1, x)\n",
    "    return R\n",
    "\n",
    "def convert_ascci(S):\n",
    "    lista_numeros_assci = []\n",
    "    for i in range(len(S)):\n",
    "        lista_numeros_assci.append(ord(S[i]))\n",
    "\n",
    "\n",
    "    ordenado =  insertionsort1(lista_numeros_assci)\n",
    "    palabra = \"\"\n",
    "    for i in ordenado:\n",
    "        palabra += chr(i)\n",
    "\n",
    "    return palabra\n",
    "\n",
    "\n",
    "\n",
    "def is_anagram(word1, word2):\n",
    "    print( convert_ascci(word1),\"==\", convert_ascci(word2))\n",
    "    return convert_ascci(word1) == convert_ascci(word2)\n",
    "\n",
    "print(is_anagram(\"listen\", \"silent\"))\n",
    "print(is_anagram(\"anagram\", \"nagaram\"))\n",
    "print(is_anagram(\"listen\", \"silence\"))\n",
    "print(is_anagram(\"anagram\", \"anagrams\"))"
   ]
  },
  {
   "cell_type": "code",
   "execution_count": null,
   "id": "55d7511d",
   "metadata": {},
   "outputs": [
    {
     "name": "stdout",
     "output_type": "stream",
     "text": [
      "[27, 10, 12, 20, 25, 13, 15, 22]\n",
      "[27, 10, 12, 20]\n",
      "[27, 10]\n",
      "None\n",
      "[12, 20]\n",
      "None\n",
      "None\n",
      "[25, 13, 15, 22]\n",
      "[25, 13]\n",
      "None\n",
      "[15, 22]\n",
      "None\n",
      "None\n",
      "None\n",
      "[10, 12, 13, 15, 20, 22, 25, 27]\n"
     ]
    }
   ],
   "source": [
    "def merge1(S, L, R):\n",
    "    k = 0\n",
    "    while len(L) > 0 and len(R) > 0:\n",
    "        if L[0] <= R[0]:\n",
    "            S[k] = L.pop(0)\n",
    "        else:\n",
    "            S[k] = R.pop(0)\n",
    "        k += 1\n",
    "\n",
    "    while len(L) != 0:\n",
    "        S[k] = L.pop(0)\n",
    "        k += 1\n",
    "\n",
    "    while len(R) != 0:\n",
    "        S[k] = R.pop(0)\n",
    "        k += 1\n",
    "\n",
    "def mergesort1(S):\n",
    "    n = len(S)\n",
    "    if n > 1:\n",
    "        print(S)\n",
    "        mid = n // 2\n",
    "        L, R = S[:mid], S[mid:]\n",
    "        mergesort1(L)\n",
    "        mergesort1(R)\n",
    "        \n",
    "        merge1(S, L, R)\n",
    "        print(merge1(S,L,R))\n",
    "S = [27, 10, 12, 20, 25, 13, 15, 22]\n",
    "\n",
    "mergesort1(S)\n",
    "print(S)\n"
   ]
  },
  {
   "cell_type": "markdown",
   "id": "e253e3fc",
   "metadata": {},
   "source": [
    "MERGE SORT "
   ]
  }
 ],
 "metadata": {
  "kernelspec": {
   "display_name": "Python 3",
   "language": "python",
   "name": "python3"
  },
  "language_info": {
   "codemirror_mode": {
    "name": "ipython",
    "version": 3
   },
   "file_extension": ".py",
   "mimetype": "text/x-python",
   "name": "python",
   "nbconvert_exporter": "python",
   "pygments_lexer": "ipython3",
   "version": "3.13.7"
  }
 },
 "nbformat": 4,
 "nbformat_minor": 5
}
