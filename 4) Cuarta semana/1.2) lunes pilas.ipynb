{
 "cells": [
  {
   "cell_type": "code",
   "execution_count": 3,
   "id": "b67d6951",
   "metadata": {},
   "outputs": [
    {
     "name": "stdout",
     "output_type": "stream",
     "text": [
      "¿Está balanceada? True\n"
     ]
    }
   ],
   "source": [
    "#pilas\n",
    "def check_parentheses(expr):\n",
    "    opening = \"([{\"\n",
    "    closing = \")]}\"\n",
    "    stack = []\n",
    "\n",
    "    for char in expr:\n",
    "        if char in opening:\n",
    "            stack.append(char)\n",
    "        elif char in closing:\n",
    "            if not stack:\n",
    "                return False\n",
    "            if opening.index(stack.pop()) != closing.index(char):\n",
    "                return False\n",
    "\n",
    "    return not stack\n",
    "\n",
    "# Ejemplo de uso\n",
    "expresion = \"({[()]})\"\n",
    "resultado = check_parentheses(expresion)\n",
    "\n",
    "print(\"¿Está balanceada?\", resultado)"
   ]
  },
  {
   "cell_type": "code",
   "execution_count": null,
   "id": "c6ea478f",
   "metadata": {},
   "outputs": [
    {
     "name": "stdout",
     "output_type": "stream",
     "text": [
      "['Banana', 'Apple', 'Strawberry']\n"
     ]
    }
   ],
   "source": [
    "class Stack:\n",
    "    def __init__(self):\n",
    "        self.stack = []\n",
    "\n",
    "    def push(self, item):\n",
    "        self.stack.append(item)\n",
    "\n",
    "    def pop(self):\n",
    "        if not self.is_empty():\n",
    "            return self.stack.pop()\n",
    "        return None\n",
    "\n",
    "    def is_empty(self):\n",
    "        return len(self.stack) == 0\n",
    "\n",
    "# Uso del stack\n",
    "stack = Stack()\n",
    "stack.push(\"Banana\")\n",
    "stack.push(\"Apple\")\n",
    "stack.push(\"Tomato\")\n",
    "stack.pop()           \n",
    "stack.push(\"Strawberry\")\n",
    "stack.push(\"Grapes\")\n",
    "stack.pop()           \n",
    "\n",
    "print(stack.stack)      "
   ]
  },
  {
   "cell_type": "code",
   "execution_count": null,
   "id": "4933c44f",
   "metadata": {},
   "outputs": [
    {
     "name": "stdout",
     "output_type": "stream",
     "text": [
      "[10, 30, 50, 70, 90]\n"
     ]
    }
   ],
   "source": [
    "class Stack:\n",
    "    def __init__(self):\n",
    "        self.stack = []\n",
    "\n",
    "    def push(self, item):\n",
    "        self.stack.append(item)\n",
    "\n",
    "    def pop(self):\n",
    "        if not self.is_empty():\n",
    "            return self.stack.pop()\n",
    "        return None\n",
    "\n",
    "    def is_empty(self):\n",
    "        return len(self.stack) == 0\n",
    "\n",
    "\n",
    "stack = Stack()\n",
    "\n",
    "items = [10 * i for i in range(1, 10)]\n",
    "\n",
    "for item in items:\n",
    "    stack.push(item)\n",
    "    if (item // 10) % 2 == 0:\n",
    "        stack.pop()\n",
    "\n",
    "print(stack.stack)"
   ]
  },
  {
   "cell_type": "code",
   "execution_count": 7,
   "id": "b549dc44",
   "metadata": {},
   "outputs": [],
   "source": [
    "text = input(\"ingrese el texto HTML\")\n",
    "start = text.find('<')\n",
    "while start != -1:\n",
    "    end = text.find('>', start + 1)\n",
    "    tag = text[start:end+1]\n",
    "    print(tag, end=' ')\n",
    "    start = text.find('<', end + 1)\n",
    "\n",
    "\n"
   ]
  },
  {
   "cell_type": "code",
   "execution_count": null,
   "id": "59e97091",
   "metadata": {},
   "outputs": [
    {
     "name": "stdout",
     "output_type": "stream",
     "text": [
      " El documento HTML está correctamente balanceado.\n"
     ]
    }
   ],
   "source": [
    "def verificar_html(texto):\n",
    "    stack = []\n",
    "    start = texto.find('<')\n",
    "\n",
    "    while start != -1:\n",
    "        end = texto.find('>', start + 1)\n",
    "        if end == -1:\n",
    "            return False\n",
    "\n",
    "        tag = texto[start + 1:end].strip()\n",
    "        if not tag: \n",
    "            return False\n",
    "\n",
    "        if tag.startswith('/'):\n",
    "            if not stack:\n",
    "                return False\n",
    "            if stack[-1] != tag[1:]:\n",
    "                return False \n",
    "            stack.pop()\n",
    "        else:\n",
    "            stack.append(tag)\n",
    "\n",
    "        start = texto.find('<', end + 1)\n",
    "\n",
    "    return len(stack) == 0 \n",
    "\n",
    "html = \"<html><head><title>Mi Página Web</title></head><body><h1>Bienvenido a mi sitio</h1><p>Este es un párrafo de ejemplo.</p><ul><li>HTML</li><li>CSS</li><li>JavaScript</li></ul></body></html>\"\n",
    "if verificar_html(html):\n",
    "    print(\" El documento HTML está correctamente balanceado.\")\n",
    "else:\n",
    "    print(\" El documento HTML tiene errores de estructura.\")"
   ]
  },
  {
   "cell_type": "code",
   "execution_count": null,
   "id": "5e2b4781",
   "metadata": {},
   "outputs": [
    {
     "name": "stdout",
     "output_type": "stream",
     "text": [
      "[4, 3, 5, 2, 1]\n"
     ]
    }
   ],
   "source": [
    "def josephus_sequence(n, k):\n",
    "    sequence = []\n",
    "    queue = list(range(1, n + 1))  \n",
    "    j = 1  \n",
    "\n",
    "    while len(queue) > 1:\n",
    "        item = queue.pop(0) \n",
    "\n",
    "        if j % k == 0:\n",
    "            sequence.append(item) \n",
    "        else:\n",
    "            queue.append(item)  \n",
    "\n",
    "        j += 1\n",
    "\n",
    "    sequence.append(queue.pop(0))  \n",
    "    return sequence\n",
    "\n",
    "\n",
    "N = 5\n",
    "K = 4\n",
    "print(josephus_sequence(N, K))"
   ]
  },
  {
   "cell_type": "code",
   "execution_count": null,
   "id": "418f022c",
   "metadata": {},
   "outputs": [
    {
     "name": "stdout",
     "output_type": "stream",
     "text": [
      "A\n",
      "B\n",
      "C\n",
      "None\n"
     ]
    }
   ],
   "source": [
    "class Queue:\n",
    "    def __init__(self):\n",
    "        self.queue = []\n",
    "\n",
    "    def is_empty(self):\n",
    "        return len(self.queue) == 0\n",
    "\n",
    "    def enqueue(self, item):\n",
    "        self.queue.append(item)\n",
    "\n",
    "    def dequeue(self):\n",
    "        return None if self.is_empty() else self.queue.pop(0)\n",
    "\n",
    "# Uso de la cola\n",
    "queue = Queue()\n",
    "queue.enqueue(\"A\")\n",
    "queue.enqueue(\"B\")\n",
    "print(queue.dequeue()) \n",
    "queue.enqueue(\"C\")\n",
    "print(queue.dequeue())  \n",
    "print(queue.dequeue())  \n",
    "print(queue.dequeue())  "
   ]
  },
  {
   "cell_type": "code",
   "execution_count": null,
   "id": "d2f97a5c",
   "metadata": {},
   "outputs": [
    {
     "name": "stdout",
     "output_type": "stream",
     "text": [
      "[3, 6, 2, 7, 5, 1, 4]\n"
     ]
    }
   ],
   "source": [
    "class Queue:\n",
    "    def __init__(self):\n",
    "        self.queue = []\n",
    "\n",
    "    def is_empty(self):\n",
    "        return len(self.queue) == 0\n",
    "\n",
    "    def enqueue(self, item):\n",
    "        self.queue.append(item)\n",
    "\n",
    "    def dequeue(self):\n",
    "        return None if self.is_empty() else self.queue.pop(0)\n",
    "\n",
    "    def size(self):\n",
    "        return len(self.queue)\n",
    "\n",
    "def josephus(n, k):\n",
    "    sequence = []\n",
    "    queue = Queue()\n",
    "\n",
    "    for i in range(1, n + 1):\n",
    "        queue.enqueue(i)\n",
    "\n",
    "    j = 1  \n",
    "\n",
    "    while queue.size() > 1:\n",
    "        item = queue.dequeue()\n",
    "        if j % k == 0:\n",
    "            sequence.append(item)\n",
    "        else:\n",
    "            queue.enqueue(item)\n",
    "        j += 1\n",
    "\n",
    "    sequence.append(queue.dequeue()) \n",
    "    return sequence\n",
    "\n",
    "print(josephus(7, 3))  "
   ]
  },
  {
   "cell_type": "code",
   "execution_count": 10,
   "id": "ee6b8faf",
   "metadata": {},
   "outputs": [
    {
     "name": "stdout",
     "output_type": "stream",
     "text": [
      "Secuencia dinámica:\n",
      "Eliminado: 3 → [3]\n",
      "Eliminado: 6 → [3, 6]\n",
      "Eliminado: 2 → [3, 6, 2]\n",
      "Eliminado: 7 → [3, 6, 2, 7]\n",
      "Eliminado: 5 → [3, 6, 2, 7, 5]\n",
      "Eliminado: 1 → [3, 6, 2, 7, 5, 1]\n",
      "Último sobreviviente: 4\n",
      "Secuencia final: [3, 6, 2, 7, 5, 1, 4]\n"
     ]
    },
    {
     "data": {
      "text/plain": [
       "[3, 6, 2, 7, 5, 1, 4]"
      ]
     },
     "execution_count": 10,
     "metadata": {},
     "output_type": "execute_result"
    }
   ],
   "source": [
    "class Queue:\n",
    "    def __init__(self):\n",
    "        self.queue = []\n",
    "\n",
    "    def is_empty(self):\n",
    "        return len(self.queue) == 0\n",
    "\n",
    "    def enqueue(self, item):\n",
    "        self.queue.append(item)\n",
    "\n",
    "    def dequeue(self):\n",
    "        return None if self.is_empty() else self.queue.pop(0)\n",
    "\n",
    "    def size(self):\n",
    "        return len(self.queue)\n",
    "\n",
    "def josephus(n, k):\n",
    "    sequence = []\n",
    "    queue = Queue()\n",
    "\n",
    "    for i in range(1, n + 1):\n",
    "        queue.enqueue(i)\n",
    "        \n",
    "\n",
    "    j = 1\n",
    "\n",
    "    print(\"Secuencia dinámica:\")\n",
    "    while queue.size() > 1:\n",
    "        item = queue.dequeue()\n",
    "        if j % k == 0:\n",
    "            sequence.append(item)\n",
    "            print(f\"Eliminado: {item} → {sequence}\")\n",
    "        else:\n",
    "            queue.enqueue(item)\n",
    "        j += 1\n",
    "\n",
    "    survivor = queue.dequeue()\n",
    "    sequence.append(survivor)\n",
    "    print(f\"Último sobreviviente: {survivor}\")\n",
    "    print(f\"Secuencia final: {sequence}\")\n",
    "    return sequence\n",
    "\n",
    "josephus(7, 3)"
   ]
  },
  {
   "cell_type": "code",
   "execution_count": 12,
   "id": "a51c389d",
   "metadata": {},
   "outputs": [
    {
     "name": "stdout",
     "output_type": "stream",
     "text": [
      "['Tomato', 'Strawberry', 'Grapes']\n"
     ]
    }
   ],
   "source": [
    "class Queue:\n",
    "    def __init__(self):\n",
    "        self.queue = []\n",
    "\n",
    "    def is_empty(self):\n",
    "        return len(self.queue) == 0\n",
    "\n",
    "    def enqueue(self, item):\n",
    "        self.queue.append(item)\n",
    "\n",
    "    def dequeue(self):\n",
    "        return None if self.is_empty() else self.queue.pop(0)\n",
    "\n",
    "    def size(self):\n",
    "        return len(self.queue)\n",
    "\n",
    "queue = Queue()\n",
    "queue.enqueue(\"Banana\")\n",
    "queue.enqueue(\"Apple\")\n",
    "queue.enqueue(\"Tomato\")\n",
    "queue.dequeue()\n",
    "queue.enqueue(\"Strawberry\")\n",
    "queue.enqueue(\"Grapes\")\n",
    "queue.dequeue()\n",
    "print(queue.queue)"
   ]
  },
  {
   "cell_type": "code",
   "execution_count": 13,
   "id": "3c20c041",
   "metadata": {},
   "outputs": [
    {
     "name": "stdout",
     "output_type": "stream",
     "text": [
      "[60, 70, 80, 90, 100]\n"
     ]
    }
   ],
   "source": [
    "class Queue:\n",
    "    def __init__(self):\n",
    "        self.queue = []\n",
    "\n",
    "    def is_empty(self):\n",
    "        return len(self.queue) == 0\n",
    "\n",
    "    def enqueue(self, item):\n",
    "        self.queue.append(item)\n",
    "\n",
    "    def dequeue(self):\n",
    "        return None if self.is_empty() else self.queue.pop(0)\n",
    "\n",
    "    def size(self):\n",
    "        return len(self.queue)\n",
    "\n",
    "queue = Queue()\n",
    "items = [10 * i for i in range(1, 11)]\n",
    "for item in items:\n",
    "    queue.enqueue(item)\n",
    "    if (item // 10) % 2 == 0:\n",
    "        queue.dequeue()\n",
    "\n",
    "print(queue.queue)"
   ]
  },
  {
   "cell_type": "code",
   "execution_count": 14,
   "id": "5dfc5726",
   "metadata": {},
   "outputs": [
    {
     "name": "stdout",
     "output_type": "stream",
     "text": [
      "B\n",
      "C\n",
      "['A']\n"
     ]
    }
   ],
   "source": [
    "class Deque:\n",
    "    def __init__(self):\n",
    "        self.queue = []\n",
    "\n",
    "    def add_first(self, item):\n",
    "        self.queue.insert(0, item)\n",
    "\n",
    "    def remove_first(self):\n",
    "        return None if self.is_empty() else self.queue.pop(0)\n",
    "\n",
    "    def add_last(self, item):\n",
    "        self.queue.append(item)\n",
    "\n",
    "    def remove_last(self):\n",
    "        return None if self.is_empty() else self.queue.pop()\n",
    "\n",
    "    def is_empty(self):\n",
    "        return len(self.queue) == 0\n",
    "\n",
    "    def size(self):\n",
    "        return len(self.queue)\n",
    "\n",
    "d = Deque()\n",
    "d.add_last(\"A\")\n",
    "d.add_first(\"B\")\n",
    "d.add_last(\"C\")\n",
    "print(d.remove_first())  # B\n",
    "print(d.remove_last())   # C\n",
    "print(d.queue)           # ['A']"
   ]
  }
 ],
 "metadata": {
  "kernelspec": {
   "display_name": "Python 3",
   "language": "python",
   "name": "python3"
  },
  "language_info": {
   "codemirror_mode": {
    "name": "ipython",
    "version": 3
   },
   "file_extension": ".py",
   "mimetype": "text/x-python",
   "name": "python",
   "nbconvert_exporter": "python",
   "pygments_lexer": "ipython3",
   "version": "3.13.7"
  }
 },
 "nbformat": 4,
 "nbformat_minor": 5
}
