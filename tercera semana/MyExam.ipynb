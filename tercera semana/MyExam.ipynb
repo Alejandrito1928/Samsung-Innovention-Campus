{
 "cells": [
  {
   "cell_type": "code",
   "execution_count": 4,
   "id": "d54a6955",
   "metadata": {},
   "outputs": [
    {
     "data": {
      "text/plain": [
       "True"
      ]
     },
     "execution_count": 4,
     "metadata": {},
     "output_type": "execute_result"
    }
   ],
   "source": [
    "#palindromo sin funciones solo con recursivo return \n",
    "def palindromo(s):\n",
    "    if len(s) <= 1:\n",
    "        return True\n",
    "    if s[0] != s[-1]:\n",
    "        return False\n",
    "    return palindromo(s[1:-1])\n",
    "\n",
    "palindromo(\"ana\")"
   ]
  },
  {
   "cell_type": "code",
   "execution_count": 3,
   "id": "c7086ba1",
   "metadata": {},
   "outputs": [
    {
     "name": "stdout",
     "output_type": "stream",
     "text": [
      "[20, 40, 60]\n",
      "[30, 60, 90]\n"
     ]
    }
   ],
   "source": [
    "def incrementar(lista, incremento):\n",
    "    valor = 10\n",
    "    return list(map(lambda x: x * incremento, lista))\n",
    "\n",
    "print(incrementar([10,20,30],2))  \n",
    "print(incrementar([10,20,30],3))"
   ]
  },
  {
   "cell_type": "code",
   "execution_count": 2,
   "id": "9825c208",
   "metadata": {},
   "outputs": [
    {
     "name": "stdout",
     "output_type": "stream",
     "text": [
      "1\n",
      "4\n",
      "27\n",
      "256\n",
      "3125\n"
     ]
    }
   ],
   "source": [
    "#que valor concluirara el siguiente codigo num_list\n",
    "def calc_digit(n):\n",
    "    def final(digit):\n",
    "        return digit**n\n",
    "    return final\n",
    "\n",
    "num_list = []\n",
    "for num in range(1,6):\n",
    "    num_list.append(calc_digit(num))\n",
    "    print(num_list[num-1] (num))"
   ]
  },
  {
   "cell_type": "code",
   "execution_count": 1,
   "id": "2cf87f3e",
   "metadata": {},
   "outputs": [
    {
     "name": "stdout",
     "output_type": "stream",
     "text": [
      "Vector(300, 800)\n",
      "Vector(3.0, 2.0)\n"
     ]
    }
   ],
   "source": [
    "class Vector:\n",
    "    def __init__(self, x, y):\n",
    "        self.x = x\n",
    "        self.y = y\n",
    "\n",
    "    def __mul__(self, other):\n",
    "        return Vector(self.x * other.x, self.y * other.y)\n",
    "\n",
    "    def __truediv__(self, other):\n",
    "        return Vector(self.x / other.x, self.y / other.y)\n",
    "\n",
    "    def __str__(self):\n",
    "        return f\"Vector({self.x}, {self.y})\"\n",
    "\n",
    "v1 = Vector(30, 40)\n",
    "v2 = Vector(10, 20)\n",
    "v3 = v1 * v2\n",
    "v4 = v1 / v2\n",
    "print(v3)\n",
    "print(v4)"
   ]
  }
 ],
 "metadata": {
  "kernelspec": {
   "display_name": "Python 3",
   "language": "python",
   "name": "python3"
  },
  "language_info": {
   "codemirror_mode": {
    "name": "ipython",
    "version": 3
   },
   "file_extension": ".py",
   "mimetype": "text/x-python",
   "name": "python",
   "nbconvert_exporter": "python",
   "pygments_lexer": "ipython3",
   "version": "3.13.7"
  }
 },
 "nbformat": 4,
 "nbformat_minor": 5
}
