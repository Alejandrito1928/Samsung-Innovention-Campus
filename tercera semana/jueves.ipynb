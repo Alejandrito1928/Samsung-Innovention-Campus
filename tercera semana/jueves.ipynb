{
 "cells": [
  {
   "cell_type": "code",
   "execution_count": 2,
   "id": "9724ff44",
   "metadata": {},
   "outputs": [
    {
     "name": "stdout",
     "output_type": "stream",
     "text": [
      "2\n",
      "2\n"
     ]
    }
   ],
   "source": [
    "n1 = 1 \n",
    "def func1():\n",
    "    def funci2():\n",
    "        global n1\n",
    "        n1 += 1\n",
    "        print(n1)\n",
    "    funci2()\n",
    "\n",
    "\n",
    "func1()\n",
    "print(n1)"
   ]
  },
  {
   "cell_type": "code",
   "execution_count": 3,
   "id": "cbb89aa9",
   "metadata": {},
   "outputs": [
    {
     "name": "stdout",
     "output_type": "stream",
     "text": [
      "0\n",
      "1\n"
     ]
    }
   ],
   "source": [
    "n1 = 0  # empezamos desde 0\n",
    "def func1():\n",
    "    def funci2():\n",
    "        global n1\n",
    "        print(n1)   # imprime primero el valor actual\n",
    "        n1 += 1     # luego lo incrementa\n",
    "        print(n1)   # imprime el siguiente\n",
    "    funci2()\n",
    "\n",
    "func1()\n"
   ]
  },
  {
   "cell_type": "code",
   "execution_count": 6,
   "id": "f2f8f929",
   "metadata": {},
   "outputs": [
    {
     "name": "stdout",
     "output_type": "stream",
     "text": [
      "2\n"
     ]
    }
   ],
   "source": [
    "#nonlocal\n",
    "\n",
    "def func1():\n",
    "    n1 = 1 \n",
    "    def funci2():\n",
    "        nonlocal n1\n",
    "        n1 += 1\n",
    "        print(n1)\n",
    "    funci2()\n",
    "\n",
    "\n",
    "func1()\n"
   ]
  },
  {
   "cell_type": "code",
   "execution_count": null,
   "id": "6dffdd67",
   "metadata": {},
   "outputs": [],
   "source": [
    "#concept of Closure \n",
    "\n",
    "def clouse_cal():\n",
    "    a = 2\n",
    "    def multi(x):\n",
    "        return x + 2\n",
    "    return multi\n",
    "c = clouse_cal()\n",
    "print()"
   ]
  },
  {
   "cell_type": "code",
   "execution_count": null,
   "id": "2d6c8d3b",
   "metadata": {},
   "outputs": [],
   "source": [
    "#contadores independientes \n",
    "#c1 y c2 son contadores independientes \n",
    "#cuanod se llama a c1 se incrementa el contador \n",
    "#cada ves que se llama se retorna y sume 1\n"
   ]
  },
  {
   "cell_type": "code",
   "execution_count": 15,
   "id": "1c091108",
   "metadata": {},
   "outputs": [
    {
     "data": {
      "text/plain": [
       "34"
      ]
     },
     "execution_count": 15,
     "metadata": {},
     "output_type": "execute_result"
    }
   ],
   "source": [
    "def cal(a,b):\n",
    "    return lambda x: a*x+b\n",
    "\n",
    "numero = cal(3,4)\n",
    "numero(10)\n",
    "\n",
    "numero = cal(10,2)\n",
    "numero(3)\n",
    "\n",
    "cal(3,4)(10)"
   ]
  },
  {
   "cell_type": "code",
   "execution_count": 18,
   "id": "ea6dd6a8",
   "metadata": {},
   "outputs": [
    {
     "name": "stdout",
     "output_type": "stream",
     "text": [
      "hello\n"
     ]
    }
   ],
   "source": [
    "def grettings():\n",
    "    def say_hi():\n",
    "        print(\"hello\")\n",
    "    say_hi()\n",
    "grettings()"
   ]
  },
  {
   "cell_type": "code",
   "execution_count": null,
   "id": "81d65714",
   "metadata": {},
   "outputs": [
    {
     "name": "stdout",
     "output_type": "stream",
     "text": [
      "<re.Match object; span=(0, 4), match='life'>\n",
      "None\n"
     ]
    }
   ],
   "source": [
    "#presiones regulares \n",
    "#matching con palabras en base de una expresion \n",
    "import re\n",
    "letra = \"life is too short, you need python\"\n",
    "letra2 = \"the act of my Life\"\n",
    "print(re.match(\"life\", letra)) #no hace match porque no empieza con life\n",
    "print(re.search(\"life\", letra2)) #busca en todo el texto y no encuentra \"life\" diferente a Life"
   ]
  },
  {
   "cell_type": "code",
   "execution_count": 8,
   "id": "0d76ecc9",
   "metadata": {},
   "outputs": [
    {
     "name": "stdout",
     "output_type": "stream",
     "text": [
      "20\n"
     ]
    },
    {
     "name": "stderr",
     "output_type": "stream",
     "text": [
      "<>:4: SyntaxWarning: invalid escape sequence '\\d'\n",
      "<>:4: SyntaxWarning: invalid escape sequence '\\d'\n",
      "C:\\Users\\alere\\AppData\\Local\\Temp\\ipykernel_31412\\1064302933.py:4: SyntaxWarning: invalid escape sequence '\\d'\n",
      "  match = re.search(\"\\d+\", texto)   # buscamos uno o más dígitos\n"
     ]
    }
   ],
   "source": [
    "import re\n",
    "texto = \"tengo 20 años\"\n",
    "\n",
    "match = re.search(\"\\d+\", texto)   # buscamos uno o más dígitos\n",
    "print(match.group())              # imprime '20'\n"
   ]
  },
  {
   "cell_type": "code",
   "execution_count": 9,
   "id": "8097a649",
   "metadata": {},
   "outputs": [
    {
     "name": "stdout",
     "output_type": "stream",
     "text": [
      "['20', '21']\n"
     ]
    },
    {
     "name": "stderr",
     "output_type": "stream",
     "text": [
      "<>:4: SyntaxWarning: invalid escape sequence '\\d'\n",
      "<>:4: SyntaxWarning: invalid escape sequence '\\d'\n",
      "C:\\Users\\alere\\AppData\\Local\\Temp\\ipykernel_31412\\4159707838.py:4: SyntaxWarning: invalid escape sequence '\\d'\n",
      "  matches = re.findall(\"\\d+\", texto)   # encuentra todos los números\n"
     ]
    }
   ],
   "source": [
    "import re\n",
    "texto = \"tengo 20 años y mi hermano tiene 21\"\n",
    "\n",
    "matches = re.findall(\"\\d+\", texto)   # encuentra todos los números\n",
    "print(matches)                       # ['20', '21']\n"
   ]
  },
  {
   "cell_type": "markdown",
   "id": "17fa2b6b",
   "metadata": {},
   "source": [
    "En Python, el carácter \\ dentro de un string normal \"...\" se interpreta como el inicio de una secuencia de escape (por ejemplo \\n, \\t, etc.).\n",
    "Como \\d no es una secuencia válida en Python, te suelta la advertencia.\n",
    "\n",
    "Esto no rompe el programa porque re entiende \\d como \"dígito\", pero Python antes te lanza el warning."
   ]
  },
  {
   "cell_type": "code",
   "execution_count": null,
   "id": "1f119214",
   "metadata": {},
   "outputs": [],
   "source": [
    "\n",
    "\n",
    "import re\n",
    "texto = \"tengo 20 años y mi hermano tiene 21\"\n",
    "\n",
    "matches = re.findall(r\"\\d+\", texto)   # r\"\" evita que Python procese \\\n",
    "print(matches)  # ['20', '21']\n"
   ]
  },
  {
   "cell_type": "markdown",
   "id": "5bcd3e2d",
   "metadata": {},
   "source": [
    "\\d\n",
    "\n",
    "Significa \"un dígito\" (0–9"
   ]
  },
  {
   "cell_type": "code",
   "execution_count": 10,
   "id": "4d7f9ae0",
   "metadata": {},
   "outputs": [
    {
     "data": {
      "text/plain": [
       "['1', '2', '3']"
      ]
     },
     "execution_count": 10,
     "metadata": {},
     "output_type": "execute_result"
    }
   ],
   "source": [
    "re.findall(r\"\\d\", \"abc 123\")\n"
   ]
  },
  {
   "cell_type": "markdown",
   "id": "37417bc5",
   "metadata": {},
   "source": [
    "\\d+\n",
    "\n",
    "+ significa “1 o más repeticiones”.\n",
    "\n",
    "Busca un bloque continuo de uno o más dígitos."
   ]
  },
  {
   "cell_type": "code",
   "execution_count": 11,
   "id": "2733a6c8",
   "metadata": {},
   "outputs": [
    {
     "data": {
      "text/plain": [
       "['123', '007']"
      ]
     },
     "execution_count": 11,
     "metadata": {},
     "output_type": "execute_result"
    }
   ],
   "source": [
    "re.findall(r\"\\d+\", \"abc 123 007\")\n"
   ]
  },
  {
   "cell_type": "markdown",
   "id": "c94631a0",
   "metadata": {},
   "source": [
    "\\d*\n",
    "\n",
    "* significa “0 o más repeticiones”.\n",
    "\n",
    "Eso incluye la posibilidad de ningún dígito.\n",
    "\n",
    "Es útil cuando quieres que algo pueda estar o no."
   ]
  },
  {
   "cell_type": "code",
   "execution_count": 12,
   "id": "f66abc1b",
   "metadata": {},
   "outputs": [
    {
     "data": {
      "text/plain": [
       "['', '', '', '', '123', '']"
      ]
     },
     "execution_count": 12,
     "metadata": {},
     "output_type": "execute_result"
    }
   ],
   "source": [
    "re.findall(r\"\\d*\", \"abc 123\")\n"
   ]
  },
  {
   "cell_type": "markdown",
   "id": "30e1cd98",
   "metadata": {},
   "source": [
    "numeros decimales?\n",
    "un punto es un caracter especial pero cualquier cosa \n",
    "por que hay un caracter de fin de cadena"
   ]
  },
  {
   "cell_type": "code",
   "execution_count": 13,
   "id": "6eb1c145",
   "metadata": {},
   "outputs": [
    {
     "name": "stdout",
     "output_type": "stream",
     "text": [
      "['20.', '2 ', '21']\n"
     ]
    }
   ],
   "source": [
    "\n",
    "\n",
    "import re\n",
    "texto = \"tengo 20.2 años y mi hermano tiene 21\"\n",
    "\n",
    "matches = re.findall(r\"\\d+.\", texto)   # r\"\" evita que Python procese \\\n",
    "print(matches)  # ['20', '21']\n"
   ]
  },
  {
   "cell_type": "markdown",
   "id": "cba79878",
   "metadata": {},
   "source": [
    "quiero que sea opcional el punto \n"
   ]
  },
  {
   "cell_type": "code",
   "execution_count": 14,
   "id": "b3e37b29",
   "metadata": {},
   "outputs": [
    {
     "ename": "NameError",
     "evalue": "name 'func1' is not defined",
     "output_type": "error",
     "traceback": [
      "\u001b[31m---------------------------------------------------------------------------\u001b[39m",
      "\u001b[31mNameError\u001b[39m                                 Traceback (most recent call last)",
      "\u001b[36mCell\u001b[39m\u001b[36m \u001b[39m\u001b[32mIn[14]\u001b[39m\u001b[32m, line 20\u001b[39m\n\u001b[32m     17\u001b[39m     \u001b[38;5;28;01mreturn\u001b[39;00m func1,func2\n\u001b[32m     19\u001b[39m \u001b[38;5;28mlist\u001b[39m = \u001b[38;5;28mrange\u001b[39m(\u001b[32m1\u001b[39m,\u001b[32m100\u001b[39m)\n\u001b[32m---> \u001b[39m\u001b[32m20\u001b[39m f2,f3 = \u001b[43mcun1\u001b[49m\u001b[43m(\u001b[49m\u001b[38;5;28;43mlist\u001b[39;49m\u001b[43m)\u001b[49m\n\u001b[32m     21\u001b[39m \u001b[38;5;28msorted\u001b[39m(f2(),f3())\n",
      "\u001b[36mCell\u001b[39m\u001b[36m \u001b[39m\u001b[32mIn[14]\u001b[39m\u001b[32m, line 17\u001b[39m, in \u001b[36mcun1\u001b[39m\u001b[34m(a)\u001b[39m\n\u001b[32m     13\u001b[39m             result2.append(i)\n\u001b[32m     14\u001b[39m     \u001b[38;5;28;01mreturn\u001b[39;00m result2\n\u001b[32m---> \u001b[39m\u001b[32m17\u001b[39m \u001b[38;5;28;01mreturn\u001b[39;00m \u001b[43mfunc1\u001b[49m,func2\n",
      "\u001b[31mNameError\u001b[39m: name 'func1' is not defined"
     ]
    }
   ],
   "source": [
    "def cun1(a):\n",
    "    def func2():\n",
    "        result1 = []\n",
    "        for i in a:\n",
    "            if i in a:\n",
    "                result1.append(i)\n",
    "        return result1\n",
    "    \n",
    "    def funci():\n",
    "        result2 = []\n",
    "        for i in a:\n",
    "            if i in a:\n",
    "                result2.append(i)\n",
    "        return result2\n",
    "\n",
    "\n",
    "    return func1,func2\n",
    "\n",
    "list = range(1,100)\n",
    "f2,f3 = cun1(list)\n",
    "sorted(f2(),f3())"
   ]
  }
 ],
 "metadata": {
  "kernelspec": {
   "display_name": "Python 3",
   "language": "python",
   "name": "python3"
  },
  "language_info": {
   "codemirror_mode": {
    "name": "ipython",
    "version": 3
   },
   "file_extension": ".py",
   "mimetype": "text/x-python",
   "name": "python",
   "nbconvert_exporter": "python",
   "pygments_lexer": "ipython3",
   "version": "3.13.7"
  }
 },
 "nbformat": 4,
 "nbformat_minor": 5
}
