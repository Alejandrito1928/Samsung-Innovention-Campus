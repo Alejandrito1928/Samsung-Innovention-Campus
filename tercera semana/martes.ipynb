{
 "cells": [
  {
   "cell_type": "code",
   "execution_count": null,
   "id": "bb991269",
   "metadata": {},
   "outputs": [],
   "source": [
    "#forma recursiva \n",
    "def factorial(n):\n",
    "    if n == 0:\n",
    "        return 1\n",
    "    else:\n",
    "        return n * factorial(n-1)\n",
    "\n",
    "factorial(5)"
   ]
  },
  {
   "cell_type": "code",
   "execution_count": 4,
   "id": "a637dc2c",
   "metadata": {},
   "outputs": [
    {
     "name": "stdout",
     "output_type": "stream",
     "text": [
      "120\n"
     ]
    }
   ],
   "source": [
    "def factorial(n):\n",
    "    resultado = 1\n",
    "    for i in range(1, n + 1):\n",
    "        resultado *= i\n",
    "    return resultado\n",
    "\n",
    "\n",
    "restultado = factorial(5)\n",
    "print(restultado)"
   ]
  },
  {
   "cell_type": "markdown",
   "id": "dc5cf996",
   "metadata": {},
   "source": [
    "bucle de factorial de (-1) es un bucle infinito y hay que pararlo a la fuerza"
   ]
  },
  {
   "cell_type": "code",
   "execution_count": null,
   "id": "3be3bc48",
   "metadata": {},
   "outputs": [
    {
     "data": {
      "text/plain": [
       "34"
      ]
     },
     "execution_count": 9,
     "metadata": {},
     "output_type": "execute_result"
    }
   ],
   "source": [
    "def fibonacci(n):\n",
    "    if n == 0:\n",
    "        return 0\n",
    "    elif n < 2:\n",
    "        return n\n",
    "    else:\n",
    "        return fibonacci(n-1) + fibonacci(n-2)\n",
    "    \n",
    "fibonacci(9)"
   ]
  },
  {
   "cell_type": "code",
   "execution_count": 11,
   "id": "f1022466",
   "metadata": {},
   "outputs": [
    {
     "name": "stdout",
     "output_type": "stream",
     "text": [
      "[0, 1, 1, 2, 3, 5, 8, 13, 21, 34]\n"
     ]
    }
   ],
   "source": [
    "def fibonacci_recursivo(n, serie=[0, 1]):\n",
    "    if n < len(serie):\n",
    "        return serie[:n+1]   # devuelve la lista hasta n\n",
    "    else:\n",
    "        serie.append(serie[-1] + serie[-2])\n",
    "        return fibonacci_recursivo(n, serie)\n",
    "    \n",
    "print(fibonacci_recursivo(9))\n",
    "\n"
   ]
  },
  {
   "cell_type": "code",
   "execution_count": null,
   "id": "82f66769",
   "metadata": {},
   "outputs": [],
   "source": [
    "#mi codigo\n",
    "def fibonacci(numero):\n",
    "    suma = 0\n",
    "    if numero == 0:\n",
    "        return 0 \n",
    "    elif numero < 2:\n",
    "        return 1\n",
    "    else:\n",
    "        for i in range(numero):\n",
    "            numero = (numero-1) + numero(-2)\n",
    "        return suma\n",
    "    \n",
    "a = fibonacci(9)\n",
    "print(a)            \n"
   ]
  },
  {
   "cell_type": "code",
   "execution_count": null,
   "id": "904e7cf0",
   "metadata": {},
   "outputs": [
    {
     "name": "stdout",
     "output_type": "stream",
     "text": [
      "34\n"
     ]
    }
   ],
   "source": [
    "#codigo corregido\n",
    "def fibonacci(numero):\n",
    "    if numero == 0:\n",
    "        return 0\n",
    "    elif numero == 1:\n",
    "        return 1\n",
    "    \n",
    "    a, b = 0, 1  # primeros dos números de la serie\n",
    "    for i in range(2, numero + 1):\n",
    "        a, b = b, a + b\n",
    "    return b\n",
    "\n",
    "a = fibonacci(9)\n",
    "print(a)  # 34\n"
   ]
  },
  {
   "cell_type": "code",
   "execution_count": 20,
   "id": "b7d4809b",
   "metadata": {},
   "outputs": [
    {
     "data": {
      "text/plain": [
       "55"
      ]
     },
     "execution_count": 20,
     "metadata": {},
     "output_type": "execute_result"
    }
   ],
   "source": [
    "def fibo_iter(n):\n",
    "    if n <= 1:\n",
    "        return 1\n",
    "    actual = 1\n",
    "    anterior = 1\n",
    "    for i in range(n-1):\n",
    "        siguiente = actual + anterior\n",
    "        anterior = actual\n",
    "        actual = siguiente\n",
    "    return actual\n",
    "\n",
    "fibo_iter(9) "
   ]
  },
  {
   "cell_type": "code",
   "execution_count": 19,
   "id": "e4536741",
   "metadata": {},
   "outputs": [
    {
     "name": "stdout",
     "output_type": "stream",
     "text": [
      "[1, 1, 2, 3, 5, 8, 13, 21, 34, 55]\n"
     ]
    }
   ],
   "source": [
    "def fibo_iter(n):\n",
    "    if n <= 1:\n",
    "        return 1\n",
    "    serie = [1,1]\n",
    "    for i in range(n-1):\n",
    "        serie.append(serie[-1]+serie[-2])\n",
    "    return serie\n",
    "\n",
    "print(fibo_iter(9))"
   ]
  },
  {
   "cell_type": "code",
   "execution_count": 22,
   "id": "00a2dc12",
   "metadata": {},
   "outputs": [
    {
     "name": "stdout",
     "output_type": "stream",
     "text": [
      "3.259999994043028e-05\n"
     ]
    }
   ],
   "source": [
    "from timeit import timeit\n",
    "\n",
    "print(timeit(\"fibonacci(30)\",setup=\"from __main__ import fibonacci\",number=10))\n"
   ]
  },
  {
   "cell_type": "code",
   "execution_count": 1,
   "id": "a7d25ac0",
   "metadata": {},
   "outputs": [
    {
     "data": {
      "text/plain": [
       "55"
      ]
     },
     "execution_count": 1,
     "metadata": {},
     "output_type": "execute_result"
    }
   ],
   "source": [
    "def a(n):\n",
    "    if n == 0:\n",
    "        return 0\n",
    "    elif n < 2:\n",
    "        return n\n",
    "    else:\n",
    "        return a(n-1) + a(n-2)\n",
    "    \n",
    "\n",
    "\n",
    "numero = 10\n",
    "\n",
    "a(numero)"
   ]
  },
  {
   "cell_type": "code",
   "execution_count": 5,
   "id": "d9941923",
   "metadata": {},
   "outputs": [
    {
     "data": {
      "text/plain": [
       "0.25"
      ]
     },
     "execution_count": 5,
     "metadata": {},
     "output_type": "execute_result"
    }
   ],
   "source": [
    "def potencia(base,exp):\n",
    "    if exp<0:\n",
    "        return 1 / potencia(base,-exp)\n",
    "    elif exp == 0:\n",
    "        return  1\n",
    "    else:\n",
    "        return base * potencia(base, exp-1)\n",
    "\n",
    "potencia(2,-2)"
   ]
  },
  {
   "cell_type": "markdown",
   "id": "b4515313",
   "metadata": {},
   "source": [
    "chr nos da el valor en ascci"
   ]
  },
  {
   "cell_type": "code",
   "execution_count": null,
   "id": "2105f892",
   "metadata": {},
   "outputs": [],
   "source": [
    "#exec sirve para ejecutar codigo en string\n",
    "#es peligroso usarlo porque puede ejecutar codigo malicioso\n",
    "r = input(\"ingresa un codigo: \")\n",
    "exec(r)"
   ]
  },
  {
   "cell_type": "markdown",
   "id": "b2c47c8c",
   "metadata": {},
   "source": [
    "sorted ordena la cadena pero devuelve la lista en caracteres\n",
    "con meotdo join"
   ]
  },
  {
   "cell_type": "code",
   "execution_count": 10,
   "id": "be993aab",
   "metadata": {},
   "outputs": [
    {
     "name": "stdout",
     "output_type": "stream",
     "text": [
      "2.0\n"
     ]
    }
   ],
   "source": [
    "def factorial(n):\n",
    "    if n == 0 or n == 1:\n",
    "        return 1\n",
    "    else:\n",
    "        return n * factorial(n-1)\n",
    "\n",
    "def sumaNs(n):\n",
    "    if n == 0:\n",
    "        return 1\n",
    "    else:\n",
    "        return sumaNs(n-1) + 1 / factorial(n)\n",
    "\n",
    "print(sumaNs(1))\n"
   ]
  }
 ],
 "metadata": {
  "kernelspec": {
   "display_name": "Python 3",
   "language": "python",
   "name": "python3"
  },
  "language_info": {
   "codemirror_mode": {
    "name": "ipython",
    "version": 3
   },
   "file_extension": ".py",
   "mimetype": "text/x-python",
   "name": "python",
   "nbconvert_exporter": "python",
   "pygments_lexer": "ipython3",
   "version": "3.13.7"
  }
 },
 "nbformat": 4,
 "nbformat_minor": 5
}
