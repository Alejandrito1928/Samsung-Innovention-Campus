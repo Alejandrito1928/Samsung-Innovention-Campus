{
 "cells": [
  {
   "cell_type": "markdown",
   "id": "7f1599ef",
   "metadata": {},
   "source": [
    "para hacer problemas gredyd o problemas Voraces \n",
    "1) un Subproblema\n",
    "2) probar eleccion greddy\n",
    "3) subestructura optima \n",
    "4) "
   ]
  }
 ],
 "metadata": {
  "language_info": {
   "name": "python"
  }
 },
 "nbformat": 4,
 "nbformat_minor": 5
}
