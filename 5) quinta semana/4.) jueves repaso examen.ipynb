{
 "cells": [
  {
   "cell_type": "code",
   "execution_count": 1,
   "id": "dd2266c3",
   "metadata": {},
   "outputs": [
    {
     "name": "stdout",
     "output_type": "stream",
     "text": [
      "3\n"
     ]
    }
   ],
   "source": [
    "memo = {}\n",
    "\n",
    "def fib(n):\n",
    "    if n in memo:\n",
    "        return memo[n]\n",
    "    if n <= 1:\n",
    "        return n\n",
    "    \n",
    "    result = fib(n - 1) + fib(n - 2)\n",
    "    memo[n] = result\n",
    "    return result\n",
    "\n",
    "print(fib(4))"
   ]
  },
  {
   "cell_type": "code",
   "execution_count": null,
   "id": "dc9964b4",
   "metadata": {},
   "outputs": [
    {
     "data": {
      "text/plain": [
       "True"
      ]
     },
     "execution_count": 3,
     "metadata": {},
     "output_type": "execute_result"
    },
    {
     "ename": "",
     "evalue": "",
     "output_type": "error",
     "traceback": [
      "\u001b[1;31mThe Kernel crashed while executing code in the current cell or a previous cell. \n",
      "\u001b[1;31mPlease review the code in the cell(s) to identify a possible cause of the failure. \n",
      "\u001b[1;31mClick <a href='https://aka.ms/vscodeJupyterKernelCrash'>here</a> for more info. \n",
      "\u001b[1;31mView Jupyter <a href='command:jupyter.viewOutput'>log</a> for further details."
     ]
    }
   ],
   "source": [
    "def es_prometedor(i, col):\n",
    "    k = 0\n",
    "    prometedor = True\n",
    "    while k < i and prometedor:\n",
    "        if col[i] == col[k] or abs(col[i] - col[k]) == i - k:\n",
    "            prometedor = False\n",
    "        k += 1\n",
    "    return prometedor\n",
    "\n",
    "# Estado del tablero:\n",
    "# Fila 0, Reina en columna 1\n",
    "# Fila 1, Reina en columna 3\n",
    "# Fila 2, Reina en columna 0 (la que estamos evaluando)\n",
    "col = [1, 3, 0] \n",
    "# La llamada a evaluar es \n",
    "es_prometedor(2, col)"
   ]
  }
 ],
 "metadata": {
  "kernelspec": {
   "display_name": "Python 3",
   "language": "python",
   "name": "python3"
  },
  "language_info": {
   "codemirror_mode": {
    "name": "ipython",
    "version": 3
   },
   "file_extension": ".py",
   "mimetype": "text/x-python",
   "name": "python",
   "nbconvert_exporter": "python",
   "pygments_lexer": "ipython3",
   "version": "3.13.8"
  }
 },
 "nbformat": 4,
 "nbformat_minor": 5
}
