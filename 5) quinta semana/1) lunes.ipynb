{
 "cells": [
  {
   "cell_type": "markdown",
   "id": "1802f295",
   "metadata": {},
   "source": [
    "#se empieza desde el principio "
   ]
  },
  {
   "cell_type": "code",
   "execution_count": null,
   "id": "6778dbd6",
   "metadata": {},
   "outputs": [],
   "source": [
    "def activity_selection(inicio, fin):\n",
    "    result = []\n",
    "    i = 0\n",
    "    result.append(i)\n",
    "    for j in range(1,len(inicio)):\n",
    "        if finish[i] <= start[j]:\n",
    "            result.append(j)\n",
    "            i = j\n",
    "        return result\n",
    "\n",
    "\n",
    "start = [1, 3, 0, 5, 8, 5]\n",
    "finish = [2, 4, 6, 7, 9, 9]\n",
    "print(activity_selection(start, finish))"
   ]
  },
  {
   "cell_type": "markdown",
   "id": "80033af2",
   "metadata": {},
   "source": [
    "repasar lamdba ejerciciso y entender la funcion \n"
   ]
  },
  {
   "cell_type": "code",
   "execution_count": 1,
   "id": "f000efd9",
   "metadata": {},
   "outputs": [
    {
     "name": "stdout",
     "output_type": "stream",
     "text": [
      "[(1, 2), (3, 4), (5, 7), (8, 9)]\n"
     ]
    }
   ],
   "source": [
    "def activity_selection(start, finish):\n",
    "    activities = sorted(zip(start, finish), key=lambda x: x[1])\n",
    "    result = []\n",
    "    last_finish = -1\n",
    "    for s, f in activities:\n",
    "        if s >= last_finish:\n",
    "            result.append((s, f))\n",
    "            last_finish = f\n",
    "    return result\n",
    "\n",
    "start = [1, 3, 0, 5, 8, 5]\n",
    "finish = [2, 4, 6, 7, 9, 9]\n",
    "print(activity_selection(start, finish))\n"
   ]
  },
  {
   "cell_type": "code",
   "execution_count": 5,
   "id": "ea93a35f",
   "metadata": {},
   "outputs": [
    {
     "name": "stdout",
     "output_type": "stream",
     "text": [
      "2\n"
     ]
    }
   ],
   "source": [
    "# Greedy Coin Change\n",
    "coins = [1, 5, 10, 25]\n",
    "amount = 30\n",
    "coins.sort(reverse=True)  # Ordena de mayor a menor\n",
    "num_coins = 0\n",
    "for coin in coins:\n",
    "    while amount >= coin:\n",
    "        amount -= coin\n",
    "        num_coins += 1\n",
    "print(num_coins)  # Salida: 2 (una de 25 y una de 5)\n"
   ]
  },
  {
   "cell_type": "markdown",
   "id": "35956fc4",
   "metadata": {},
   "source": [
    "while there are more coins and the oribkem is not solved :\n",
    "    grab the largest reaming coin:\n",
    "        if adding the coin doesnt make the change exced the amount \n",
    "            add the coin to the chage \n",
    "        if the total value of the change equals the amount owd \n",
    "            the probkem is solved"
   ]
  },
  {
   "cell_type": "code",
   "execution_count": null,
   "id": "72fb9f70",
   "metadata": {},
   "outputs": [
    {
     "name": "stdout",
     "output_type": "stream",
     "text": [
      "[25, 25, 10, 1, 1, 1]\n"
     ]
    }
   ],
   "source": [
    "def greedy_coin_change(coins, amount):\n",
    "    coins = sorted(coins, reverse=True)  # Ordena de mayor a menor\n",
    "    change = []\n",
    "    total = 0\n",
    "    i = 0  # índice para recorrer las monedas\n",
    "\n",
    "    while i < len(coins) and total < amount:\n",
    "        coin = coins[i]\n",
    "        # Mientras agregar la moneda no exceda el monto\n",
    "        if total + coin <= amount:\n",
    "            change.append(coin)\n",
    "            total += coin\n",
    "            # Si se llega al monto exacto, se resuelve el problema\n",
    "            if total == amount:\n",
    "                break\n",
    "        else:\n",
    "            # Pasa a la siguiente moneda (más pequeña)\n",
    "            i += 1\n",
    "    return change\n",
    "\n",
    "# Ejemplo de uso\n",
    "coins = [25, 10, 5, 1]\n",
    "amount = 63\n",
    "print(greedy_coin_change(coins, amount)) \n"
   ]
  },
  {
   "cell_type": "code",
   "execution_count": 14,
   "id": "62f50f46",
   "metadata": {},
   "outputs": [
    {
     "name": "stdout",
     "output_type": "stream",
     "text": [
      "[25, 25, 10, 1, 1, 1]\n"
     ]
    }
   ],
   "source": [
    "coins = [25, 10, 5, 1]\n",
    "amount = 63\n",
    "change = []\n",
    "total = 0\n",
    "\n",
    "for coin in coins:\n",
    "    while total + coin <= amount:\n",
    "        change.append(coin)\n",
    "        total += coin\n",
    "        if total == amount:\n",
    "            break\n",
    "    if total == amount:\n",
    "        break\n",
    "\n",
    "print(change)  # Resultado: [25, 25, 10, 1, 1, 1]\n"
   ]
  },
  {
   "cell_type": "code",
   "execution_count": 17,
   "id": "c345bf05",
   "metadata": {},
   "outputs": [
    {
     "name": "stdout",
     "output_type": "stream",
     "text": [
      "El cambio: [500, 100, 100, 10]. Falta de monedas: 3\n"
     ]
    }
   ],
   "source": [
    "def problem(coins, amount):\n",
    "    change = []\n",
    "    total = 0\n",
    "    for coin in coins:\n",
    "        while total + coin <= amount:\n",
    "            change.append(coin)\n",
    "            total += coin\n",
    "            if total == amount:\n",
    "                break\n",
    "        if total == amount:\n",
    "            break\n",
    "    \n",
    "    if total != amount:\n",
    "        falta = amount - total\n",
    "        return f\"El cambio: {change}. Falta de monedas: {falta}\"\n",
    "    else:\n",
    "        return f\"su compra finalizo bien: {change}\"\n",
    "\n",
    "coins = [500, 100, 50, 10]\n",
    "amount = 713\n",
    "print(problem(coins, amount))\n"
   ]
  },
  {
   "cell_type": "markdown",
   "id": "a0dbcbd2",
   "metadata": {},
   "source": [
    "repasar mas este problema \n",
    "def problem(coins, amount):\n",
    "    change = []\n",
    "    total = 0\n",
    "    for coin in coins:\n",
    "        while total + coin <= amount:\n",
    "            change.append(coin)\n",
    "            total += coin\n",
    "            if total == amount:\n",
    "                break\n",
    "\n",
    "    return change\n",
    "\n",
    "coins = [500, 100, 50, 10]\n",
    "amount = 710\n",
    "\n",
    "print(problem(coins,amount))\n",
    "\n"
   ]
  },
  {
   "cell_type": "markdown",
   "id": "9b9e0aa1",
   "metadata": {},
   "source": [
    "Minimum Triangle Path (Minimum Path Sum in a Triangle)\n",
    "entenderlo bien y repasarlo mejor "
   ]
  },
  {
   "cell_type": "code",
   "execution_count": null,
   "id": "14924e29",
   "metadata": {},
   "outputs": [
    {
     "name": "stdout",
     "output_type": "stream",
     "text": [
      "12\n"
     ]
    }
   ],
   "source": [
    "def find_minimum(row, col, triangle):\n",
    "    # Caso base: si estamos en la última fila, solo devolvemos ese valor\n",
    "    if row == len(triangle) - 1:\n",
    "        return triangle[row][col]\n",
    "    # Calcula el mínimo entre los dos caminos posibles hacia abajo\n",
    "    down = find_minimum(row + 1, col, triangle)\n",
    "    diagonal = find_minimum(row + 1, col + 1, triangle)\n",
    "    return triangle[row][col] + min(down, diagonal)\n",
    "\n",
    "# Ejemplo de uso:\n",
    "triangle = [\n",
    "    [2],\n",
    "    [3, 4],\n",
    "    [6, 5, 7],\n",
    "    [4, 1, 8, 3]\n",
    "]\n",
    "\n",
    "print(find_minimum(0, 0, triangle))  # Salida: 11\n"
   ]
  }
 ],
 "metadata": {
  "kernelspec": {
   "display_name": "Python 3",
   "language": "python",
   "name": "python3"
  },
  "language_info": {
   "codemirror_mode": {
    "name": "ipython",
    "version": 3
   },
   "file_extension": ".py",
   "mimetype": "text/x-python",
   "name": "python",
   "nbconvert_exporter": "python",
   "pygments_lexer": "ipython3",
   "version": "3.13.8"
  }
 },
 "nbformat": 4,
 "nbformat_minor": 5
}
