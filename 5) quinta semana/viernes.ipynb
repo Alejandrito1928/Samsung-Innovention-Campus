{
 "cells": [
  {
   "cell_type": "code",
   "execution_count": 3,
   "id": "bbe63a51",
   "metadata": {},
   "outputs": [
    {
     "name": "stdout",
     "output_type": "stream",
     "text": [
      "58\n"
     ]
    }
   ],
   "source": [
    "import fund_cal\n",
    "\n",
    "# Vamos a probar la función con un número, por ejemplo 10\n",
    "total_calculado = fund_cal.fund(11)\n",
    "\n",
    "print(total_calculado)"
   ]
  },
  {
   "cell_type": "code",
   "execution_count": null,
   "id": "6b5c1e6d",
   "metadata": {},
   "outputs": [],
   "source": [
    "import chart\n",
    "x = [1,1,1,2,1,3,4,1,5]\n",
    "chart.histogram(x)"
   ]
  },
  {
   "cell_type": "code",
   "execution_count": 6,
   "id": "3cb22a73",
   "metadata": {},
   "outputs": [
    {
     "name": "stdout",
     "output_type": "stream",
     "text": [
      "la donacion toal 78\n"
     ]
    }
   ],
   "source": [
    "import fund_cal \n",
    "\n",
    "def main():\n",
    "    t_str = input(\"ingrese el numeor de personas que van a participar: \")\n",
    "    t = int(t_str)\n",
    "    \n",
    "    total = fund_cal.fund(t)\n",
    "    \n",
    "    print(\"la donacion toal\", total)\n",
    "\n",
    "main()"
   ]
  },
  {
   "cell_type": "code",
   "execution_count": 1,
   "id": "ca30c418",
   "metadata": {},
   "outputs": [
    {
     "name": "stdout",
     "output_type": "stream",
     "text": [
      "resultado sumatorio 15\n"
     ]
    }
   ],
   "source": [
    "import fund_cal\n",
    "\n",
    "def main():\n",
    "    # Pide el número y conviértelo a entero (int)\n",
    "    n_str = input(\"ingrese el numero: \")\n",
    "    n = int(n_str)\n",
    "    \n",
    "    # Llama a la función correcta del módulo\n",
    "    resultado = fund_cal.sum_n(n)\n",
    "    \n",
    "    print(\"resultado sumatorio\", resultado)\n",
    "\n",
    "main()"
   ]
  },
  {
   "cell_type": "code",
   "execution_count": null,
   "id": "269d6eb6",
   "metadata": {},
   "outputs": [
    {
     "name": "stdout",
     "output_type": "stream",
     "text": [
      "Iniciando reloj...\n",
      "Hora: 19:18:44\n",
      "Hora: 19:18:45\n",
      "Hora: 19:18:46\n",
      "Hora: 19:18:47\n",
      "Hora: 19:18:48\n",
      "Hora: 19:18:49\n",
      "Hora: 19:18:50\n",
      "Hora: 19:18:51\n",
      "Hora: 19:18:52\n",
      "Hora: 19:18:53\n",
      "\n",
      "¡Tiempo finalizado!\n"
     ]
    }
   ],
   "source": [
    "import time\n",
    "\n",
    "print(\"Iniciando reloj...\")\n",
    "\n",
    "for i in range(10):\n",
    "    # [cite_start]La función strftime() permite dar formato a la fecha y hora[cite: 368, 382].\n",
    "    hora_actual = time.strftime(\"%H:%M:%S\", time.localtime())\n",
    "    \n",
    "    print(f\"Hora: {hora_actual}\")\n",
    "    \n",
    "    # [cite_start]Usamos time.sleep(1) para pausar la ejecución por 1 segundo[cite: 343, 365].\n",
    "    time.sleep(1)\n",
    "\n",
    "print(\"\\n¡Tiempo finalizado!\")"
   ]
  },
  {
   "cell_type": "code",
   "execution_count": 3,
   "id": "63bc997e",
   "metadata": {},
   "outputs": [
    {
     "name": "stdout",
     "output_type": "stream",
     "text": [
      "2025-10-17 19:18:29.922654\n"
     ]
    }
   ],
   "source": [
    "import datetime\n",
    "\n",
    "# Llama a la función now() del objeto datetime dentro del módulo datetime\n",
    "ahora = datetime.datetime.now()\n",
    "\n",
    "# Imprime la fecha y hora actuales\n",
    "print(ahora)"
   ]
  },
  {
   "cell_type": "code",
   "execution_count": 6,
   "id": "3f5cbde9",
   "metadata": {},
   "outputs": [
    {
     "name": "stdout",
     "output_type": "stream",
     "text": [
      "2025-10-17 19:21:58.807852\n",
      "2025\n",
      "10\n",
      "17\n",
      "19\n",
      "21\n"
     ]
    }
   ],
   "source": [
    "# Importa el módulo datetime, no el módulo time\n",
    "import datetime \n",
    "\n",
    "# La función correcta es datetime.datetime.now()\n",
    "now = datetime.datetime.now()\n",
    "\n",
    "# Muestra el objeto datetime completo\n",
    "print(now) \n",
    "\n",
    "# Muestra los atributos individuales\n",
    "print(now.year)\n",
    "print(now.month) # El atributo es 'month', no 'mounth'\n",
    "print(now.day)\n",
    "print(now.hour)\n",
    "print(now.minute)"
   ]
  },
  {
   "cell_type": "code",
   "execution_count": null,
   "id": "6b36e5a1",
   "metadata": {},
   "outputs": [],
   "source": [
    "from datetime import timedelta\n",
    "\n",
    "delta = timedelta(\n",
    "    days = 50,\n",
    "    seconds = 27 ,\n",
    "    microsegundos = 10,\n",
    "\n",
    ")"
   ]
  },
  {
   "cell_type": "code",
   "execution_count": 7,
   "id": "db06af4e",
   "metadata": {},
   "outputs": [
    {
     "data": {
      "text/plain": [
       "'c:\\\\todo\\\\samsung curso\\\\priemr aaprte\\\\5) quinta semana'"
      ]
     },
     "execution_count": 7,
     "metadata": {},
     "output_type": "execute_result"
    }
   ],
   "source": [
    "import os\n",
    "os.getcwd()"
   ]
  },
  {
   "cell_type": "code",
   "execution_count": 8,
   "id": "b035c2e4",
   "metadata": {},
   "outputs": [
    {
     "data": {
      "text/plain": [
       "['1) lunes.ipynb',\n",
       " '1.1) repaso Lunes.ipynb',\n",
       " '2) martes.ipynb',\n",
       " '3) miercoles.ipynb',\n",
       " '4.) jueves repaso examen.ipynb',\n",
       " '4.1) jueves.ipynb',\n",
       " 'fund_cal.py',\n",
       " 'viernes.ipynb',\n",
       " '__pycache__']"
      ]
     },
     "execution_count": 8,
     "metadata": {},
     "output_type": "execute_result"
    }
   ],
   "source": [
    "import os\n",
    "os.listdir()"
   ]
  },
  {
   "cell_type": "code",
   "execution_count": 9,
   "id": "dabb2bb0",
   "metadata": {},
   "outputs": [],
   "source": [
    "import os\n",
    "os.mkdir(\"Pruebas\")"
   ]
  },
  {
   "cell_type": "code",
   "execution_count": 10,
   "id": "c59c7c29",
   "metadata": {},
   "outputs": [],
   "source": [
    "import os\n",
    "os.rmdir(\"Pruebas\")"
   ]
  },
  {
   "cell_type": "code",
   "execution_count": 11,
   "id": "e8fc6dc2",
   "metadata": {},
   "outputs": [
    {
     "name": "stdout",
     "output_type": "stream",
     "text": [
      "Los múltiplos de 5 disponibles son: [0, 5, 10, 15, 20, 25, 30, 35, 40, 45, 50, 55, 60, 65, 70, 75, 80, 85, 90, 95, 100]\n",
      "Los 3 múltiplos seleccionados aleatoriamente son: [15, 35, 95]\n"
     ]
    }
   ],
   "source": [
    "import random\n",
    "\n",
    "multiplos_de_5 = list(range(0, 101, 5))\n",
    "\n",
    "seleccion_aleatoria = random.sample(multiplos_de_5, 3)\n",
    "\n",
    "\n",
    "print(f\"Los múltiplos de 5 disponibles son: {multiplos_de_5}\")\n",
    "print(f\"Los 3 múltiplos seleccionados aleatoriamente son: {seleccion_aleatoria}\")"
   ]
  },
  {
   "cell_type": "code",
   "execution_count": 12,
   "id": "ac07966f",
   "metadata": {},
   "outputs": [
    {
     "name": "stdout",
     "output_type": "stream",
     "text": [
      "--- Calculadora de Aniversarios ---\n",
      "\n",
      "-----------------------------------------\n",
      "La fecha especial que ingresaste es: 2022-09-15\n",
      "Tu aniversario de 100 días será el: 2022-12-24\n",
      "-----------------------------------------\n"
     ]
    }
   ],
   "source": [
    "from datetime import date, timedelta\n",
    "\n",
    "print(\"--- Calculadora de Aniversarios ---\")\n",
    "\n",
    "\n",
    "año = int(input(\"Ingresa el año (ej: 2025): \"))\n",
    "mes = int(input(\"Ingresa el mes (ej: 10): \"))\n",
    "dia = int(input(\"Ingresa el día (ej: 17): \"))\n",
    "\n",
    "\n",
    "fecha_especial = date(año, mes, dia)\n",
    "\n",
    "dias_a_sumar = int(input(\"¿Cuántos días quieres calcular para tu aniversario? (ej: 100): \"))\n",
    "\n",
    "\n",
    "intervalo_de_tiempo = timedelta(days=dias_a_sumar)\n",
    "\n",
    "fecha_aniversario = fecha_especial + intervalo_de_tiempo\n",
    "\n",
    "print(\"\\n-----------------------------------------\")\n",
    "print(f\"La fecha especial que ingresaste es: {fecha_especial}\")\n",
    "print(f\"Tu aniversario de {dias_a_sumar} días será el: {fecha_aniversario}\")\n",
    "print(\"-----------------------------------------\")"
   ]
  }
 ],
 "metadata": {
  "kernelspec": {
   "display_name": "data_science",
   "language": "python",
   "name": "python3"
  },
  "language_info": {
   "codemirror_mode": {
    "name": "ipython",
    "version": 3
   },
   "file_extension": ".py",
   "mimetype": "text/x-python",
   "name": "python",
   "nbconvert_exporter": "python",
   "pygments_lexer": "ipython3",
   "version": "3.10.18"
  }
 },
 "nbformat": 4,
 "nbformat_minor": 5
}
