{
 "cells": [
  {
   "cell_type": "code",
   "execution_count": 1,
   "id": "0feb9695",
   "metadata": {},
   "outputs": [
    {
     "name": "stdout",
     "output_type": "stream",
     "text": [
      "▇        \n",
      "▇        \n",
      "▇        \n",
      "▇        \n",
      "▇        \n",
      "▇        \n",
      "▇        \n",
      "▇        \n",
      "▇ ▇ ▇ ▇ ▇\n",
      "▇ ▇ ▇ ▇ ▇\n",
      "\n"
     ]
    }
   ],
   "source": [
    "import chart\n",
    "x = [1,1,1,2,1,3,4,1,5]\n",
    "chart.histogram(x)"
   ]
  }
 ],
 "metadata": {
  "kernelspec": {
   "display_name": "data_science",
   "language": "python",
   "name": "python3"
  },
  "language_info": {
   "codemirror_mode": {
    "name": "ipython",
    "version": 3
   },
   "file_extension": ".py",
   "mimetype": "text/x-python",
   "name": "python",
   "nbconvert_exporter": "python",
   "pygments_lexer": "ipython3",
   "version": "3.10.18"
  }
 },
 "nbformat": 4,
 "nbformat_minor": 5
}
